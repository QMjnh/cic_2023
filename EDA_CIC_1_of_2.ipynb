{
  "cells": [
    {
      "cell_type": "markdown",
      "source": [
        "Authors: Minh Le, Huy Nguyen, Diep Le\n",
        "\n",
        "Institution: Luther College"
      ],
      "metadata": {
        "id": "F2jRlF7ZXs2i"
      }
    },
    {
      "cell_type": "markdown",
      "metadata": {
        "id": "grYLq_dP3NZX"
      },
      "source": [
        "# import libs and dataset\n"
      ]
    },
    {
      "cell_type": "code",
      "source": [
        "! pip install -q kaggle\n",
        "from google.colab import files\n",
        "! mkdir ~/.kaggle\n",
        "! cp kaggle.json ~/.kaggle/\n",
        "! chmod 600 ~/.kaggle/kaggle.json"
      ],
      "metadata": {
        "id": "wJ6BWKdnWdQO"
      },
      "execution_count": null,
      "outputs": []
    },
    {
      "cell_type": "code",
      "execution_count": null,
      "metadata": {
        "colab": {
          "base_uri": "https://localhost:8080/"
        },
        "id": "26fzwtpjV-W9",
        "outputId": "cdf19e96-b1db-4c48-85c8-fac3dc485c56"
      },
      "outputs": [
        {
          "output_type": "stream",
          "name": "stdout",
          "text": [
            "Downloading corona-virus-report.zip to /content\n",
            "\r  0% 0.00/19.0M [00:00<?, ?B/s]\r 42% 8.00M/19.0M [00:00<00:00, 82.0MB/s]\n",
            "\r100% 19.0M/19.0M [00:00<00:00, 132MB/s] \n"
          ]
        }
      ],
      "source": [
        "! kaggle datasets download imdevskp/corona-virus-report"
      ]
    },
    {
      "cell_type": "code",
      "execution_count": null,
      "metadata": {
        "id": "-k8j6hutkwvQ"
      },
      "outputs": [],
      "source": [
        "! mkdir /content/dataset\n",
        "! mv /content/corona-virus-report.zip /content/dataset"
      ]
    },
    {
      "cell_type": "code",
      "execution_count": null,
      "metadata": {
        "colab": {
          "base_uri": "https://localhost:8080/"
        },
        "id": "GTl63uhNXVRN",
        "outputId": "64b50078-324a-4b95-d871-4cb05be50970"
      },
      "outputs": [
        {
          "output_type": "stream",
          "name": "stdout",
          "text": [
            "Archive:  /content/dataset/corona-virus-report.zip\n",
            "  inflating: /content/dataset/country_wise_latest.csv  \n",
            "  inflating: /content/dataset/covid_19_clean_complete.csv  \n",
            "  inflating: /content/dataset/day_wise.csv  \n",
            "  inflating: /content/dataset/full_grouped.csv  \n",
            "  inflating: /content/dataset/usa_county_wise.csv  \n",
            "  inflating: /content/dataset/worldometer_data.csv  \n"
          ]
        }
      ],
      "source": [
        "!unzip /content/dataset/corona-virus-report.zip -d /content/dataset/\n",
        "!rm /content/dataset/corona-virus-report.zip"
      ]
    },
    {
      "cell_type": "code",
      "execution_count": null,
      "metadata": {
        "colab": {
          "base_uri": "https://localhost:8080/"
        },
        "id": "OVCEta6HUoel",
        "outputId": "3ec71dbb-8b4b-48c3-c3ae-e4aaf5ad4c43"
      },
      "outputs": [
        {
          "output_type": "stream",
          "name": "stdout",
          "text": [
            "Requirement already satisfied: pycountry in /usr/local/lib/python3.10/dist-packages (22.3.5)\n",
            "Requirement already satisfied: setuptools in /usr/local/lib/python3.10/dist-packages (from pycountry) (67.7.2)\n"
          ]
        },
        {
          "output_type": "execute_result",
          "data": {
            "text/plain": [
              "['country_wise_latest.csv',\n",
              " 'worldometer_data.csv',\n",
              " 'day_wise.csv',\n",
              " 'covid_19_clean_complete.csv',\n",
              " 'full_grouped.csv',\n",
              " 'usa_county_wise.csv']"
            ]
          },
          "metadata": {},
          "execution_count": 56
        }
      ],
      "source": [
        "!pip install pycountry\n",
        "import numpy as np\n",
        "import pandas as pd\n",
        "import seaborn as sns\n",
        "import matplotlib.pyplot as plt\n",
        "import pycountry\n",
        "import plotly.graph_objects as go\n",
        "import plotly.express as px\n",
        "import plotly.io as pio\n",
        "pio.templates.default = \"plotly_dark\"\n",
        "from plotly.subplots import make_subplots\n",
        "\n",
        "from pathlib import Path\n",
        "data_dir = Path('/content/dataset')\n",
        "\n",
        "\n",
        "import os\n",
        "os.listdir(data_dir)"
      ]
    },
    {
      "cell_type": "markdown",
      "metadata": {
        "id": "AvirMUke1Ojw"
      },
      "source": [
        "## TERM NOTATIONS:\n",
        "1/ FIPS: FIPS codes, when referring to U.S. states and territories, are unique two-digit codes assigned to each state and territory for identification purposes. For Guam, the FIPS code is \"66\".\n",
        "\n",
        "2/ iso2: ISO 3166-1 alpha-2 (often referred to as ISO2): This is a two-letter code that represents countries\n",
        "\n",
        "3/ iso3: ISO 3166-1 alpha-3 (often referred to as ISO3): This is a three-letter code for countries\n",
        "\n",
        "4/ code3: ISO 3166-1 numeric (or numeric-3) codes are three-digit numbers used to represent countries and areas\n",
        "\n",
        "5/ UID: a numeric or alphanumeric string that is associated with a single entity within a given system"
      ]
    },
    {
      "cell_type": "markdown",
      "metadata": {
        "id": "0SG1b6mI5rcK"
      },
      "source": [
        "## CONVENTIONS:\n",
        "\n",
        "dataframe(df) of 1 dataset would be named: \"data_(name of dataset)\"\n",
        "e.g: data_full_grouped"
      ]
    },
    {
      "cell_type": "markdown",
      "metadata": {
        "id": "Iy6QD18DRo5G"
      },
      "source": [
        "# data mass transformation\n",
        "\n",
        "*   turn datatype into 'category' or 'quantitative:{float64} or {int64}' or 'datetime'\n",
        "\n"
      ]
    },
    {
      "cell_type": "code",
      "execution_count": null,
      "metadata": {
        "colab": {
          "base_uri": "https://localhost:8080/"
        },
        "id": "LJuZEe9H3mOl",
        "outputId": "f21821e9-f7e1-4b1b-8a9e-f11b1c177abf"
      },
      "outputs": [
        {
          "output_type": "stream",
          "name": "stdout",
          "text": [
            "['country_wise_latest', 'worldometer_data', 'day_wise', 'covid_19_clean_complete', 'full_grouped', 'usa_county_wise']\n",
            "['country_wise_latest.csv', 'worldometer_data.csv', 'day_wise.csv', 'covid_19_clean_complete.csv', 'full_grouped.csv', 'usa_county_wise.csv']\n"
          ]
        }
      ],
      "source": [
        "files=[]\n",
        "names=[]\n",
        "for i in os.listdir(data_dir):\n",
        "  files.append(i)\n",
        "  names.append(i[:-4])\n",
        "print(names)\n",
        "print(files)"
      ]
    },
    {
      "cell_type": "code",
      "execution_count": null,
      "metadata": {
        "id": "o0vO6Iv-fcnB"
      },
      "outputs": [],
      "source": [
        "for i in range(len(names)):\n",
        "  try: exec(f\"data_{names[i]} = pd.read_csv(data_dir/files[i], parse_dates=['Date'])\")\n",
        "  except: exec(f\"data_{names[i]} = pd.read_csv(data_dir/files[i])\")"
      ]
    },
    {
      "cell_type": "code",
      "execution_count": null,
      "metadata": {
        "id": "JkEzXbAwq7yJ"
      },
      "outputs": [],
      "source": [
        "for i in names:\n",
        "  exec(f\"cols_to_convert = data_{i}.select_dtypes(include='object').columns\")\n",
        "  exec(f\"data_{i}[cols_to_convert]=data_{i}[cols_to_convert].astype('category')\")\n",
        "\n",
        "#special cases:\n",
        "# TERM NOTATIONS:\n",
        "# 1/ FIPS: FIPS codes, when referring to U.S. states and territories, are unique two-digit codes assigned to each state and territory for identification purposes. For Guam, the FIPS code is \"66\".\n",
        "# 2/ iso2: ISO 3166-1 alpha-2 (often referred to as ISO2): This is a two-letter code that represents countries\n",
        "# 3/ iso3: ISO 3166-1 alpha-3 (often referred to as ISO3): This is a three-letter code for countries\n",
        "# 4/ code3: ISO 3166-1 numeric (or numeric-3) codes are three-digit numbers used to represent countries and areas\n",
        "# 5/ UID: a numeric or alphanumeric string that is associated with a single entity within a given system\n",
        "\n",
        "data_usa_county_wise[\"UID\"] = data_usa_county_wise[\"UID\"].astype('category')\n",
        "data_usa_county_wise[\"code3\"] = data_usa_county_wise[\"code3\"].astype('category')\n",
        "data_usa_county_wise[\"FIPS\"] = data_usa_county_wise[\"FIPS\"].astype('category')"
      ]
    },
    {
      "cell_type": "code",
      "execution_count": null,
      "metadata": {
        "colab": {
          "base_uri": "https://localhost:8080/"
        },
        "id": "oVq0XvfMwTpK",
        "outputId": "2d63d103-d32d-456c-88fe-f3a3786b8eaa"
      },
      "outputs": [
        {
          "output_type": "stream",
          "name": "stdout",
          "text": [
            "country_wise_latest\n",
            "<class 'pandas.core.frame.DataFrame'>\n",
            "RangeIndex: 187 entries, 0 to 186\n",
            "Data columns (total 15 columns):\n",
            " #   Column                  Non-Null Count  Dtype   \n",
            "---  ------                  --------------  -----   \n",
            " 0   Country/Region          187 non-null    category\n",
            " 1   Confirmed               187 non-null    int64   \n",
            " 2   Deaths                  187 non-null    int64   \n",
            " 3   Recovered               187 non-null    int64   \n",
            " 4   Active                  187 non-null    int64   \n",
            " 5   New cases               187 non-null    int64   \n",
            " 6   New deaths              187 non-null    int64   \n",
            " 7   New recovered           187 non-null    int64   \n",
            " 8   Deaths / 100 Cases      187 non-null    float64 \n",
            " 9   Recovered / 100 Cases   187 non-null    float64 \n",
            " 10  Deaths / 100 Recovered  187 non-null    float64 \n",
            " 11  Confirmed last week     187 non-null    int64   \n",
            " 12  1 week change           187 non-null    int64   \n",
            " 13  1 week % increase       187 non-null    float64 \n",
            " 14  WHO Region              187 non-null    category\n",
            "dtypes: category(2), float64(4), int64(9)\n",
            "memory usage: 25.4 KB\n",
            "\n",
            "worldometer_data\n",
            "<class 'pandas.core.frame.DataFrame'>\n",
            "RangeIndex: 209 entries, 0 to 208\n",
            "Data columns (total 16 columns):\n",
            " #   Column            Non-Null Count  Dtype   \n",
            "---  ------            --------------  -----   \n",
            " 0   Country/Region    209 non-null    category\n",
            " 1   Continent         208 non-null    category\n",
            " 2   Population        208 non-null    float64 \n",
            " 3   TotalCases        209 non-null    int64   \n",
            " 4   NewCases          4 non-null      float64 \n",
            " 5   TotalDeaths       188 non-null    float64 \n",
            " 6   NewDeaths         3 non-null      float64 \n",
            " 7   TotalRecovered    205 non-null    float64 \n",
            " 8   NewRecovered      3 non-null      float64 \n",
            " 9   ActiveCases       205 non-null    float64 \n",
            " 10  Serious,Critical  122 non-null    float64 \n",
            " 11  Tot Cases/1M pop  208 non-null    float64 \n",
            " 12  Deaths/1M pop     187 non-null    float64 \n",
            " 13  TotalTests        191 non-null    float64 \n",
            " 14  Tests/1M pop      191 non-null    float64 \n",
            " 15  WHO Region        184 non-null    category\n",
            "dtypes: category(3), float64(12), int64(1)\n",
            "memory usage: 32.3 KB\n",
            "\n",
            "day_wise\n",
            "<class 'pandas.core.frame.DataFrame'>\n",
            "RangeIndex: 188 entries, 0 to 187\n",
            "Data columns (total 12 columns):\n",
            " #   Column                  Non-Null Count  Dtype         \n",
            "---  ------                  --------------  -----         \n",
            " 0   Date                    188 non-null    datetime64[ns]\n",
            " 1   Confirmed               188 non-null    int64         \n",
            " 2   Deaths                  188 non-null    int64         \n",
            " 3   Recovered               188 non-null    int64         \n",
            " 4   Active                  188 non-null    int64         \n",
            " 5   New cases               188 non-null    int64         \n",
            " 6   New deaths              188 non-null    int64         \n",
            " 7   New recovered           188 non-null    int64         \n",
            " 8   Deaths / 100 Cases      188 non-null    float64       \n",
            " 9   Recovered / 100 Cases   188 non-null    float64       \n",
            " 10  Deaths / 100 Recovered  188 non-null    float64       \n",
            " 11  No. of countries        188 non-null    int64         \n",
            "dtypes: datetime64[ns](1), float64(3), int64(8)\n",
            "memory usage: 17.8 KB\n",
            "\n",
            "covid_19_clean_complete\n",
            "<class 'pandas.core.frame.DataFrame'>\n",
            "RangeIndex: 49068 entries, 0 to 49067\n",
            "Data columns (total 10 columns):\n",
            " #   Column          Non-Null Count  Dtype         \n",
            "---  ------          --------------  -----         \n",
            " 0   Province/State  14664 non-null  category      \n",
            " 1   Country/Region  49068 non-null  category      \n",
            " 2   Lat             49068 non-null  float64       \n",
            " 3   Long            49068 non-null  float64       \n",
            " 4   Date            49068 non-null  datetime64[ns]\n",
            " 5   Confirmed       49068 non-null  int64         \n",
            " 6   Deaths          49068 non-null  int64         \n",
            " 7   Recovered       49068 non-null  int64         \n",
            " 8   Active          49068 non-null  int64         \n",
            " 9   WHO Region      49068 non-null  category      \n",
            "dtypes: category(3), datetime64[ns](1), float64(2), int64(4)\n",
            "memory usage: 2.8 MB\n",
            "\n",
            "full_grouped\n",
            "<class 'pandas.core.frame.DataFrame'>\n",
            "RangeIndex: 35156 entries, 0 to 35155\n",
            "Data columns (total 10 columns):\n",
            " #   Column          Non-Null Count  Dtype         \n",
            "---  ------          --------------  -----         \n",
            " 0   Date            35156 non-null  datetime64[ns]\n",
            " 1   Country/Region  35156 non-null  category      \n",
            " 2   Confirmed       35156 non-null  int64         \n",
            " 3   Deaths          35156 non-null  int64         \n",
            " 4   Recovered       35156 non-null  int64         \n",
            " 5   Active          35156 non-null  int64         \n",
            " 6   New cases       35156 non-null  int64         \n",
            " 7   New deaths      35156 non-null  int64         \n",
            " 8   New recovered   35156 non-null  int64         \n",
            " 9   WHO Region      35156 non-null  category      \n",
            "dtypes: category(2), datetime64[ns](1), int64(7)\n",
            "memory usage: 2.3 MB\n",
            "\n",
            "usa_county_wise\n",
            "<class 'pandas.core.frame.DataFrame'>\n",
            "RangeIndex: 627920 entries, 0 to 627919\n",
            "Data columns (total 14 columns):\n",
            " #   Column          Non-Null Count   Dtype         \n",
            "---  ------          --------------   -----         \n",
            " 0   UID             627920 non-null  category      \n",
            " 1   iso2            627920 non-null  category      \n",
            " 2   iso3            627920 non-null  category      \n",
            " 3   code3           627920 non-null  category      \n",
            " 4   FIPS            626040 non-null  category      \n",
            " 5   Admin2          626792 non-null  category      \n",
            " 6   Province_State  627920 non-null  category      \n",
            " 7   Country_Region  627920 non-null  category      \n",
            " 8   Lat             627920 non-null  float64       \n",
            " 9   Long_           627920 non-null  float64       \n",
            " 10  Combined_Key    627920 non-null  category      \n",
            " 11  Date            627920 non-null  datetime64[ns]\n",
            " 12  Confirmed       627920 non-null  int64         \n",
            " 13  Deaths          627920 non-null  int64         \n",
            "dtypes: category(9), datetime64[ns](1), float64(2), int64(2)\n",
            "memory usage: 32.3 MB\n",
            "\n"
          ]
        }
      ],
      "source": [
        "for i in names:\n",
        "  print(i)\n",
        "  exec(f'data_{i}.info()')\n",
        "  print()"
      ]
    },
    {
      "cell_type": "code",
      "execution_count": null,
      "metadata": {
        "colab": {
          "base_uri": "https://localhost:8080/"
        },
        "id": "-P9fROJYFVHF",
        "outputId": "960c3153-d326-4815-d822-de671c5069ad"
      },
      "outputs": [
        {
          "output_type": "stream",
          "name": "stdout",
          "text": [
            "row_country_wise_latest: 187\n",
            "column_country_wise_latest: 15\n",
            "row_worldometer_data: 209\n",
            "column_worldometer_data: 16\n",
            "row_day_wise: 188\n",
            "column_day_wise: 12\n",
            "row_covid_19_clean_complete: 49068\n",
            "column_covid_19_clean_complete: 10\n",
            "row_full_grouped: 35156\n",
            "column_full_grouped: 10\n",
            "row_usa_county_wise: 627920\n",
            "column_usa_county_wise: 14\n"
          ]
        }
      ],
      "source": [
        "dataframes = {}\n",
        "\n",
        "# Load dataframes into the dictionary\n",
        "for name in names:\n",
        "    dataframes[name] = globals()[f\"data_{name}\"]\n",
        "\n",
        "results = {}\n",
        "\n",
        "for name, df in dataframes.items():\n",
        "    rows, cols = df.shape\n",
        "    results[f\"row_{name}\"] = rows\n",
        "    results[f\"column_{name}\"] = cols\n",
        "\n",
        "for key, value in results.items():\n",
        "    print(f\"{key}: {value}\")"
      ]
    },
    {
      "cell_type": "code",
      "execution_count": null,
      "metadata": {
        "colab": {
          "base_uri": "https://localhost:8080/"
        },
        "id": "ssSLO0W0NTpp",
        "outputId": "775f5767-41a0-4b2b-882b-caa1fb971cd7"
      },
      "outputs": [
        {
          "output_type": "stream",
          "name": "stdout",
          "text": [
            "country_wise_latest's Column Names:\n",
            " Index(['Country/Region', 'Confirmed', 'Deaths', 'Recovered', 'Active',\n",
            "       'New cases', 'New deaths', 'New recovered', 'Deaths / 100 Cases',\n",
            "       'Recovered / 100 Cases', 'Deaths / 100 Recovered',\n",
            "       'Confirmed last week', '1 week change', '1 week % increase',\n",
            "       'WHO Region'],\n",
            "      dtype='object')\n",
            "Data Types:\n",
            " Country/Region            category\n",
            "Confirmed                    int64\n",
            "Deaths                       int64\n",
            "Recovered                    int64\n",
            "Active                       int64\n",
            "New cases                    int64\n",
            "New deaths                   int64\n",
            "New recovered                int64\n",
            "Deaths / 100 Cases         float64\n",
            "Recovered / 100 Cases      float64\n",
            "Deaths / 100 Recovered     float64\n",
            "Confirmed last week          int64\n",
            "1 week change                int64\n",
            "1 week % increase          float64\n",
            "WHO Region                category\n",
            "dtype: object\n",
            "Missing Values:\n",
            " Country/Region            0\n",
            "Confirmed                 0\n",
            "Deaths                    0\n",
            "Recovered                 0\n",
            "Active                    0\n",
            "New cases                 0\n",
            "New deaths                0\n",
            "New recovered             0\n",
            "Deaths / 100 Cases        0\n",
            "Recovered / 100 Cases     0\n",
            "Deaths / 100 Recovered    0\n",
            "Confirmed last week       0\n",
            "1 week change             0\n",
            "1 week % increase         0\n",
            "WHO Region                0\n",
            "dtype: int64\n",
            "worldometer_data's Column Names:\n",
            " Index(['Country/Region', 'Continent', 'Population', 'TotalCases', 'NewCases',\n",
            "       'TotalDeaths', 'NewDeaths', 'TotalRecovered', 'NewRecovered',\n",
            "       'ActiveCases', 'Serious,Critical', 'Tot Cases/1M pop', 'Deaths/1M pop',\n",
            "       'TotalTests', 'Tests/1M pop', 'WHO Region'],\n",
            "      dtype='object')\n",
            "Data Types:\n",
            " Country/Region      category\n",
            "Continent           category\n",
            "Population           float64\n",
            "TotalCases             int64\n",
            "NewCases             float64\n",
            "TotalDeaths          float64\n",
            "NewDeaths            float64\n",
            "TotalRecovered       float64\n",
            "NewRecovered         float64\n",
            "ActiveCases          float64\n",
            "Serious,Critical     float64\n",
            "Tot Cases/1M pop     float64\n",
            "Deaths/1M pop        float64\n",
            "TotalTests           float64\n",
            "Tests/1M pop         float64\n",
            "WHO Region          category\n",
            "dtype: object\n",
            "Missing Values:\n",
            " Country/Region        0\n",
            "Continent             1\n",
            "Population            1\n",
            "TotalCases            0\n",
            "NewCases            205\n",
            "TotalDeaths          21\n",
            "NewDeaths           206\n",
            "TotalRecovered        4\n",
            "NewRecovered        206\n",
            "ActiveCases           4\n",
            "Serious,Critical     87\n",
            "Tot Cases/1M pop      1\n",
            "Deaths/1M pop        22\n",
            "TotalTests           18\n",
            "Tests/1M pop         18\n",
            "WHO Region           25\n",
            "dtype: int64\n",
            "day_wise's Column Names:\n",
            " Index(['Date', 'Confirmed', 'Deaths', 'Recovered', 'Active', 'New cases',\n",
            "       'New deaths', 'New recovered', 'Deaths / 100 Cases',\n",
            "       'Recovered / 100 Cases', 'Deaths / 100 Recovered', 'No. of countries'],\n",
            "      dtype='object')\n",
            "Data Types:\n",
            " Date                      datetime64[ns]\n",
            "Confirmed                          int64\n",
            "Deaths                             int64\n",
            "Recovered                          int64\n",
            "Active                             int64\n",
            "New cases                          int64\n",
            "New deaths                         int64\n",
            "New recovered                      int64\n",
            "Deaths / 100 Cases               float64\n",
            "Recovered / 100 Cases            float64\n",
            "Deaths / 100 Recovered           float64\n",
            "No. of countries                   int64\n",
            "dtype: object\n",
            "Missing Values:\n",
            " Date                      0\n",
            "Confirmed                 0\n",
            "Deaths                    0\n",
            "Recovered                 0\n",
            "Active                    0\n",
            "New cases                 0\n",
            "New deaths                0\n",
            "New recovered             0\n",
            "Deaths / 100 Cases        0\n",
            "Recovered / 100 Cases     0\n",
            "Deaths / 100 Recovered    0\n",
            "No. of countries          0\n",
            "dtype: int64\n",
            "covid_19_clean_complete's Column Names:\n",
            " Index(['Province/State', 'Country/Region', 'Lat', 'Long', 'Date', 'Confirmed',\n",
            "       'Deaths', 'Recovered', 'Active', 'WHO Region'],\n",
            "      dtype='object')\n",
            "Data Types:\n",
            " Province/State          category\n",
            "Country/Region          category\n",
            "Lat                      float64\n",
            "Long                     float64\n",
            "Date              datetime64[ns]\n",
            "Confirmed                  int64\n",
            "Deaths                     int64\n",
            "Recovered                  int64\n",
            "Active                     int64\n",
            "WHO Region              category\n",
            "dtype: object\n",
            "Missing Values:\n",
            " Province/State    34404\n",
            "Country/Region        0\n",
            "Lat                   0\n",
            "Long                  0\n",
            "Date                  0\n",
            "Confirmed             0\n",
            "Deaths                0\n",
            "Recovered             0\n",
            "Active                0\n",
            "WHO Region            0\n",
            "dtype: int64\n",
            "full_grouped's Column Names:\n",
            " Index(['Date', 'Country/Region', 'Confirmed', 'Deaths', 'Recovered', 'Active',\n",
            "       'New cases', 'New deaths', 'New recovered', 'WHO Region'],\n",
            "      dtype='object')\n",
            "Data Types:\n",
            " Date              datetime64[ns]\n",
            "Country/Region          category\n",
            "Confirmed                  int64\n",
            "Deaths                     int64\n",
            "Recovered                  int64\n",
            "Active                     int64\n",
            "New cases                  int64\n",
            "New deaths                 int64\n",
            "New recovered              int64\n",
            "WHO Region              category\n",
            "dtype: object\n",
            "Missing Values:\n",
            " Date              0\n",
            "Country/Region    0\n",
            "Confirmed         0\n",
            "Deaths            0\n",
            "Recovered         0\n",
            "Active            0\n",
            "New cases         0\n",
            "New deaths        0\n",
            "New recovered     0\n",
            "WHO Region        0\n",
            "dtype: int64\n",
            "usa_county_wise's Column Names:\n",
            " Index(['UID', 'iso2', 'iso3', 'code3', 'FIPS', 'Admin2', 'Province_State',\n",
            "       'Country_Region', 'Lat', 'Long_', 'Combined_Key', 'Date', 'Confirmed',\n",
            "       'Deaths'],\n",
            "      dtype='object')\n",
            "Data Types:\n",
            " UID                     category\n",
            "iso2                    category\n",
            "iso3                    category\n",
            "code3                   category\n",
            "FIPS                    category\n",
            "Admin2                  category\n",
            "Province_State          category\n",
            "Country_Region          category\n",
            "Lat                      float64\n",
            "Long_                    float64\n",
            "Combined_Key            category\n",
            "Date              datetime64[ns]\n",
            "Confirmed                  int64\n",
            "Deaths                     int64\n",
            "dtype: object\n",
            "Missing Values:\n",
            " UID                  0\n",
            "iso2                 0\n",
            "iso3                 0\n",
            "code3                0\n",
            "FIPS              1880\n",
            "Admin2            1128\n",
            "Province_State       0\n",
            "Country_Region       0\n",
            "Lat                  0\n",
            "Long_                0\n",
            "Combined_Key         0\n",
            "Date                 0\n",
            "Confirmed            0\n",
            "Deaths               0\n",
            "dtype: int64\n"
          ]
        }
      ],
      "source": [
        "for name, df in dataframes.items():\n",
        "  column_names = df.columns\n",
        "  print(f\"{name}'s Column Names:\\n\", column_names)\n",
        "  data_types = df.dtypes\n",
        "  print(\"Data Types:\\n\", data_types)\n",
        "  missing_values = df.isnull().sum()\n",
        "  print(\"Missing Values:\\n\", missing_values)\n"
      ]
    },
    {
      "cell_type": "code",
      "execution_count": null,
      "metadata": {
        "colab": {
          "base_uri": "https://localhost:8080/"
        },
        "id": "YBXYl_74xhKt",
        "outputId": "b56323b4-0b18-4dfc-e77c-c485ec335792"
      },
      "outputs": [
        {
          "output_type": "stream",
          "name": "stdout",
          "text": [
            "country_wise_latest Summary Statistics:\n",
            "           Confirmed         Deaths     Recovered        Active     New cases  \\\n",
            "count  1.870000e+02     187.000000  1.870000e+02  1.870000e+02    187.000000   \n",
            "mean   8.813094e+04    3497.518717  5.063148e+04  3.400194e+04   1222.957219   \n",
            "std    3.833187e+05   14100.002482  1.901882e+05  2.133262e+05   5710.374790   \n",
            "min    1.000000e+01       0.000000  0.000000e+00  0.000000e+00      0.000000   \n",
            "25%    1.114000e+03      18.500000  6.265000e+02  1.415000e+02      4.000000   \n",
            "50%    5.059000e+03     108.000000  2.815000e+03  1.600000e+03     49.000000   \n",
            "75%    4.046050e+04     734.000000  2.260600e+04  9.149000e+03    419.500000   \n",
            "max    4.290259e+06  148011.000000  1.846641e+06  2.816444e+06  56336.000000   \n",
            "\n",
            "        New deaths  New recovered  Deaths / 100 Cases  Recovered / 100 Cases  \\\n",
            "count   187.000000     187.000000          187.000000             187.000000   \n",
            "mean     28.957219     933.812834            3.019519              64.820535   \n",
            "std     120.037173    4197.719635            3.454302              26.287694   \n",
            "min       0.000000       0.000000            0.000000               0.000000   \n",
            "25%       0.000000       0.000000            0.945000              48.770000   \n",
            "50%       1.000000      22.000000            2.150000              71.320000   \n",
            "75%       6.000000     221.000000            3.875000              86.885000   \n",
            "max    1076.000000   33728.000000           28.560000             100.000000   \n",
            "\n",
            "       Deaths / 100 Recovered  Confirmed last week  1 week change  \\\n",
            "count                  187.00         1.870000e+02     187.000000   \n",
            "mean                      inf         7.868248e+04    9448.459893   \n",
            "std                       NaN         3.382737e+05   47491.127684   \n",
            "min                      0.00         1.000000e+01     -47.000000   \n",
            "25%                      1.45         1.051500e+03      49.000000   \n",
            "50%                      3.62         5.020000e+03     432.000000   \n",
            "75%                      6.44         3.708050e+04    3172.000000   \n",
            "max                       inf         3.834677e+06  455582.000000   \n",
            "\n",
            "       1 week % increase  \n",
            "count         187.000000  \n",
            "mean           13.606203  \n",
            "std            24.509838  \n",
            "min            -3.840000  \n",
            "25%             2.775000  \n",
            "50%             6.890000  \n",
            "75%            16.855000  \n",
            "max           226.320000   \n",
            "\n",
            "worldometer_data Summary Statistics:\n",
            "          Population    TotalCases     NewCases    TotalDeaths   NewDeaths  \\\n",
            "count  2.080000e+02  2.090000e+02     4.000000     188.000000    3.000000   \n",
            "mean   3.041549e+07  9.171850e+04  1980.500000    3792.590426  300.000000   \n",
            "std    1.047661e+08  4.325867e+05  3129.611424   15487.184877  451.199512   \n",
            "min    8.010000e+02  1.000000e+01    20.000000       1.000000    1.000000   \n",
            "25%    9.663140e+05  7.120000e+02    27.500000      22.000000   40.500000   \n",
            "50%    7.041972e+06  4.491000e+03   656.000000     113.000000   80.000000   \n",
            "75%    2.575614e+07  3.689600e+04  2609.000000     786.000000  449.500000   \n",
            "max    1.381345e+09  5.032179e+06  6590.000000  162804.000000  819.000000   \n",
            "\n",
            "       TotalRecovered  NewRecovered   ActiveCases  Serious,Critical  \\\n",
            "count    2.050000e+02      3.000000  2.050000e+02        122.000000   \n",
            "mean     5.887898e+04   1706.000000  2.766433e+04        534.393443   \n",
            "std      2.566984e+05   2154.779803  1.746327e+05       2047.518613   \n",
            "min      7.000000e+00     42.000000  0.000000e+00          1.000000   \n",
            "25%      3.340000e+02    489.000000  8.600000e+01          3.250000   \n",
            "50%      2.178000e+03    936.000000  8.990000e+02         27.500000   \n",
            "75%      2.055300e+04   2538.000000  7.124000e+03        160.250000   \n",
            "max      2.576668e+06   4140.000000  2.292707e+06      18296.000000   \n",
            "\n",
            "       Tot Cases/1M pop  Deaths/1M pop    TotalTests   Tests/1M pop  \n",
            "count        208.000000     187.000000  1.910000e+02     191.000000  \n",
            "mean        3196.024038      98.681176  1.402405e+06   83959.366492  \n",
            "std         5191.986457     174.956862  5.553367e+06  152730.591240  \n",
            "min            3.000000       0.080000  6.100000e+01       4.000000  \n",
            "25%          282.000000       6.000000  2.575200e+04    8956.500000  \n",
            "50%         1015.000000      29.000000  1.357020e+05   32585.000000  \n",
            "75%         3841.750000      98.000000  7.576960e+05   92154.500000  \n",
            "max        39922.000000    1238.000000  6.313960e+07  995282.000000   \n",
            "\n",
            "day_wise Summary Statistics:\n",
            "           Confirmed         Deaths     Recovered        Active      New cases  \\\n",
            "count  1.880000e+02     188.000000  1.880000e+02  1.880000e+02     188.000000   \n",
            "mean   4.406960e+06  230770.760638  2.066001e+06  2.110188e+06   87771.021277   \n",
            "std    4.757988e+06  217929.094183  2.627976e+06  1.969670e+06   75295.293255   \n",
            "min    5.550000e+02      17.000000  2.800000e+01  5.100000e+02       0.000000   \n",
            "25%    1.121910e+05    3935.000000  6.044125e+04  5.864175e+04    5568.500000   \n",
            "50%    2.848733e+06  204190.000000  7.847840e+05  1.859759e+06   81114.000000   \n",
            "75%    7.422046e+06  418634.500000  3.416396e+06  3.587015e+06  131502.500000   \n",
            "max    1.648048e+07  654036.000000  9.468087e+06  6.358362e+06  282756.000000   \n",
            "\n",
            "        New deaths  New recovered  Deaths / 100 Cases  Recovered / 100 Cases  \\\n",
            "count   188.000000     188.000000          188.000000             188.000000   \n",
            "mean   3478.824468   50362.015957            4.860638              34.343936   \n",
            "std    2537.735652   56090.892479            1.579541              16.206159   \n",
            "min       0.000000       0.000000            2.040000               1.710000   \n",
            "25%     250.750000    2488.250000            3.510000              22.785000   \n",
            "50%    4116.000000   30991.500000            4.850000              35.680000   \n",
            "75%    5346.000000   79706.250000            6.297500              48.945000   \n",
            "max    9966.000000  284394.000000            7.180000              57.450000   \n",
            "\n",
            "       Deaths / 100 Recovered  No. of countries  \n",
            "count              188.000000        188.000000  \n",
            "mean                22.104521        144.351064  \n",
            "std                 22.568307         65.175979  \n",
            "min                  6.260000          6.000000  \n",
            "25%                  9.650000        101.250000  \n",
            "50%                 15.380000        184.000000  \n",
            "75%                 25.342500        187.000000  \n",
            "max                134.430000        187.000000   \n",
            "\n",
            "covid_19_clean_complete Summary Statistics:\n",
            "                 Lat          Long     Confirmed         Deaths     Recovered  \\\n",
            "count  49068.000000  49068.000000  4.906800e+04   49068.000000  4.906800e+04   \n",
            "mean      21.433730     23.528236  1.688490e+04     884.179160  7.915713e+03   \n",
            "std       24.950320     70.442740  1.273002e+05    6313.584411  5.480092e+04   \n",
            "min      -51.796300   -135.000000  0.000000e+00       0.000000  0.000000e+00   \n",
            "25%        7.873054    -15.310100  4.000000e+00       0.000000  0.000000e+00   \n",
            "50%       23.634500     21.745300  1.680000e+02       2.000000  2.900000e+01   \n",
            "75%       41.204380     80.771797  1.518250e+03      30.000000  6.660000e+02   \n",
            "max       71.706900    178.065000  4.290259e+06  148011.000000  1.846641e+06   \n",
            "\n",
            "             Active  \n",
            "count  4.906800e+04  \n",
            "mean   8.085012e+03  \n",
            "std    7.625890e+04  \n",
            "min   -1.400000e+01  \n",
            "25%    0.000000e+00  \n",
            "50%    2.600000e+01  \n",
            "75%    6.060000e+02  \n",
            "max    2.816444e+06   \n",
            "\n",
            "full_grouped Summary Statistics:\n",
            "           Confirmed         Deaths     Recovered        Active    New cases  \\\n",
            "count  3.515600e+04   35156.000000  3.515600e+04  3.515600e+04  35156.00000   \n",
            "mean   2.356663e+04    1234.068239  1.104813e+04  1.128443e+04    469.36375   \n",
            "std    1.499818e+05    7437.238354  6.454640e+04  8.997149e+04   3005.86754   \n",
            "min    0.000000e+00       0.000000  0.000000e+00 -2.000000e+00      0.00000   \n",
            "25%    1.000000e+00       0.000000  0.000000e+00  0.000000e+00      0.00000   \n",
            "50%    2.500000e+02       4.000000  3.300000e+01  8.500000e+01      2.00000   \n",
            "75%    3.640250e+03      78.250000  1.286250e+03  1.454000e+03     75.00000   \n",
            "max    4.290259e+06  148011.000000  1.846641e+06  2.816444e+06  77255.00000   \n",
            "\n",
            "         New deaths  New recovered  \n",
            "count  35156.000000   35156.000000  \n",
            "mean      18.603339     269.315593  \n",
            "std      115.706351    2068.063852  \n",
            "min    -1918.000000  -16298.000000  \n",
            "25%        0.000000       0.000000  \n",
            "50%        0.000000       0.000000  \n",
            "75%        1.000000      20.000000  \n",
            "max     3887.000000  140050.000000   \n",
            "\n",
            "usa_county_wise Summary Statistics:\n",
            "                  Lat          Long_      Confirmed         Deaths\n",
            "count  627920.000000  627920.000000  627920.000000  627920.000000\n",
            "mean       36.707212     -88.601474     357.284285      17.536328\n",
            "std         9.061572      21.715747    3487.282694     300.991466\n",
            "min       -14.271000    -174.159600       0.000000       0.000000\n",
            "25%        33.895587     -97.790204       0.000000       0.000000\n",
            "50%        38.002344     -89.486710       4.000000       0.000000\n",
            "75%        41.573069     -82.311265      63.000000       1.000000\n",
            "max        69.314792     145.673900  224051.000000   23500.000000 \n",
            "\n"
          ]
        }
      ],
      "source": [
        "for name, df in dataframes.items():\n",
        "\n",
        "  summary_stats = df.describe()\n",
        "  print(name,\"Summary Statistics:\\n\", summary_stats,\"\\n\")\n"
      ]
    },
    {
      "cell_type": "code",
      "execution_count": null,
      "metadata": {
        "id": "-He0-6QDuV_c"
      },
      "outputs": [],
      "source": []
    },
    {
      "cell_type": "markdown",
      "source": [
        "# Data Decomposition and Analytics"
      ],
      "metadata": {
        "id": "ceBsLKj0qtTM"
      }
    },
    {
      "cell_type": "markdown",
      "source": [
        "## general statistical data decomposition"
      ],
      "metadata": {
        "id": "-5Y-obUPujO1"
      }
    },
    {
      "cell_type": "code",
      "source": [
        "from statsmodels.tsa.seasonal import seasonal_decompose\n",
        "from statsmodels.graphics.tsaplots import plot_acf, plot_pacf\n",
        "import matplotlib.pyplot as plt\n",
        "\n",
        "\n",
        "# 1. Aggregating the global daily confirmed cases\n",
        "global_daily_cases = data_covid_19_clean_complete.groupby('Date')['Deaths'].sum()\n",
        "\n",
        "# 2. Time Series Decomposition\n",
        "decomposition = seasonal_decompose(global_daily_cases, model='additive', period=7)\n",
        "\n",
        "# Plotting the decomposition results\n",
        "plt.figure(figsize=(12, 8))\n",
        "plt.subplot(411)\n",
        "plt.plot(global_daily_cases, label='Original')\n",
        "plt.legend(loc='best')\n",
        "plt.subplot(412)\n",
        "plt.plot(decomposition.trend, label='Trend')\n",
        "plt.legend(loc='best')\n",
        "plt.subplot(413)\n",
        "plt.plot(decomposition.seasonal, label='Seasonality')\n",
        "plt.legend(loc='best')\n",
        "plt.subplot(414)\n",
        "plt.plot(decomposition.resid, label='Residuals')\n",
        "plt.legend(loc='best')\n",
        "plt.tight_layout()\n",
        "\n",
        "# 3. Rolling Statistics\n",
        "rolling_mean = global_daily_cases.rolling(window=7).mean()\n",
        "rolling_std = global_daily_cases.rolling(window=7).std()\n",
        "\n",
        "plt.figure(figsize=(12, 6))\n",
        "plt.plot(global_daily_cases, color='blue', label='Original')\n",
        "plt.plot(rolling_mean, color='red', label='Rolling Mean')\n",
        "plt.plot(rolling_std, color='black', label='Rolling Std Dev')\n",
        "plt.xlabel('Date')\n",
        "plt.ylabel('Deaths')\n",
        "plt.title('Rolling Mean & Standard Deviation')\n",
        "plt.legend()\n",
        "plt.show()\n",
        "\n",
        "# 4. Autocorrelation Analysis\n",
        "fig, (ax1, ax2) = plt.subplots(2, 1, figsize=(12,8))\n",
        "plot_acf(global_daily_cases, ax=ax1, lags=40)  # Autocorrelation Function\n",
        "plot_pacf(global_daily_cases, ax=ax2, lags=40, method='ywm')  # Partial Autocorrelation Function\n",
        "plt.tight_layout()\n",
        "plt.show()\n"
      ],
      "metadata": {
        "id": "w_2U3PkyuMNP"
      },
      "execution_count": null,
      "outputs": []
    },
    {
      "cell_type": "markdown",
      "source": [
        "## trend"
      ],
      "metadata": {
        "id": "rJGy6PruucAc"
      }
    },
    {
      "cell_type": "code",
      "source": [
        "fig = px.line(global_daily_cases[:], title='Confirmed COVID-19 Cases Globally',color_discrete_sequence=px.colors.qualitative.D3)\n",
        "\n",
        "fig.update_layout(\n",
        "    #title=\"\",\n",
        "    showlegend=False,\n",
        "    xaxis_title=\"Time\",\n",
        "    yaxis_title=\"Confirmed Cases\"\n",
        ")\n",
        "\n",
        "# newnames = {'seasonal':'seasonality'}\n",
        "# fig.for_each_trace(lambda t: t.update(name = newnames[t.name],\n",
        "#                                       legendgroup = newnames[t.name],\n",
        "#                                       hovertemplate = t.hovertemplate.replace(t.name, newnames[t.name])\n",
        "#                                      )\n",
        "#                   )\n",
        "\n",
        "fig.show()\n",
        "fig.write_html(\"confirmed.html\")"
      ],
      "metadata": {
        "id": "5aDST_pmubQJ"
      },
      "execution_count": null,
      "outputs": []
    },
    {
      "cell_type": "markdown",
      "source": [
        "The data suggests an overall upward trend in the total number of confirmed cases, indicating the spreading of a global phenomenon. This trend reflects not only the infectious properties of the COVID-19 virus but also the increases in the danger it poses to our world, which urges countries to take decisive and early actions to minimize its future damages."
      ],
      "metadata": {
        "id": "mdULPwehvYa6"
      }
    },
    {
      "cell_type": "markdown",
      "source": [
        "## seasonality"
      ],
      "metadata": {
        "id": "16V-Cvquud1s"
      }
    },
    {
      "cell_type": "code",
      "source": [
        "import plotly.express as px\n",
        "pio.templates.default = \"plotly_white\"\n",
        "\n",
        "\n",
        "# 1. Aggregating the global daily confirmed cases\n",
        "global_daily_cases = data_covid_19_clean_complete.groupby('Date')['Deaths'].sum()\n",
        "\n",
        "# 2. Time Series Decomposition\n",
        "decomposition = seasonal_decompose(global_daily_cases, model='additive', period=7)\n",
        "\n",
        "# # Plotting the decomposition results\n",
        "# plt.figure(figsize=(50, 20))\n",
        "# #plt.subplot(411)\n",
        "\n",
        "# plt.plot(decomposition.seasonal, label='Seasonality')\n",
        "\n",
        "fig = px.line(decomposition.seasonal, title='Seasonality',color_discrete_sequence=px.colors.qualitative.D3)\n",
        "\n",
        "fig.update_layout(\n",
        "    title=\"Seasonality\",\n",
        "    xaxis_title=\"Time\",\n",
        "    yaxis_title=\"Amplitude\"\n",
        ")\n",
        "\n",
        "newnames = {'seasonal':'seasonality'}\n",
        "fig.for_each_trace(lambda t: t.update(name = newnames[t.name],\n",
        "                                      legendgroup = newnames[t.name],\n",
        "                                      hovertemplate = t.hovertemplate.replace(t.name, newnames[t.name])\n",
        "                                     )\n",
        "                  )\n",
        "\n",
        "fig.show()\n",
        "fig.write_html(\"seasonality.html\")\n",
        "\n",
        "\n"
      ],
      "metadata": {
        "id": "r2EmQtd1uWIl"
      },
      "execution_count": null,
      "outputs": []
    },
    {
      "cell_type": "markdown",
      "source": [
        "The graph shows a seasonality cycle with peak number confirmed cases on Fridays and the lowest number of Confirmed cases on Modays. This seasonality might be suggestive of a pattern/correlation between day of the week and number of confirmed cases. But because there are too many variables that were beyond our scope of knowledge regarding epidemiology, governmental policies and human behaviours,we were unable to make a definite conclusion for the cause of this seasonality.\n",
        "\n",
        "This might be a potential research direction for future analyses"
      ],
      "metadata": {
        "id": "5XShZ92Juwb-"
      }
    },
    {
      "cell_type": "markdown",
      "metadata": {
        "id": "6WZ-dTXq9Z6f"
      },
      "source": [
        "# VISUALIZATION"
      ]
    },
    {
      "cell_type": "markdown",
      "metadata": {
        "id": "ZIJETxIb_Ko-"
      },
      "source": [
        "## Global impact of Covid-19 overtime"
      ]
    },
    {
      "cell_type": "code",
      "execution_count": null,
      "metadata": {
        "colab": {
          "base_uri": "https://localhost:8080/",
          "height": 1000
        },
        "id": "6p6_JzAk9cB4",
        "outputId": "19b5f6af-c1aa-4e25-9037-e80ece1cb540"
      },
      "outputs": [
        {
          "output_type": "display_data",
          "data": {
            "text/plain": [
              "<Figure size 700x1000 with 3 Axes>"
            ],
            "image/png": "[encoded data removed]"
          },
          "metadata": {}
        }
      ],
      "source": [
        "# Figure setup\n",
        "fig, axes = plt.subplots(nrows=3, ncols=1, figsize=(7, 10))\n",
        "\n",
        "# Data to plot\n",
        "data_to_plot = [\n",
        "    # Confirmed, Deaths, Recovered\n",
        "    [('Confirmed', 'blue'), ('Deaths', 'red'), ('Recovered', 'green'), ('Active', \"orange\")],\n",
        "\n",
        "    # New Cases, New Deaths, New Recovered\n",
        "    [('New cases', 'blue'), ('New deaths', 'red'), ('New recovered', 'green')],\n",
        "\n",
        "    # Ratios\n",
        "    [('Deaths / 100 Cases', 'red'), ('Recovered / 100 Cases', 'green'), ('Deaths / 100 Recovered', 'blue')]\n",
        "]\n",
        "\n",
        "titles = [\n",
        "    'Confirmed, Deaths, and Recovered Cases Over Time',\n",
        "    'Daily Increases: New Cases, Deaths, and Recovered',\n",
        "    'Deaths and Recovered per 100 Cases Over Time'\n",
        "]\n",
        "\n",
        "for ax, data, title in zip(axes, data_to_plot, titles):\n",
        "    for metric, color in data:\n",
        "        ax.plot(data_day_wise['Date'], data_day_wise[metric], label=metric, color=color)\n",
        "    ax.set_xlabel('Date')\n",
        "    ax.set_ylabel('Count' if \"Daily\" not in title else 'Percentage')\n",
        "    ax.set_title(title)\n",
        "    ax.legend()\n",
        "    ax.grid(True)\n",
        "\n",
        "plt.tight_layout()\n",
        "plt.show()\n"
      ]
    },
    {
      "cell_type": "markdown",
      "metadata": {
        "id": "M7yn_Kb3BMVa"
      },
      "source": [
        "## Covid-19 Confirmed Cases Top Countries\n"
      ]
    },
    {
      "cell_type": "code",
      "execution_count": null,
      "metadata": {
        "colab": {
          "base_uri": "https://localhost:8080/",
          "height": 410
        },
        "id": "Sb3u6m5tBTEe",
        "outputId": "2fe35d22-7484-4b4c-979f-1cf4a506d0fa"
      },
      "outputs": [
        {
          "output_type": "display_data",
          "data": {
            "text/plain": [
              "<Figure size 600x400 with 1 Axes>"
            ],
            "image/png": "[encoded data removed]"
          },
          "metadata": {}
        }
      ],
      "source": [
        "# Sorting the data by 'Confirmed' cases and taking the top 10\n",
        "top_countries = data_country_wise_latest.sort_values(by='Confirmed', ascending=False).head(10)\n",
        "# Convert the 'Country/Region' column to string type\n",
        "top_countries['Country/Region'] = top_countries['Country/Region'].astype(str)\n",
        "\n",
        "# Bar plot\n",
        "plt.figure(figsize=(6, 4))\n",
        "sns.barplot(x='Confirmed', y='Country/Region', data=top_countries, palette='viridis')\n",
        "plt.title('Top 10 Countries by Confirmed Cases')\n",
        "plt.show()\n"
      ]
    },
    {
      "cell_type": "markdown",
      "source": [
        "# Geospatial Visualizations"
      ],
      "metadata": {
        "id": "Gq9iB7j5ZhSF"
      }
    },
    {
      "cell_type": "markdown",
      "source": [
        "## data transformation for mapping"
      ],
      "metadata": {
        "id": "wuwdD_hZbC0Y"
      }
    },
    {
      "cell_type": "code",
      "execution_count": null,
      "metadata": {
        "colab": {
          "base_uri": "https://localhost:8080/"
        },
        "id": "WHT1jmmlKbpZ",
        "outputId": "07b0d0eb-80d3-4bf2-d4e0-5b8aad8b3d39"
      },
      "outputs": [
        {
          "output_type": "stream",
          "name": "stdout",
          "text": [
            "Missing ISO codes for: ['Brunei', 'Burma', 'Congo (Brazzaville)', 'Congo (Kinshasa)', 'Cote d'Ivoire', ..., 'Laos', 'Russia', 'Syria', 'Taiwan*', 'West Bank and Gaza']\n",
            "Length: 13\n",
            "Categories (187, object): ['Afghanistan', 'Albania', 'Algeria', 'Andorra', ..., 'Western Sahara',\n",
            "                           'Yemen', 'Zambia', 'Zimbabwe']\n"
          ]
        }
      ],
      "source": [
        "def get_iso_code(country_name):\n",
        "    try:\n",
        "        # Return the ISO Alpha-3 code for a given country name\n",
        "        return pycountry.countries.lookup(country_name).alpha_3\n",
        "    except:\n",
        "        # If the country name is not found, return None\n",
        "        return None\n",
        "\n",
        "# Apply the function to the 'Country/Region' column and create a new 'ISO_Code' column\n",
        "data_country_wise_latest['ISO_Code'] = data_country_wise_latest['Country/Region'].apply(get_iso_code)\n",
        "\n",
        "# Check for countries for which the code could not be determined\n",
        "missing_codes = data_country_wise_latest[data_country_wise_latest['ISO_Code'].isnull()]['Country/Region'].unique()\n",
        "print(\"Missing ISO codes for:\", missing_codes)\n"
      ]
    },
    {
      "cell_type": "code",
      "execution_count": null,
      "metadata": {
        "colab": {
          "base_uri": "https://localhost:8080/"
        },
        "id": "tnXjvXNbK7fd",
        "outputId": "e82c06a4-07bc-4110-a82b-965e3fe3576c"
      },
      "outputs": [
        {
          "output_type": "stream",
          "name": "stdout",
          "text": [
            "Missing ISO codes for: ['Kosovo', 'Taiwan*']\n",
            "Categories (187, object): ['Afghanistan', 'Albania', 'Algeria', 'Andorra', ..., 'Western Sahara',\n",
            "                           'Yemen', 'Zambia', 'Zimbabwe']\n"
          ]
        }
      ],
      "source": [
        "country_corrections = {\n",
        "    'Brunei': 'Brunei Darussalam',\n",
        "    'Burma': 'Myanmar',\n",
        "    'Holy See':'Holy See (Vatican City State)',\n",
        "    'Congo (Brazzaville)':'Republic of the Congo',\n",
        "    'Congo (Kinshasa)': 'Congo, The Democratic Republic of the',\n",
        "    \"Cote d'Ivoire\":\"Côte d'Ivoire\",\n",
        "    'Iran':'Islamic Republic of Iran',\n",
        "    'Laos':\"Lao People's Democratic Republic\",\n",
        "    #'Kosovo':'Kosovo'\n",
        "    \"Russia\":\"Russian Federation\",\n",
        "    \"West Bank and Gaza\":\"the State of Palestine\",\n",
        "    \"Syria\":\"Syrian Arab Republic\"\n",
        "    # ... any other country name mismatches you identify ...\n",
        "}\n",
        "\n",
        "# Apply the corrections\n",
        "data_country_wise_latest['Country/Region'] = data_country_wise_latest['Country/Region'].replace(country_corrections)\n",
        "\n",
        "# Now you can again try to fetch the ISO codes as demonstrated previously\n",
        "data_country_wise_latest['ISO_Code'] = data_country_wise_latest['Country/Region'].apply(get_iso_code)\n",
        "\n",
        "# Check for countries for which the code could not be determined\n",
        "missing_codes = data_country_wise_latest[data_country_wise_latest['ISO_Code'].isnull()]['Country/Region'].unique()\n",
        "print(\"Missing ISO codes for:\", missing_codes)"
      ]
    },
    {
      "cell_type": "code",
      "execution_count": null,
      "metadata": {
        "colab": {
          "base_uri": "https://localhost:8080/"
        },
        "id": "-q4hD7fyLwaC",
        "outputId": "9c835643-50b3-4761-82e0-8aabb50c78b7"
      },
      "outputs": [
        {
          "output_type": "stream",
          "name": "stdout",
          "text": [
            "Missing ISO codes for: ['Kosovo', 'Taiwan*']\n",
            "Categories (187, object): ['Afghanistan', 'Albania', 'Algeria', 'Andorra', ..., 'Western Sahara',\n",
            "                           'Yemen', 'Zambia', 'Zimbabwe']\n"
          ]
        }
      ],
      "source": [
        "def get_iso_code(country_name):\n",
        "    try:\n",
        "        # Return the ISO Alpha-3 code for a given country name\n",
        "        return pycountry.countries.lookup(country_name).alpha_3\n",
        "    except:\n",
        "        # If the country name is not found, return None\n",
        "        return None\n",
        "\n",
        "# Apply the function to the 'Country/Region' column and create a new 'ISO_Code' column\n",
        "data_country_wise_latest['ISO_Code'] = data_country_wise_latest['Country/Region'].apply(get_iso_code)\n",
        "\n",
        "# Check for countries for which the code could not be determined\n",
        "missing_codes = data_country_wise_latest[data_country_wise_latest['ISO_Code'].isnull()]['Country/Region'].unique()\n",
        "print(\"Missing ISO codes for:\", missing_codes)\n"
      ]
    },
    {
      "cell_type": "code",
      "execution_count": null,
      "metadata": {
        "colab": {
          "base_uri": "https://localhost:8080/"
        },
        "id": "85Bq8nRtQI4m",
        "outputId": "54b2a58b-3dba-467d-f662-d3d87e8d73f5"
      },
      "outputs": [
        {
          "output_type": "stream",
          "name": "stdout",
          "text": [
            "<class 'pandas.core.frame.DataFrame'>\n",
            "RangeIndex: 187 entries, 0 to 186\n",
            "Data columns (total 16 columns):\n",
            " #   Column                  Non-Null Count  Dtype   \n",
            "---  ------                  --------------  -----   \n",
            " 0   Country/Region          187 non-null    category\n",
            " 1   Confirmed               187 non-null    int64   \n",
            " 2   Deaths                  187 non-null    int64   \n",
            " 3   Recovered               187 non-null    int64   \n",
            " 4   Active                  187 non-null    int64   \n",
            " 5   New cases               187 non-null    int64   \n",
            " 6   New deaths              187 non-null    int64   \n",
            " 7   New recovered           187 non-null    int64   \n",
            " 8   Deaths / 100 Cases      187 non-null    float64 \n",
            " 9   Recovered / 100 Cases   187 non-null    float64 \n",
            " 10  Deaths / 100 Recovered  187 non-null    float64 \n",
            " 11  Confirmed last week     187 non-null    int64   \n",
            " 12  1 week change           187 non-null    int64   \n",
            " 13  1 week % increase       187 non-null    float64 \n",
            " 14  WHO Region              187 non-null    category\n",
            " 15  ISO_Code                185 non-null    object  \n",
            "dtypes: category(2), float64(4), int64(9), object(1)\n",
            "memory usage: 26.9+ KB\n"
          ]
        }
      ],
      "source": [
        "data_country_wise_latest.info()"
      ]
    },
    {
      "cell_type": "markdown",
      "source": [
        "## Confirmed Cases"
      ],
      "metadata": {
        "id": "2E1t9F8wZc7Q"
      }
    },
    {
      "cell_type": "markdown",
      "source": [
        "### original data"
      ],
      "metadata": {
        "id": "vhsaWDPOZsAE"
      }
    },
    {
      "cell_type": "code",
      "execution_count": null,
      "metadata": {
        "colab": {
          "base_uri": "https://localhost:8080/",
          "height": 417
        },
        "id": "0E4sJ_oOQ7F9",
        "outputId": "4126d1cb-afbe-4b1b-bff6-881c9fac1045"
      },
      "outputs": [
        {
          "output_type": "display_data",
          "data": {
            "text/html": [
              "<html>\n",
              "<head><meta charset=\"utf-8\" /></head>\n",
              "<body>\n",
              "    <div>            <script src=\"https://cdnjs.cloudflare.com/ajax/libs/mathjax/2.7.5/MathJax.js?config=TeX-AMS-MML_SVG\"></script><script type=\"text/javascript\">if (window.MathJax && window.MathJax.Hub && window.MathJax.Hub.Config) {window.MathJax.Hub.Config({SVG: {font: \"STIX-Web\"}});}</script>                <script type=\"text/javascript\">window.PlotlyConfig = {MathJaxConfig: 'local'};</script>\n",
              "        <script charset=\"utf-8\" src=\"https://cdn.plot.ly/plotly-2.24.1.min.js\"></script>                <div id=\"94ae44fe-32ed-4856-8897-454c72b53319\" class=\"plotly-graph-div\" style=\"height:400px; width:600px;\"></div>            <script type=\"text/javascript\">                                    window.PLOTLYENV=window.PLOTLYENV || {};                                    if (document.getElementById(\"94ae44fe-32ed-4856-8897-454c72b53319\")) {                    Plotly.newPlot(                        \"94ae44fe-32ed-4856-8897-454c72b53319\",                        [{\"coloraxis\":\"coloraxis\",\"geo\":\"geo\",\"hovertemplate\":\"\\u003cb\\u003e%{hovertext}\\u003c\\u002fb\\u003e\\u003cbr\\u003e\\u003cbr\\u003eISO_Code=%{location}\\u003cbr\\u003eConfirmed=%{z}\\u003cextra\\u003e\\u003c\\u002fextra\\u003e\",\"hovertext\":[\"Afghanistan\",\"Albania\",\"Algeria\",\"Andorra\",\"Angola\",\"Antigua and Barbuda\",\"Argentina\",\"Armenia\",\"Australia\",\"Austria\",\"Azerbaijan\",\"Bahamas\",\"Bahrain\",\"Bangladesh\",\"Barbados\",\"Belarus\",\"Belgium\",\"Belize\",\"Benin\",\"Bhutan\",\"Bolivia\",\"Bosnia and Herzegovina\",\"Botswana\",\"Brazil\",\"Brunei Darussalam\",\"Bulgaria\",\"Burkina Faso\",\"Myanmar\",\"Burundi\",\"Cabo Verde\",\"Cambodia\",\"Cameroon\",\"Canada\",\"Central African Republic\",\"Chad\",\"Chile\",\"China\",\"Colombia\",\"Comoros\",\"Republic of the Congo\",\"Congo, The Democratic Republic of the\",\"Costa Rica\",\"C\\u00f4te d'Ivoire\",\"Croatia\",\"Cuba\",\"Cyprus\",\"Czechia\",\"Denmark\",\"Djibouti\",\"Dominica\",\"Dominican Republic\",\"Ecuador\",\"Egypt\",\"El Salvador\",\"Equatorial Guinea\",\"Eritrea\",\"Estonia\",\"Eswatini\",\"Ethiopia\",\"Fiji\",\"Finland\",\"France\",\"Gabon\",\"Gambia\",\"Georgia\",\"Germany\",\"Ghana\",\"Greece\",\"Greenland\",\"Grenada\",\"Guatemala\",\"Guinea\",\"Guinea-Bissau\",\"Guyana\",\"Haiti\",\"Holy See (Vatican City State)\",\"Honduras\",\"Hungary\",\"Iceland\",\"India\",\"Indonesia\",\"Islamic Republic of Iran\",\"Iraq\",\"Ireland\",\"Israel\",\"Italy\",\"Jamaica\",\"Japan\",\"Jordan\",\"Kazakhstan\",\"Kenya\",\"Kosovo\",\"Kuwait\",\"Kyrgyzstan\",\"Lao People's Democratic Republic\",\"Latvia\",\"Lebanon\",\"Lesotho\",\"Liberia\",\"Libya\",\"Liechtenstein\",\"Lithuania\",\"Luxembourg\",\"Madagascar\",\"Malawi\",\"Malaysia\",\"Maldives\",\"Mali\",\"Malta\",\"Mauritania\",\"Mauritius\",\"Mexico\",\"Moldova\",\"Monaco\",\"Mongolia\",\"Montenegro\",\"Morocco\",\"Mozambique\",\"Namibia\",\"Nepal\",\"Netherlands\",\"New Zealand\",\"Nicaragua\",\"Niger\",\"Nigeria\",\"North Macedonia\",\"Norway\",\"Oman\",\"Pakistan\",\"Panama\",\"Papua New Guinea\",\"Paraguay\",\"Peru\",\"Philippines\",\"Poland\",\"Portugal\",\"Qatar\",\"Romania\",\"Russian Federation\",\"Rwanda\",\"Saint Kitts and Nevis\",\"Saint Lucia\",\"Saint Vincent and the Grenadines\",\"San Marino\",\"Sao Tome and Principe\",\"Saudi Arabia\",\"Senegal\",\"Serbia\",\"Seychelles\",\"Sierra Leone\",\"Singapore\",\"Slovakia\",\"Slovenia\",\"Somalia\",\"South Africa\",\"South Korea\",\"South Sudan\",\"Spain\",\"Sri Lanka\",\"Sudan\",\"Suriname\",\"Sweden\",\"Switzerland\",\"Syrian Arab Republic\",\"Taiwan*\",\"Tajikistan\",\"Tanzania\",\"Thailand\",\"Timor-Leste\",\"Togo\",\"Trinidad and Tobago\",\"Tunisia\",\"Turkey\",\"US\",\"Uganda\",\"Ukraine\",\"United Arab Emirates\",\"United Kingdom\",\"Uruguay\",\"Uzbekistan\",\"Venezuela\",\"Vietnam\",\"the State of Palestine\",\"Western Sahara\",\"Yemen\",\"Zambia\",\"Zimbabwe\"],\"locations\":[\"AFG\",\"ALB\",\"DZA\",\"AND\",\"AGO\",\"ATG\",\"ARG\",\"ARM\",\"AUS\",\"AUT\",\"AZE\",\"BHS\",\"BHR\",\"BGD\",\"BRB\",\"BLR\",\"BEL\",\"BLZ\",\"BEN\",\"BTN\",\"BOL\",\"BIH\",\"BWA\",\"BRA\",\"BRN\",\"BGR\",\"BFA\",\"MMR\",\"BDI\",\"CPV\",\"KHM\",\"CMR\",\"CAN\",\"CAF\",\"TCD\",\"CHL\",\"CHN\",\"COL\",\"COM\",\"COG\",\"COD\",\"CRI\",\"CIV\",\"HRV\",\"CUB\",\"CYP\",\"CZE\",\"DNK\",\"DJI\",\"DMA\",\"DOM\",\"ECU\",\"EGY\",\"SLV\",\"GNQ\",\"ERI\",\"EST\",\"SWZ\",\"ETH\",\"FJI\",\"FIN\",\"FRA\",\"GAB\",\"GMB\",\"GEO\",\"DEU\",\"GHA\",\"GRC\",\"GRL\",\"GRD\",\"GTM\",\"GIN\",\"GNB\",\"GUY\",\"HTI\",\"VAT\",\"HND\",\"HUN\",\"ISL\",\"IND\",\"IDN\",\"IRN\",\"IRQ\",\"IRL\",\"ISR\",\"ITA\",\"JAM\",\"JPN\",\"JOR\",\"KAZ\",\"KEN\",null,\"KWT\",\"KGZ\",\"LAO\",\"LVA\",\"LBN\",\"LSO\",\"LBR\",\"LBY\",\"LIE\",\"LTU\",\"LUX\",\"MDG\",\"MWI\",\"MYS\",\"MDV\",\"MLI\",\"MLT\",\"MRT\",\"MUS\",\"MEX\",\"MDA\",\"MCO\",\"MNG\",\"MNE\",\"MAR\",\"MOZ\",\"NAM\",\"NPL\",\"NLD\",\"NZL\",\"NIC\",\"NER\",\"NGA\",\"MKD\",\"NOR\",\"OMN\",\"PAK\",\"PAN\",\"PNG\",\"PRY\",\"PER\",\"PHL\",\"POL\",\"PRT\",\"QAT\",\"ROU\",\"RUS\",\"RWA\",\"KNA\",\"LCA\",\"VCT\",\"SMR\",\"STP\",\"SAU\",\"SEN\",\"SRB\",\"SYC\",\"SLE\",\"SGP\",\"SVK\",\"SVN\",\"SOM\",\"ZAF\",\"KOR\",\"SSD\",\"ESP\",\"LKA\",\"SDN\",\"SUR\",\"SWE\",\"CHE\",\"SYR\",null,\"TJK\",\"TZA\",\"THA\",\"TLS\",\"TGO\",\"TTO\",\"TUN\",\"TUR\",\"USA\",\"UGA\",\"UKR\",\"ARE\",\"GBR\",\"URY\",\"UZB\",\"VEN\",\"VNM\",\"PSE\",\"ESH\",\"YEM\",\"ZMB\",\"ZWE\"],\"name\":\"\",\"z\":[36263,4880,27973,907,950,86,167416,37390,15303,20558,30446,382,39482,226225,110,67251,66428,48,1770,99,71181,10498,739,2442375,141,10621,1100,350,378,2328,226,17110,116458,4599,922,347923,86783,257101,354,3200,8844,15841,15655,4881,2532,1060,15516,13761,5059,18,64156,81161,92482,15035,3071,265,2034,2316,14547,27,7398,220352,7189,326,1137,207112,33624,4227,14,23,45309,7055,1954,389,7340,12,39741,4448,1854,1480073,100303,293606,112585,25892,63985,246286,853,31142,1176,84648,17975,7413,64379,33296,20,1219,3882,505,1167,2827,86,2019,6321,9690,3664,8904,3369,2513,701,6208,344,395489,23154,116,289,2893,20887,1701,1843,18752,53413,1557,3439,1132,41180,10213,9132,77058,274289,61442,62,4548,389717,82040,43402,50299,109597,45902,816680,1879,17,24,52,699,865,268934,9764,24141,114,1783,50838,2181,2087,3196,452529,14203,2305,272421,2805,11424,1483,79395,34477,674,462,7235,509,3297,24,874,148,1455,227019,4290259,1128,67096,59177,301708,1202,21209,15988,431,10621,10,1691,4552,2704],\"type\":\"choropleth\"}],                        {\"template\":{\"data\":{\"histogram2dcontour\":[{\"type\":\"histogram2dcontour\",\"colorbar\":{\"outlinewidth\":0,\"ticks\":\"\"},\"colorscale\":[[0.0,\"#0d0887\"],[0.1111111111111111,\"#46039f\"],[0.2222222222222222,\"#7201a8\"],[0.3333333333333333,\"#9c179e\"],[0.4444444444444444,\"#bd3786\"],[0.5555555555555556,\"#d8576b\"],[0.6666666666666666,\"#ed7953\"],[0.7777777777777778,\"#fb9f3a\"],[0.8888888888888888,\"#fdca26\"],[1.0,\"#f0f921\"]]}],\"choropleth\":[{\"type\":\"choropleth\",\"colorbar\":{\"outlinewidth\":0,\"ticks\":\"\"}}],\"histogram2d\":[{\"type\":\"histogram2d\",\"colorbar\":{\"outlinewidth\":0,\"ticks\":\"\"},\"colorscale\":[[0.0,\"#0d0887\"],[0.1111111111111111,\"#46039f\"],[0.2222222222222222,\"#7201a8\"],[0.3333333333333333,\"#9c179e\"],[0.4444444444444444,\"#bd3786\"],[0.5555555555555556,\"#d8576b\"],[0.6666666666666666,\"#ed7953\"],[0.7777777777777778,\"#fb9f3a\"],[0.8888888888888888,\"#fdca26\"],[1.0,\"#f0f921\"]]}],\"heatmap\":[{\"type\":\"heatmap\",\"colorbar\":{\"outlinewidth\":0,\"ticks\":\"\"},\"colorscale\":[[0.0,\"#0d0887\"],[0.1111111111111111,\"#46039f\"],[0.2222222222222222,\"#7201a8\"],[0.3333333333333333,\"#9c179e\"],[0.4444444444444444,\"#bd3786\"],[0.5555555555555556,\"#d8576b\"],[0.6666666666666666,\"#ed7953\"],[0.7777777777777778,\"#fb9f3a\"],[0.8888888888888888,\"#fdca26\"],[1.0,\"#f0f921\"]]}],\"heatmapgl\":[{\"type\":\"heatmapgl\",\"colorbar\":{\"outlinewidth\":0,\"ticks\":\"\"},\"colorscale\":[[0.0,\"#0d0887\"],[0.1111111111111111,\"#46039f\"],[0.2222222222222222,\"#7201a8\"],[0.3333333333333333,\"#9c179e\"],[0.4444444444444444,\"#bd3786\"],[0.5555555555555556,\"#d8576b\"],[0.6666666666666666,\"#ed7953\"],[0.7777777777777778,\"#fb9f3a\"],[0.8888888888888888,\"#fdca26\"],[1.0,\"#f0f921\"]]}],\"contourcarpet\":[{\"type\":\"contourcarpet\",\"colorbar\":{\"outlinewidth\":0,\"ticks\":\"\"}}],\"contour\":[{\"type\":\"contour\",\"colorbar\":{\"outlinewidth\":0,\"ticks\":\"\"},\"colorscale\":[[0.0,\"#0d0887\"],[0.1111111111111111,\"#46039f\"],[0.2222222222222222,\"#7201a8\"],[0.3333333333333333,\"#9c179e\"],[0.4444444444444444,\"#bd3786\"],[0.5555555555555556,\"#d8576b\"],[0.6666666666666666,\"#ed7953\"],[0.7777777777777778,\"#fb9f3a\"],[0.8888888888888888,\"#fdca26\"],[1.0,\"#f0f921\"]]}],\"surface\":[{\"type\":\"surface\",\"colorbar\":{\"outlinewidth\":0,\"ticks\":\"\"},\"colorscale\":[[0.0,\"#0d0887\"],[0.1111111111111111,\"#46039f\"],[0.2222222222222222,\"#7201a8\"],[0.3333333333333333,\"#9c179e\"],[0.4444444444444444,\"#bd3786\"],[0.5555555555555556,\"#d8576b\"],[0.6666666666666666,\"#ed7953\"],[0.7777777777777778,\"#fb9f3a\"],[0.8888888888888888,\"#fdca26\"],[1.0,\"#f0f921\"]]}],\"mesh3d\":[{\"type\":\"mesh3d\",\"colorbar\":{\"outlinewidth\":0,\"ticks\":\"\"}}],\"scatter\":[{\"marker\":{\"line\":{\"color\":\"#283442\"}},\"type\":\"scatter\"}],\"parcoords\":[{\"type\":\"parcoords\",\"line\":{\"colorbar\":{\"outlinewidth\":0,\"ticks\":\"\"}}}],\"scatterpolargl\":[{\"type\":\"scatterpolargl\",\"marker\":{\"colorbar\":{\"outlinewidth\":0,\"ticks\":\"\"}}}],\"bar\":[{\"error_x\":{\"color\":\"#f2f5fa\"},\"error_y\":{\"color\":\"#f2f5fa\"},\"marker\":{\"line\":{\"color\":\"rgb(17,17,17)\",\"width\":0.5},\"pattern\":{\"fillmode\":\"overlay\",\"size\":10,\"solidity\":0.2}},\"type\":\"bar\"}],\"scattergeo\":[{\"type\":\"scattergeo\",\"marker\":{\"colorbar\":{\"outlinewidth\":0,\"ticks\":\"\"}}}],\"scatterpolar\":[{\"type\":\"scatterpolar\",\"marker\":{\"colorbar\":{\"outlinewidth\":0,\"ticks\":\"\"}}}],\"histogram\":[{\"marker\":{\"pattern\":{\"fillmode\":\"overlay\",\"size\":10,\"solidity\":0.2}},\"type\":\"histogram\"}],\"scattergl\":[{\"marker\":{\"line\":{\"color\":\"#283442\"}},\"type\":\"scattergl\"}],\"scatter3d\":[{\"type\":\"scatter3d\",\"line\":{\"colorbar\":{\"outlinewidth\":0,\"ticks\":\"\"}},\"marker\":{\"colorbar\":{\"outlinewidth\":0,\"ticks\":\"\"}}}],\"scattermapbox\":[{\"type\":\"scattermapbox\",\"marker\":{\"colorbar\":{\"outlinewidth\":0,\"ticks\":\"\"}}}],\"scatterternary\":[{\"type\":\"scatterternary\",\"marker\":{\"colorbar\":{\"outlinewidth\":0,\"ticks\":\"\"}}}],\"scattercarpet\":[{\"type\":\"scattercarpet\",\"marker\":{\"colorbar\":{\"outlinewidth\":0,\"ticks\":\"\"}}}],\"carpet\":[{\"aaxis\":{\"endlinecolor\":\"#A2B1C6\",\"gridcolor\":\"#506784\",\"linecolor\":\"#506784\",\"minorgridcolor\":\"#506784\",\"startlinecolor\":\"#A2B1C6\"},\"baxis\":{\"endlinecolor\":\"#A2B1C6\",\"gridcolor\":\"#506784\",\"linecolor\":\"#506784\",\"minorgridcolor\":\"#506784\",\"startlinecolor\":\"#A2B1C6\"},\"type\":\"carpet\"}],\"table\":[{\"cells\":{\"fill\":{\"color\":\"#506784\"},\"line\":{\"color\":\"rgb(17,17,17)\"}},\"header\":{\"fill\":{\"color\":\"#2a3f5f\"},\"line\":{\"color\":\"rgb(17,17,17)\"}},\"type\":\"table\"}],\"barpolar\":[{\"marker\":{\"line\":{\"color\":\"rgb(17,17,17)\",\"width\":0.5},\"pattern\":{\"fillmode\":\"overlay\",\"size\":10,\"solidity\":0.2}},\"type\":\"barpolar\"}],\"pie\":[{\"automargin\":true,\"type\":\"pie\"}]},\"layout\":{\"autotypenumbers\":\"strict\",\"colorway\":[\"#636efa\",\"#EF553B\",\"#00cc96\",\"#ab63fa\",\"#FFA15A\",\"#19d3f3\",\"#FF6692\",\"#B6E880\",\"#FF97FF\",\"#FECB52\"],\"font\":{\"color\":\"#f2f5fa\"},\"hovermode\":\"closest\",\"hoverlabel\":{\"align\":\"left\"},\"paper_bgcolor\":\"rgb(17,17,17)\",\"plot_bgcolor\":\"rgb(17,17,17)\",\"polar\":{\"bgcolor\":\"rgb(17,17,17)\",\"angularaxis\":{\"gridcolor\":\"#506784\",\"linecolor\":\"#506784\",\"ticks\":\"\"},\"radialaxis\":{\"gridcolor\":\"#506784\",\"linecolor\":\"#506784\",\"ticks\":\"\"}},\"ternary\":{\"bgcolor\":\"rgb(17,17,17)\",\"aaxis\":{\"gridcolor\":\"#506784\",\"linecolor\":\"#506784\",\"ticks\":\"\"},\"baxis\":{\"gridcolor\":\"#506784\",\"linecolor\":\"#506784\",\"ticks\":\"\"},\"caxis\":{\"gridcolor\":\"#506784\",\"linecolor\":\"#506784\",\"ticks\":\"\"}},\"coloraxis\":{\"colorbar\":{\"outlinewidth\":0,\"ticks\":\"\"}},\"colorscale\":{\"sequential\":[[0.0,\"#0d0887\"],[0.1111111111111111,\"#46039f\"],[0.2222222222222222,\"#7201a8\"],[0.3333333333333333,\"#9c179e\"],[0.4444444444444444,\"#bd3786\"],[0.5555555555555556,\"#d8576b\"],[0.6666666666666666,\"#ed7953\"],[0.7777777777777778,\"#fb9f3a\"],[0.8888888888888888,\"#fdca26\"],[1.0,\"#f0f921\"]],\"sequentialminus\":[[0.0,\"#0d0887\"],[0.1111111111111111,\"#46039f\"],[0.2222222222222222,\"#7201a8\"],[0.3333333333333333,\"#9c179e\"],[0.4444444444444444,\"#bd3786\"],[0.5555555555555556,\"#d8576b\"],[0.6666666666666666,\"#ed7953\"],[0.7777777777777778,\"#fb9f3a\"],[0.8888888888888888,\"#fdca26\"],[1.0,\"#f0f921\"]],\"diverging\":[[0,\"#8e0152\"],[0.1,\"#c51b7d\"],[0.2,\"#de77ae\"],[0.3,\"#f1b6da\"],[0.4,\"#fde0ef\"],[0.5,\"#f7f7f7\"],[0.6,\"#e6f5d0\"],[0.7,\"#b8e186\"],[0.8,\"#7fbc41\"],[0.9,\"#4d9221\"],[1,\"#276419\"]]},\"xaxis\":{\"gridcolor\":\"#283442\",\"linecolor\":\"#506784\",\"ticks\":\"\",\"title\":{\"standoff\":15},\"zerolinecolor\":\"#283442\",\"automargin\":true,\"zerolinewidth\":2},\"yaxis\":{\"gridcolor\":\"#283442\",\"linecolor\":\"#506784\",\"ticks\":\"\",\"title\":{\"standoff\":15},\"zerolinecolor\":\"#283442\",\"automargin\":true,\"zerolinewidth\":2},\"scene\":{\"xaxis\":{\"backgroundcolor\":\"rgb(17,17,17)\",\"gridcolor\":\"#506784\",\"linecolor\":\"#506784\",\"showbackground\":true,\"ticks\":\"\",\"zerolinecolor\":\"#C8D4E3\",\"gridwidth\":2},\"yaxis\":{\"backgroundcolor\":\"rgb(17,17,17)\",\"gridcolor\":\"#506784\",\"linecolor\":\"#506784\",\"showbackground\":true,\"ticks\":\"\",\"zerolinecolor\":\"#C8D4E3\",\"gridwidth\":2},\"zaxis\":{\"backgroundcolor\":\"rgb(17,17,17)\",\"gridcolor\":\"#506784\",\"linecolor\":\"#506784\",\"showbackground\":true,\"ticks\":\"\",\"zerolinecolor\":\"#C8D4E3\",\"gridwidth\":2}},\"shapedefaults\":{\"line\":{\"color\":\"#f2f5fa\"}},\"annotationdefaults\":{\"arrowcolor\":\"#f2f5fa\",\"arrowhead\":0,\"arrowwidth\":1},\"geo\":{\"bgcolor\":\"rgb(17,17,17)\",\"landcolor\":\"rgb(17,17,17)\",\"subunitcolor\":\"#506784\",\"showland\":true,\"showlakes\":true,\"lakecolor\":\"rgb(17,17,17)\"},\"title\":{\"x\":0.05},\"updatemenudefaults\":{\"bgcolor\":\"#506784\",\"borderwidth\":0},\"sliderdefaults\":{\"bgcolor\":\"#C8D4E3\",\"borderwidth\":1,\"bordercolor\":\"rgb(17,17,17)\",\"tickwidth\":0},\"mapbox\":{\"style\":\"dark\"}}},\"geo\":{\"domain\":{\"x\":[0.0,1.0],\"y\":[0.0,1.0]},\"center\":{}},\"coloraxis\":{\"colorbar\":{\"title\":{\"text\":\"Confirmed\"}},\"colorscale\":[[0.0,\"rgb(255,247,236)\"],[0.125,\"rgb(254,232,200)\"],[0.25,\"rgb(253,212,158)\"],[0.375,\"rgb(253,187,132)\"],[0.5,\"rgb(252,141,89)\"],[0.625,\"rgb(239,101,72)\"],[0.75,\"rgb(215,48,31)\"],[0.875,\"rgb(179,0,0)\"],[1.0,\"rgb(127,0,0)\"]]},\"legend\":{\"tracegroupgap\":0},\"title\":{\"text\":\"Confirmed Cases Worldwide\"},\"margin\":{\"r\":0,\"t\":40,\"l\":20,\"b\":0},\"height\":400,\"width\":600},                        {\"responsive\": true}                    ).then(function(){\n",
              "                            \n",
              "var gd = document.getElementById('94ae44fe-32ed-4856-8897-454c72b53319');\n",
              "var x = new MutationObserver(function (mutations, observer) {{\n",
              "        var display = window.getComputedStyle(gd).display;\n",
              "        if (!display || display === 'none') {{\n",
              "            console.log([gd, 'removed!']);\n",
              "            Plotly.purge(gd);\n",
              "            observer.disconnect();\n",
              "        }}\n",
              "}});\n",
              "\n",
              "// Listen for the removal of the full notebook cells\n",
              "var notebookContainer = gd.closest('#notebook-container');\n",
              "if (notebookContainer) {{\n",
              "    x.observe(notebookContainer, {childList: true});\n",
              "}}\n",
              "\n",
              "// Listen for the clearing of the current output cell\n",
              "var outputEl = gd.closest('.output');\n",
              "if (outputEl) {{\n",
              "    x.observe(outputEl, {childList: true});\n",
              "}}\n",
              "\n",
              "                        })                };                            </script>        </div>\n",
              "</body>\n",
              "</html>"
            ]
          },
          "metadata": {}
        }
      ],
      "source": [
        "import plotly.express as px\n",
        "\n",
        "fig = px.choropleth(data_country_wise_latest,\n",
        "                    locations=\"ISO_Code\",\n",
        "                    color=\"Confirmed\",\n",
        "                    hover_name=\"Country/Region\",\n",
        "                    color_continuous_scale=px.colors.sequential.OrRd,\n",
        "                    title=\"Confirmed Cases Worldwide\")\n",
        "fig.update_layout(height=400, width=600, margin={\"r\":0,\"t\":40,\"l\":20,\"b\":0})\n",
        "fig.show()\n"
      ]
    },
    {
      "cell_type": "markdown",
      "source": [
        "### Log-scaled"
      ],
      "metadata": {
        "id": "R9Y4UWRPZvhe"
      }
    },
    {
      "cell_type": "code",
      "execution_count": null,
      "metadata": {
        "colab": {
          "base_uri": "https://localhost:8080/",
          "height": 517
        },
        "id": "9WlPZrRpThB4",
        "outputId": "bd55a99e-3c52-4175-e5a7-4093729c5cb5"
      },
      "outputs": [
        {
          "output_type": "display_data",
          "data": {
            "text/html": [
              "<html>\n",
              "<head><meta charset=\"utf-8\" /></head>\n",
              "<body>\n",
              "    <div>            <script src=\"https://cdnjs.cloudflare.com/ajax/libs/mathjax/2.7.5/MathJax.js?config=TeX-AMS-MML_SVG\"></script><script type=\"text/javascript\">if (window.MathJax && window.MathJax.Hub && window.MathJax.Hub.Config) {window.MathJax.Hub.Config({SVG: {font: \"STIX-Web\"}});}</script>                <script type=\"text/javascript\">window.PlotlyConfig = {MathJaxConfig: 'local'};</script>\n",
              "        <script charset=\"utf-8\" src=\"https://cdn.plot.ly/plotly-2.24.1.min.js\"></script>                <div id=\"53edf52c-b586-4782-969f-dd606a906cf8\" class=\"plotly-graph-div\" style=\"height:500px; width:750px;\"></div>            <script type=\"text/javascript\">                                    window.PLOTLYENV=window.PLOTLYENV || {};                                    if (document.getElementById(\"53edf52c-b586-4782-969f-dd606a906cf8\")) {                    Plotly.newPlot(                        \"53edf52c-b586-4782-969f-dd606a906cf8\",                        [{\"coloraxis\":\"coloraxis\",\"customdata\":[[36263],[4880],[27973],[907],[950],[86],[167416],[37390],[15303],[20558],[30446],[382],[39482],[226225],[110],[67251],[66428],[48],[1770],[99],[71181],[10498],[739],[2442375],[141],[10621],[1100],[350],[378],[2328],[226],[17110],[116458],[4599],[922],[347923],[86783],[257101],[354],[3200],[8844],[15841],[15655],[4881],[2532],[1060],[15516],[13761],[5059],[18],[64156],[81161],[92482],[15035],[3071],[265],[2034],[2316],[14547],[27],[7398],[220352],[7189],[326],[1137],[207112],[33624],[4227],[14],[23],[45309],[7055],[1954],[389],[7340],[12],[39741],[4448],[1854],[1480073],[100303],[293606],[112585],[25892],[63985],[246286],[853],[31142],[1176],[84648],[17975],[7413],[64379],[33296],[20],[1219],[3882],[505],[1167],[2827],[86],[2019],[6321],[9690],[3664],[8904],[3369],[2513],[701],[6208],[344],[395489],[23154],[116],[289],[2893],[20887],[1701],[1843],[18752],[53413],[1557],[3439],[1132],[41180],[10213],[9132],[77058],[274289],[61442],[62],[4548],[389717],[82040],[43402],[50299],[109597],[45902],[816680],[1879],[17],[24],[52],[699],[865],[268934],[9764],[24141],[114],[1783],[50838],[2181],[2087],[3196],[452529],[14203],[2305],[272421],[2805],[11424],[1483],[79395],[34477],[674],[462],[7235],[509],[3297],[24],[874],[148],[1455],[227019],[4290259],[1128],[67096],[59177],[301708],[1202],[21209],[15988],[431],[10621],[10],[1691],[4552],[2704]],\"geo\":\"geo\",\"hovertemplate\":\"\\u003cb\\u003e%{hovertext}\\u003c\\u002fb\\u003e\\u003cbr\\u003e\\u003cbr\\u003eISO_Code=%{location}\\u003cbr\\u003eConfirmed=%{customdata[0]}\\u003cbr\\u003eLog_Confirmed=%{z}\\u003cextra\\u003e\\u003c\\u002fextra\\u003e\",\"hovertext\":[\"Afghanistan\",\"Albania\",\"Algeria\",\"Andorra\",\"Angola\",\"Antigua and Barbuda\",\"Argentina\",\"Armenia\",\"Australia\",\"Austria\",\"Azerbaijan\",\"Bahamas\",\"Bahrain\",\"Bangladesh\",\"Barbados\",\"Belarus\",\"Belgium\",\"Belize\",\"Benin\",\"Bhutan\",\"Bolivia\",\"Bosnia and Herzegovina\",\"Botswana\",\"Brazil\",\"Brunei Darussalam\",\"Bulgaria\",\"Burkina Faso\",\"Myanmar\",\"Burundi\",\"Cabo Verde\",\"Cambodia\",\"Cameroon\",\"Canada\",\"Central African Republic\",\"Chad\",\"Chile\",\"China\",\"Colombia\",\"Comoros\",\"Republic of the Congo\",\"Congo, The Democratic Republic of the\",\"Costa Rica\",\"C\\u00f4te d'Ivoire\",\"Croatia\",\"Cuba\",\"Cyprus\",\"Czechia\",\"Denmark\",\"Djibouti\",\"Dominica\",\"Dominican Republic\",\"Ecuador\",\"Egypt\",\"El Salvador\",\"Equatorial Guinea\",\"Eritrea\",\"Estonia\",\"Eswatini\",\"Ethiopia\",\"Fiji\",\"Finland\",\"France\",\"Gabon\",\"Gambia\",\"Georgia\",\"Germany\",\"Ghana\",\"Greece\",\"Greenland\",\"Grenada\",\"Guatemala\",\"Guinea\",\"Guinea-Bissau\",\"Guyana\",\"Haiti\",\"Holy See (Vatican City State)\",\"Honduras\",\"Hungary\",\"Iceland\",\"India\",\"Indonesia\",\"Islamic Republic of Iran\",\"Iraq\",\"Ireland\",\"Israel\",\"Italy\",\"Jamaica\",\"Japan\",\"Jordan\",\"Kazakhstan\",\"Kenya\",\"Kosovo\",\"Kuwait\",\"Kyrgyzstan\",\"Lao People's Democratic Republic\",\"Latvia\",\"Lebanon\",\"Lesotho\",\"Liberia\",\"Libya\",\"Liechtenstein\",\"Lithuania\",\"Luxembourg\",\"Madagascar\",\"Malawi\",\"Malaysia\",\"Maldives\",\"Mali\",\"Malta\",\"Mauritania\",\"Mauritius\",\"Mexico\",\"Moldova\",\"Monaco\",\"Mongolia\",\"Montenegro\",\"Morocco\",\"Mozambique\",\"Namibia\",\"Nepal\",\"Netherlands\",\"New Zealand\",\"Nicaragua\",\"Niger\",\"Nigeria\",\"North Macedonia\",\"Norway\",\"Oman\",\"Pakistan\",\"Panama\",\"Papua New Guinea\",\"Paraguay\",\"Peru\",\"Philippines\",\"Poland\",\"Portugal\",\"Qatar\",\"Romania\",\"Russian Federation\",\"Rwanda\",\"Saint Kitts and Nevis\",\"Saint Lucia\",\"Saint Vincent and the Grenadines\",\"San Marino\",\"Sao Tome and Principe\",\"Saudi Arabia\",\"Senegal\",\"Serbia\",\"Seychelles\",\"Sierra Leone\",\"Singapore\",\"Slovakia\",\"Slovenia\",\"Somalia\",\"South Africa\",\"South Korea\",\"South Sudan\",\"Spain\",\"Sri Lanka\",\"Sudan\",\"Suriname\",\"Sweden\",\"Switzerland\",\"Syrian Arab Republic\",\"Taiwan*\",\"Tajikistan\",\"Tanzania\",\"Thailand\",\"Timor-Leste\",\"Togo\",\"Trinidad and Tobago\",\"Tunisia\",\"Turkey\",\"US\",\"Uganda\",\"Ukraine\",\"United Arab Emirates\",\"United Kingdom\",\"Uruguay\",\"Uzbekistan\",\"Venezuela\",\"Vietnam\",\"the State of Palestine\",\"Western Sahara\",\"Yemen\",\"Zambia\",\"Zimbabwe\"],\"locations\":[\"AFG\",\"ALB\",\"DZA\",\"AND\",\"AGO\",\"ATG\",\"ARG\",\"ARM\",\"AUS\",\"AUT\",\"AZE\",\"BHS\",\"BHR\",\"BGD\",\"BRB\",\"BLR\",\"BEL\",\"BLZ\",\"BEN\",\"BTN\",\"BOL\",\"BIH\",\"BWA\",\"BRA\",\"BRN\",\"BGR\",\"BFA\",\"MMR\",\"BDI\",\"CPV\",\"KHM\",\"CMR\",\"CAN\",\"CAF\",\"TCD\",\"CHL\",\"CHN\",\"COL\",\"COM\",\"COG\",\"COD\",\"CRI\",\"CIV\",\"HRV\",\"CUB\",\"CYP\",\"CZE\",\"DNK\",\"DJI\",\"DMA\",\"DOM\",\"ECU\",\"EGY\",\"SLV\",\"GNQ\",\"ERI\",\"EST\",\"SWZ\",\"ETH\",\"FJI\",\"FIN\",\"FRA\",\"GAB\",\"GMB\",\"GEO\",\"DEU\",\"GHA\",\"GRC\",\"GRL\",\"GRD\",\"GTM\",\"GIN\",\"GNB\",\"GUY\",\"HTI\",\"VAT\",\"HND\",\"HUN\",\"ISL\",\"IND\",\"IDN\",\"IRN\",\"IRQ\",\"IRL\",\"ISR\",\"ITA\",\"JAM\",\"JPN\",\"JOR\",\"KAZ\",\"KEN\",null,\"KWT\",\"KGZ\",\"LAO\",\"LVA\",\"LBN\",\"LSO\",\"LBR\",\"LBY\",\"LIE\",\"LTU\",\"LUX\",\"MDG\",\"MWI\",\"MYS\",\"MDV\",\"MLI\",\"MLT\",\"MRT\",\"MUS\",\"MEX\",\"MDA\",\"MCO\",\"MNG\",\"MNE\",\"MAR\",\"MOZ\",\"NAM\",\"NPL\",\"NLD\",\"NZL\",\"NIC\",\"NER\",\"NGA\",\"MKD\",\"NOR\",\"OMN\",\"PAK\",\"PAN\",\"PNG\",\"PRY\",\"PER\",\"PHL\",\"POL\",\"PRT\",\"QAT\",\"ROU\",\"RUS\",\"RWA\",\"KNA\",\"LCA\",\"VCT\",\"SMR\",\"STP\",\"SAU\",\"SEN\",\"SRB\",\"SYC\",\"SLE\",\"SGP\",\"SVK\",\"SVN\",\"SOM\",\"ZAF\",\"KOR\",\"SSD\",\"ESP\",\"LKA\",\"SDN\",\"SUR\",\"SWE\",\"CHE\",\"SYR\",null,\"TJK\",\"TZA\",\"THA\",\"TLS\",\"TGO\",\"TTO\",\"TUN\",\"TUR\",\"USA\",\"UGA\",\"UKR\",\"ARE\",\"GBR\",\"URY\",\"UZB\",\"VEN\",\"VNM\",\"PSE\",\"ESH\",\"YEM\",\"ZMB\",\"ZWE\"],\"name\":\"\",\"z\":[10.498553216683446,8.492900498847193,10.23899503822049,6.810142450115136,6.856461984594587,4.454347296253507,12.028237011920506,10.529158567971159,9.635804166591036,9.931005438572868,10.3237099016192,5.945420608606575,10.583600150825614,12.329285358219334,4.700480365792417,11.116187167242005,11.103873933326645,3.871201010907891,7.478734825567875,4.59511985013459,11.172981207855637,9.258940041812245,6.6052979209482015,14.708481484516811,4.948759890378168,9.27058845232154,7.003065458786462,5.857933154483459,5.934894195619588,7.752764808851328,5.420534999272286,9.747418366886238,11.66528597196527,8.433594167539924,6.826545223556594,12.759736469906224,11.371166028932267,12.457224282783562,5.869296913133774,8.070906088787819,9.087494541977337,9.670356794688852,9.658545633760506,8.493105395887147,7.836764783264067,6.966024187106113,9.649627028559857,9.529593783265282,8.528924114291936,2.8903717578961645,11.069072896457268,11.304190115204406,11.434769309969937,9.61813609542263,8.029758520440822,5.579729825986222,7.617759576608505,7.7475968386928855,9.585140065773462,3.295836866004329,8.908964972392399,12.302981546698195,8.880307358983872,5.786897381366708,7.036148493750536,12.241014988727738,10.422995376684952,8.34924780056679,2.6390573296152584,3.1354942159291497,10.721260967234452,8.861491864286915,7.577633832602728,5.963579343618446,8.901094121608562,2.4849066497880004,10.590138679352371,8.400209835930418,7.5251007461258,14.207601968848218,11.515950883771916,12.589994011480988,11.63146377089376,10.1616893196654,11.066403959871696,12.414248741242597,6.748759547491679,10.34631266940137,7.069874128458572,11.346256760583998,9.796737182589247,8.910990494656719,11.07254277195801,10.413192548633416,2.995732273553991,7.105786129481271,8.264105763728956,6.22455842927536,7.062191632286556,7.946971357693591,4.454347296253507,7.610357618312838,8.751632702472298,9.178849704884811,8.20631072579402,9.094255892955381,8.122371243406553,7.829232537543592,6.55250788703459,8.733594061863055,5.840641657373398,12.88787825290799,10.049922830765674,4.7535901911063645,5.666426688112432,7.970049304976135,9.946882234855318,7.438971592395862,7.519149957669823,9.83905569237674,10.885809441013075,7.350516171833998,8.142936010432265,7.0317412587631285,10.62570798058178,9.2314166975781,9.119540007649686,11.252313664041111,12.521937574043568,11.025848919375079,4.127134385045092,8.422442854870427,12.873176113675306,11.314962212186316,10.678260801976018,10.8257404751745,11.604565280858651,10.734263968084111,13.613002620250136,7.538494999413465,2.833213344056216,3.1780538303479458,3.9512437185814275,6.54965074223381,6.762729506931879,12.502221275320114,9.186457431512851,10.091666918814242,4.736198448394496,7.48605261786314,10.83639938542652,7.687538766201629,7.643482907077201,8.069655306886165,13.022607128466335,9.561208488881128,7.742835955430749,12.515103942797033,7.9391588179567965,9.343471684579365,7.301822342137932,11.282190672960198,10.448047714031748,6.513230110912307,6.135564891081739,8.886685639065584,6.2324480165505225,8.10076824307173,3.1780538303479458,6.773080375655535,4.997212273764115,7.282761179605593,12.332788993401381,15.2718576620422,7.028201432058005,11.113879708664248,10.988288231867655,12.617214941202626,7.091742115095153,9.962180898875346,9.679593719831214,6.066108090103747,9.27058845232154,2.302585092994046,7.43307534889858,8.423321975806166,7.902487437162855],\"type\":\"choropleth\"}],                        {\"template\":{\"data\":{\"histogram2dcontour\":[{\"type\":\"histogram2dcontour\",\"colorbar\":{\"outlinewidth\":0,\"ticks\":\"\"},\"colorscale\":[[0.0,\"#0d0887\"],[0.1111111111111111,\"#46039f\"],[0.2222222222222222,\"#7201a8\"],[0.3333333333333333,\"#9c179e\"],[0.4444444444444444,\"#bd3786\"],[0.5555555555555556,\"#d8576b\"],[0.6666666666666666,\"#ed7953\"],[0.7777777777777778,\"#fb9f3a\"],[0.8888888888888888,\"#fdca26\"],[1.0,\"#f0f921\"]]}],\"choropleth\":[{\"type\":\"choropleth\",\"colorbar\":{\"outlinewidth\":0,\"ticks\":\"\"}}],\"histogram2d\":[{\"type\":\"histogram2d\",\"colorbar\":{\"outlinewidth\":0,\"ticks\":\"\"},\"colorscale\":[[0.0,\"#0d0887\"],[0.1111111111111111,\"#46039f\"],[0.2222222222222222,\"#7201a8\"],[0.3333333333333333,\"#9c179e\"],[0.4444444444444444,\"#bd3786\"],[0.5555555555555556,\"#d8576b\"],[0.6666666666666666,\"#ed7953\"],[0.7777777777777778,\"#fb9f3a\"],[0.8888888888888888,\"#fdca26\"],[1.0,\"#f0f921\"]]}],\"heatmap\":[{\"type\":\"heatmap\",\"colorbar\":{\"outlinewidth\":0,\"ticks\":\"\"},\"colorscale\":[[0.0,\"#0d0887\"],[0.1111111111111111,\"#46039f\"],[0.2222222222222222,\"#7201a8\"],[0.3333333333333333,\"#9c179e\"],[0.4444444444444444,\"#bd3786\"],[0.5555555555555556,\"#d8576b\"],[0.6666666666666666,\"#ed7953\"],[0.7777777777777778,\"#fb9f3a\"],[0.8888888888888888,\"#fdca26\"],[1.0,\"#f0f921\"]]}],\"heatmapgl\":[{\"type\":\"heatmapgl\",\"colorbar\":{\"outlinewidth\":0,\"ticks\":\"\"},\"colorscale\":[[0.0,\"#0d0887\"],[0.1111111111111111,\"#46039f\"],[0.2222222222222222,\"#7201a8\"],[0.3333333333333333,\"#9c179e\"],[0.4444444444444444,\"#bd3786\"],[0.5555555555555556,\"#d8576b\"],[0.6666666666666666,\"#ed7953\"],[0.7777777777777778,\"#fb9f3a\"],[0.8888888888888888,\"#fdca26\"],[1.0,\"#f0f921\"]]}],\"contourcarpet\":[{\"type\":\"contourcarpet\",\"colorbar\":{\"outlinewidth\":0,\"ticks\":\"\"}}],\"contour\":[{\"type\":\"contour\",\"colorbar\":{\"outlinewidth\":0,\"ticks\":\"\"},\"colorscale\":[[0.0,\"#0d0887\"],[0.1111111111111111,\"#46039f\"],[0.2222222222222222,\"#7201a8\"],[0.3333333333333333,\"#9c179e\"],[0.4444444444444444,\"#bd3786\"],[0.5555555555555556,\"#d8576b\"],[0.6666666666666666,\"#ed7953\"],[0.7777777777777778,\"#fb9f3a\"],[0.8888888888888888,\"#fdca26\"],[1.0,\"#f0f921\"]]}],\"surface\":[{\"type\":\"surface\",\"colorbar\":{\"outlinewidth\":0,\"ticks\":\"\"},\"colorscale\":[[0.0,\"#0d0887\"],[0.1111111111111111,\"#46039f\"],[0.2222222222222222,\"#7201a8\"],[0.3333333333333333,\"#9c179e\"],[0.4444444444444444,\"#bd3786\"],[0.5555555555555556,\"#d8576b\"],[0.6666666666666666,\"#ed7953\"],[0.7777777777777778,\"#fb9f3a\"],[0.8888888888888888,\"#fdca26\"],[1.0,\"#f0f921\"]]}],\"mesh3d\":[{\"type\":\"mesh3d\",\"colorbar\":{\"outlinewidth\":0,\"ticks\":\"\"}}],\"scatter\":[{\"marker\":{\"line\":{\"color\":\"#283442\"}},\"type\":\"scatter\"}],\"parcoords\":[{\"type\":\"parcoords\",\"line\":{\"colorbar\":{\"outlinewidth\":0,\"ticks\":\"\"}}}],\"scatterpolargl\":[{\"type\":\"scatterpolargl\",\"marker\":{\"colorbar\":{\"outlinewidth\":0,\"ticks\":\"\"}}}],\"bar\":[{\"error_x\":{\"color\":\"#f2f5fa\"},\"error_y\":{\"color\":\"#f2f5fa\"},\"marker\":{\"line\":{\"color\":\"rgb(17,17,17)\",\"width\":0.5},\"pattern\":{\"fillmode\":\"overlay\",\"size\":10,\"solidity\":0.2}},\"type\":\"bar\"}],\"scattergeo\":[{\"type\":\"scattergeo\",\"marker\":{\"colorbar\":{\"outlinewidth\":0,\"ticks\":\"\"}}}],\"scatterpolar\":[{\"type\":\"scatterpolar\",\"marker\":{\"colorbar\":{\"outlinewidth\":0,\"ticks\":\"\"}}}],\"histogram\":[{\"marker\":{\"pattern\":{\"fillmode\":\"overlay\",\"size\":10,\"solidity\":0.2}},\"type\":\"histogram\"}],\"scattergl\":[{\"marker\":{\"line\":{\"color\":\"#283442\"}},\"type\":\"scattergl\"}],\"scatter3d\":[{\"type\":\"scatter3d\",\"line\":{\"colorbar\":{\"outlinewidth\":0,\"ticks\":\"\"}},\"marker\":{\"colorbar\":{\"outlinewidth\":0,\"ticks\":\"\"}}}],\"scattermapbox\":[{\"type\":\"scattermapbox\",\"marker\":{\"colorbar\":{\"outlinewidth\":0,\"ticks\":\"\"}}}],\"scatterternary\":[{\"type\":\"scatterternary\",\"marker\":{\"colorbar\":{\"outlinewidth\":0,\"ticks\":\"\"}}}],\"scattercarpet\":[{\"type\":\"scattercarpet\",\"marker\":{\"colorbar\":{\"outlinewidth\":0,\"ticks\":\"\"}}}],\"carpet\":[{\"aaxis\":{\"endlinecolor\":\"#A2B1C6\",\"gridcolor\":\"#506784\",\"linecolor\":\"#506784\",\"minorgridcolor\":\"#506784\",\"startlinecolor\":\"#A2B1C6\"},\"baxis\":{\"endlinecolor\":\"#A2B1C6\",\"gridcolor\":\"#506784\",\"linecolor\":\"#506784\",\"minorgridcolor\":\"#506784\",\"startlinecolor\":\"#A2B1C6\"},\"type\":\"carpet\"}],\"table\":[{\"cells\":{\"fill\":{\"color\":\"#506784\"},\"line\":{\"color\":\"rgb(17,17,17)\"}},\"header\":{\"fill\":{\"color\":\"#2a3f5f\"},\"line\":{\"color\":\"rgb(17,17,17)\"}},\"type\":\"table\"}],\"barpolar\":[{\"marker\":{\"line\":{\"color\":\"rgb(17,17,17)\",\"width\":0.5},\"pattern\":{\"fillmode\":\"overlay\",\"size\":10,\"solidity\":0.2}},\"type\":\"barpolar\"}],\"pie\":[{\"automargin\":true,\"type\":\"pie\"}]},\"layout\":{\"autotypenumbers\":\"strict\",\"colorway\":[\"#636efa\",\"#EF553B\",\"#00cc96\",\"#ab63fa\",\"#FFA15A\",\"#19d3f3\",\"#FF6692\",\"#B6E880\",\"#FF97FF\",\"#FECB52\"],\"font\":{\"color\":\"#f2f5fa\"},\"hovermode\":\"closest\",\"hoverlabel\":{\"align\":\"left\"},\"paper_bgcolor\":\"rgb(17,17,17)\",\"plot_bgcolor\":\"rgb(17,17,17)\",\"polar\":{\"bgcolor\":\"rgb(17,17,17)\",\"angularaxis\":{\"gridcolor\":\"#506784\",\"linecolor\":\"#506784\",\"ticks\":\"\"},\"radialaxis\":{\"gridcolor\":\"#506784\",\"linecolor\":\"#506784\",\"ticks\":\"\"}},\"ternary\":{\"bgcolor\":\"rgb(17,17,17)\",\"aaxis\":{\"gridcolor\":\"#506784\",\"linecolor\":\"#506784\",\"ticks\":\"\"},\"baxis\":{\"gridcolor\":\"#506784\",\"linecolor\":\"#506784\",\"ticks\":\"\"},\"caxis\":{\"gridcolor\":\"#506784\",\"linecolor\":\"#506784\",\"ticks\":\"\"}},\"coloraxis\":{\"colorbar\":{\"outlinewidth\":0,\"ticks\":\"\"}},\"colorscale\":{\"sequential\":[[0.0,\"#0d0887\"],[0.1111111111111111,\"#46039f\"],[0.2222222222222222,\"#7201a8\"],[0.3333333333333333,\"#9c179e\"],[0.4444444444444444,\"#bd3786\"],[0.5555555555555556,\"#d8576b\"],[0.6666666666666666,\"#ed7953\"],[0.7777777777777778,\"#fb9f3a\"],[0.8888888888888888,\"#fdca26\"],[1.0,\"#f0f921\"]],\"sequentialminus\":[[0.0,\"#0d0887\"],[0.1111111111111111,\"#46039f\"],[0.2222222222222222,\"#7201a8\"],[0.3333333333333333,\"#9c179e\"],[0.4444444444444444,\"#bd3786\"],[0.5555555555555556,\"#d8576b\"],[0.6666666666666666,\"#ed7953\"],[0.7777777777777778,\"#fb9f3a\"],[0.8888888888888888,\"#fdca26\"],[1.0,\"#f0f921\"]],\"diverging\":[[0,\"#8e0152\"],[0.1,\"#c51b7d\"],[0.2,\"#de77ae\"],[0.3,\"#f1b6da\"],[0.4,\"#fde0ef\"],[0.5,\"#f7f7f7\"],[0.6,\"#e6f5d0\"],[0.7,\"#b8e186\"],[0.8,\"#7fbc41\"],[0.9,\"#4d9221\"],[1,\"#276419\"]]},\"xaxis\":{\"gridcolor\":\"#283442\",\"linecolor\":\"#506784\",\"ticks\":\"\",\"title\":{\"standoff\":15},\"zerolinecolor\":\"#283442\",\"automargin\":true,\"zerolinewidth\":2},\"yaxis\":{\"gridcolor\":\"#283442\",\"linecolor\":\"#506784\",\"ticks\":\"\",\"title\":{\"standoff\":15},\"zerolinecolor\":\"#283442\",\"automargin\":true,\"zerolinewidth\":2},\"scene\":{\"xaxis\":{\"backgroundcolor\":\"rgb(17,17,17)\",\"gridcolor\":\"#506784\",\"linecolor\":\"#506784\",\"showbackground\":true,\"ticks\":\"\",\"zerolinecolor\":\"#C8D4E3\",\"gridwidth\":2},\"yaxis\":{\"backgroundcolor\":\"rgb(17,17,17)\",\"gridcolor\":\"#506784\",\"linecolor\":\"#506784\",\"showbackground\":true,\"ticks\":\"\",\"zerolinecolor\":\"#C8D4E3\",\"gridwidth\":2},\"zaxis\":{\"backgroundcolor\":\"rgb(17,17,17)\",\"gridcolor\":\"#506784\",\"linecolor\":\"#506784\",\"showbackground\":true,\"ticks\":\"\",\"zerolinecolor\":\"#C8D4E3\",\"gridwidth\":2}},\"shapedefaults\":{\"line\":{\"color\":\"#f2f5fa\"}},\"annotationdefaults\":{\"arrowcolor\":\"#f2f5fa\",\"arrowhead\":0,\"arrowwidth\":1},\"geo\":{\"bgcolor\":\"rgb(17,17,17)\",\"landcolor\":\"rgb(17,17,17)\",\"subunitcolor\":\"#506784\",\"showland\":true,\"showlakes\":true,\"lakecolor\":\"rgb(17,17,17)\"},\"title\":{\"x\":0.05},\"updatemenudefaults\":{\"bgcolor\":\"#506784\",\"borderwidth\":0},\"sliderdefaults\":{\"bgcolor\":\"#C8D4E3\",\"borderwidth\":1,\"bordercolor\":\"rgb(17,17,17)\",\"tickwidth\":0},\"mapbox\":{\"style\":\"dark\"}}},\"geo\":{\"domain\":{\"x\":[0.0,1.0],\"y\":[0.0,1.0]},\"center\":{}},\"coloraxis\":{\"colorbar\":{\"title\":{\"text\":\"Log_Confirmed\"}},\"colorscale\":[[0.0,\"rgb(255,247,236)\"],[0.125,\"rgb(254,232,200)\"],[0.25,\"rgb(253,212,158)\"],[0.375,\"rgb(253,187,132)\"],[0.5,\"rgb(252,141,89)\"],[0.625,\"rgb(239,101,72)\"],[0.75,\"rgb(215,48,31)\"],[0.875,\"rgb(179,0,0)\"],[1.0,\"rgb(127,0,0)\"]]},\"legend\":{\"tracegroupgap\":0},\"title\":{\"text\":\"Log-Scaled Confirmed Cases Worldwide\"},\"margin\":{\"r\":0,\"t\":40,\"l\":0,\"b\":0},\"height\":500,\"width\":750},                        {\"responsive\": true}                    ).then(function(){\n",
              "                            \n",
              "var gd = document.getElementById('53edf52c-b586-4782-969f-dd606a906cf8');\n",
              "var x = new MutationObserver(function (mutations, observer) {{\n",
              "        var display = window.getComputedStyle(gd).display;\n",
              "        if (!display || display === 'none') {{\n",
              "            console.log([gd, 'removed!']);\n",
              "            Plotly.purge(gd);\n",
              "            observer.disconnect();\n",
              "        }}\n",
              "}});\n",
              "\n",
              "// Listen for the removal of the full notebook cells\n",
              "var notebookContainer = gd.closest('#notebook-container');\n",
              "if (notebookContainer) {{\n",
              "    x.observe(notebookContainer, {childList: true});\n",
              "}}\n",
              "\n",
              "// Listen for the clearing of the current output cell\n",
              "var outputEl = gd.closest('.output');\n",
              "if (outputEl) {{\n",
              "    x.observe(outputEl, {childList: true});\n",
              "}}\n",
              "\n",
              "                        })                };                            </script>        </div>\n",
              "</body>\n",
              "</html>"
            ]
          },
          "metadata": {}
        }
      ],
      "source": [
        "import plotly.express as px\n",
        "import numpy as np\n",
        "\n",
        "# Convert negative infinite values (resulting from log(0)) to 0\n",
        "data_country_wise_latest['Log_Confirmed'] = np.log(data_country_wise_latest['Confirmed']).replace(-np.inf, 0)\n",
        "\n",
        "fig = px.choropleth(data_country_wise_latest,\n",
        "                    locations=\"ISO_Code\",\n",
        "                    color=\"Log_Confirmed\",  # Use logarithmic values for color\n",
        "                    hover_name=\"Country/Region\",\n",
        "                    hover_data=[\"Confirmed\"],  # Display actual confirmed cases in hover data\n",
        "                    color_continuous_scale=px.colors.sequential.OrRd,\n",
        "                    title=\"Log-Scaled Confirmed Cases Worldwide\")\n",
        "\n",
        "# Adjusting the layout to improve appearance\n",
        "fig.update_layout(\n",
        "    height=500,\n",
        "    width=750,\n",
        "    margin={\"r\":0,\"t\":40,\"l\":0,\"b\":0}\n",
        ")\n",
        "\n",
        "fig.show()\n"
      ]
    },
    {
      "cell_type": "markdown",
      "source": [
        "### Low-high seperation"
      ],
      "metadata": {
        "id": "KILkdlccZ22W"
      }
    },
    {
      "cell_type": "code",
      "execution_count": null,
      "metadata": {
        "colab": {
          "base_uri": "https://localhost:8080/",
          "height": 467
        },
        "id": "bw_OF7cujVGw",
        "outputId": "d36d477d-1738-41eb-bebc-ae3e678390df"
      },
      "outputs": [
        {
          "output_type": "display_data",
          "data": {
            "text/html": [
              "<html>\n",
              "<head><meta charset=\"utf-8\" /></head>\n",
              "<body>\n",
              "    <div>            <script src=\"https://cdnjs.cloudflare.com/ajax/libs/mathjax/2.7.5/MathJax.js?config=TeX-AMS-MML_SVG\"></script><script type=\"text/javascript\">if (window.MathJax && window.MathJax.Hub && window.MathJax.Hub.Config) {window.MathJax.Hub.Config({SVG: {font: \"STIX-Web\"}});}</script>                <script type=\"text/javascript\">window.PlotlyConfig = {MathJaxConfig: 'local'};</script>\n",
              "        <script charset=\"utf-8\" src=\"https://cdn.plot.ly/plotly-2.24.1.min.js\"></script>                <div id=\"ce07c9a5-4326-4e43-81b7-5dc6818e759f\" class=\"plotly-graph-div\" style=\"height:450px; width:800px;\"></div>            <script type=\"text/javascript\">                                    window.PLOTLYENV=window.PLOTLYENV || {};                                    if (document.getElementById(\"ce07c9a5-4326-4e43-81b7-5dc6818e759f\")) {                    Plotly.newPlot(                        \"ce07c9a5-4326-4e43-81b7-5dc6818e759f\",                        [{\"colorbar\":{\"len\":0.5,\"thickness\":15,\"x\":0.45},\"colorscale\":[[0.0,\"rgb(255,245,240)\"],[0.125,\"rgb(254,224,210)\"],[0.25,\"rgb(252,187,161)\"],[0.375,\"rgb(252,146,114)\"],[0.5,\"rgb(251,106,74)\"],[0.625,\"rgb(239,59,44)\"],[0.75,\"rgb(203,24,29)\"],[0.875,\"rgb(165,15,21)\"],[1.0,\"rgb(103,0,13)\"]],\"locations\":[\"BRA\",\"IND\",\"USA\"],\"name\":\"High cases\",\"z\":[2442375,1480073,4290259],\"type\":\"choropleth\",\"geo\":\"geo\"},{\"colorbar\":{\"len\":0.5,\"thickness\":15,\"x\":1},\"colorscale\":[[0.0,\"rgb(247,251,255)\"],[0.125,\"rgb(222,235,247)\"],[0.25,\"rgb(198,219,239)\"],[0.375,\"rgb(158,202,225)\"],[0.5,\"rgb(107,174,214)\"],[0.625,\"rgb(66,146,198)\"],[0.75,\"rgb(33,113,181)\"],[0.875,\"rgb(8,81,156)\"],[1.0,\"rgb(8,48,107)\"]],\"locations\":[\"AFG\",\"ALB\",\"DZA\",\"AND\",\"AGO\",\"ATG\",\"ARG\",\"ARM\",\"AUS\",\"AUT\",\"AZE\",\"BHS\",\"BHR\",\"BGD\",\"BRB\",\"BLR\",\"BEL\",\"BLZ\",\"BEN\",\"BTN\",\"BOL\",\"BIH\",\"BWA\",\"BRN\",\"BGR\",\"BFA\",\"MMR\",\"BDI\",\"CPV\",\"KHM\",\"CMR\",\"CAN\",\"CAF\",\"TCD\",\"CHL\",\"CHN\",\"COL\",\"COM\",\"COG\",\"COD\",\"CRI\",\"CIV\",\"HRV\",\"CUB\",\"CYP\",\"CZE\",\"DNK\",\"DJI\",\"DMA\",\"DOM\",\"ECU\",\"EGY\",\"SLV\",\"GNQ\",\"ERI\",\"EST\",\"SWZ\",\"ETH\",\"FJI\",\"FIN\",\"FRA\",\"GAB\",\"GMB\",\"GEO\",\"DEU\",\"GHA\",\"GRC\",\"GRL\",\"GRD\",\"GTM\",\"GIN\",\"GNB\",\"GUY\",\"HTI\",\"VAT\",\"HND\",\"HUN\",\"ISL\",\"IDN\",\"IRN\",\"IRQ\",\"IRL\",\"ISR\",\"ITA\",\"JAM\",\"JPN\",\"JOR\",\"KAZ\",\"KEN\",null,\"KWT\",\"KGZ\",\"LAO\",\"LVA\",\"LBN\",\"LSO\",\"LBR\",\"LBY\",\"LIE\",\"LTU\",\"LUX\",\"MDG\",\"MWI\",\"MYS\",\"MDV\",\"MLI\",\"MLT\",\"MRT\",\"MUS\",\"MEX\",\"MDA\",\"MCO\",\"MNG\",\"MNE\",\"MAR\",\"MOZ\",\"NAM\",\"NPL\",\"NLD\",\"NZL\",\"NIC\",\"NER\",\"NGA\",\"MKD\",\"NOR\",\"OMN\",\"PAK\",\"PAN\",\"PNG\",\"PRY\",\"PER\",\"PHL\",\"POL\",\"PRT\",\"QAT\",\"ROU\",\"RUS\",\"RWA\",\"KNA\",\"LCA\",\"VCT\",\"SMR\",\"STP\",\"SAU\",\"SEN\",\"SRB\",\"SYC\",\"SLE\",\"SGP\",\"SVK\",\"SVN\",\"SOM\",\"ZAF\",\"KOR\",\"SSD\",\"ESP\",\"LKA\",\"SDN\",\"SUR\",\"SWE\",\"CHE\",\"SYR\",null,\"TJK\",\"TZA\",\"THA\",\"TLS\",\"TGO\",\"TTO\",\"TUN\",\"TUR\",\"UGA\",\"UKR\",\"ARE\",\"GBR\",\"URY\",\"UZB\",\"VEN\",\"VNM\",\"PSE\",\"ESH\",\"YEM\",\"ZMB\",\"ZWE\"],\"name\":\"Low cases\",\"z\":[36263,4880,27973,907,950,86,167416,37390,15303,20558,30446,382,39482,226225,110,67251,66428,48,1770,99,71181,10498,739,141,10621,1100,350,378,2328,226,17110,116458,4599,922,347923,86783,257101,354,3200,8844,15841,15655,4881,2532,1060,15516,13761,5059,18,64156,81161,92482,15035,3071,265,2034,2316,14547,27,7398,220352,7189,326,1137,207112,33624,4227,14,23,45309,7055,1954,389,7340,12,39741,4448,1854,100303,293606,112585,25892,63985,246286,853,31142,1176,84648,17975,7413,64379,33296,20,1219,3882,505,1167,2827,86,2019,6321,9690,3664,8904,3369,2513,701,6208,344,395489,23154,116,289,2893,20887,1701,1843,18752,53413,1557,3439,1132,41180,10213,9132,77058,274289,61442,62,4548,389717,82040,43402,50299,109597,45902,816680,1879,17,24,52,699,865,268934,9764,24141,114,1783,50838,2181,2087,3196,452529,14203,2305,272421,2805,11424,1483,79395,34477,674,462,7235,509,3297,24,874,148,1455,227019,1128,67096,59177,301708,1202,21209,15988,431,10621,10,1691,4552,2704],\"type\":\"choropleth\",\"geo\":\"geo2\"}],                        {\"template\":{\"data\":{\"histogram2dcontour\":[{\"type\":\"histogram2dcontour\",\"colorbar\":{\"outlinewidth\":0,\"ticks\":\"\"},\"colorscale\":[[0.0,\"#0d0887\"],[0.1111111111111111,\"#46039f\"],[0.2222222222222222,\"#7201a8\"],[0.3333333333333333,\"#9c179e\"],[0.4444444444444444,\"#bd3786\"],[0.5555555555555556,\"#d8576b\"],[0.6666666666666666,\"#ed7953\"],[0.7777777777777778,\"#fb9f3a\"],[0.8888888888888888,\"#fdca26\"],[1.0,\"#f0f921\"]]}],\"choropleth\":[{\"type\":\"choropleth\",\"colorbar\":{\"outlinewidth\":0,\"ticks\":\"\"}}],\"histogram2d\":[{\"type\":\"histogram2d\",\"colorbar\":{\"outlinewidth\":0,\"ticks\":\"\"},\"colorscale\":[[0.0,\"#0d0887\"],[0.1111111111111111,\"#46039f\"],[0.2222222222222222,\"#7201a8\"],[0.3333333333333333,\"#9c179e\"],[0.4444444444444444,\"#bd3786\"],[0.5555555555555556,\"#d8576b\"],[0.6666666666666666,\"#ed7953\"],[0.7777777777777778,\"#fb9f3a\"],[0.8888888888888888,\"#fdca26\"],[1.0,\"#f0f921\"]]}],\"heatmap\":[{\"type\":\"heatmap\",\"colorbar\":{\"outlinewidth\":0,\"ticks\":\"\"},\"colorscale\":[[0.0,\"#0d0887\"],[0.1111111111111111,\"#46039f\"],[0.2222222222222222,\"#7201a8\"],[0.3333333333333333,\"#9c179e\"],[0.4444444444444444,\"#bd3786\"],[0.5555555555555556,\"#d8576b\"],[0.6666666666666666,\"#ed7953\"],[0.7777777777777778,\"#fb9f3a\"],[0.8888888888888888,\"#fdca26\"],[1.0,\"#f0f921\"]]}],\"heatmapgl\":[{\"type\":\"heatmapgl\",\"colorbar\":{\"outlinewidth\":0,\"ticks\":\"\"},\"colorscale\":[[0.0,\"#0d0887\"],[0.1111111111111111,\"#46039f\"],[0.2222222222222222,\"#7201a8\"],[0.3333333333333333,\"#9c179e\"],[0.4444444444444444,\"#bd3786\"],[0.5555555555555556,\"#d8576b\"],[0.6666666666666666,\"#ed7953\"],[0.7777777777777778,\"#fb9f3a\"],[0.8888888888888888,\"#fdca26\"],[1.0,\"#f0f921\"]]}],\"contourcarpet\":[{\"type\":\"contourcarpet\",\"colorbar\":{\"outlinewidth\":0,\"ticks\":\"\"}}],\"contour\":[{\"type\":\"contour\",\"colorbar\":{\"outlinewidth\":0,\"ticks\":\"\"},\"colorscale\":[[0.0,\"#0d0887\"],[0.1111111111111111,\"#46039f\"],[0.2222222222222222,\"#7201a8\"],[0.3333333333333333,\"#9c179e\"],[0.4444444444444444,\"#bd3786\"],[0.5555555555555556,\"#d8576b\"],[0.6666666666666666,\"#ed7953\"],[0.7777777777777778,\"#fb9f3a\"],[0.8888888888888888,\"#fdca26\"],[1.0,\"#f0f921\"]]}],\"surface\":[{\"type\":\"surface\",\"colorbar\":{\"outlinewidth\":0,\"ticks\":\"\"},\"colorscale\":[[0.0,\"#0d0887\"],[0.1111111111111111,\"#46039f\"],[0.2222222222222222,\"#7201a8\"],[0.3333333333333333,\"#9c179e\"],[0.4444444444444444,\"#bd3786\"],[0.5555555555555556,\"#d8576b\"],[0.6666666666666666,\"#ed7953\"],[0.7777777777777778,\"#fb9f3a\"],[0.8888888888888888,\"#fdca26\"],[1.0,\"#f0f921\"]]}],\"mesh3d\":[{\"type\":\"mesh3d\",\"colorbar\":{\"outlinewidth\":0,\"ticks\":\"\"}}],\"scatter\":[{\"marker\":{\"line\":{\"color\":\"#283442\"}},\"type\":\"scatter\"}],\"parcoords\":[{\"type\":\"parcoords\",\"line\":{\"colorbar\":{\"outlinewidth\":0,\"ticks\":\"\"}}}],\"scatterpolargl\":[{\"type\":\"scatterpolargl\",\"marker\":{\"colorbar\":{\"outlinewidth\":0,\"ticks\":\"\"}}}],\"bar\":[{\"error_x\":{\"color\":\"#f2f5fa\"},\"error_y\":{\"color\":\"#f2f5fa\"},\"marker\":{\"line\":{\"color\":\"rgb(17,17,17)\",\"width\":0.5},\"pattern\":{\"fillmode\":\"overlay\",\"size\":10,\"solidity\":0.2}},\"type\":\"bar\"}],\"scattergeo\":[{\"type\":\"scattergeo\",\"marker\":{\"colorbar\":{\"outlinewidth\":0,\"ticks\":\"\"}}}],\"scatterpolar\":[{\"type\":\"scatterpolar\",\"marker\":{\"colorbar\":{\"outlinewidth\":0,\"ticks\":\"\"}}}],\"histogram\":[{\"marker\":{\"pattern\":{\"fillmode\":\"overlay\",\"size\":10,\"solidity\":0.2}},\"type\":\"histogram\"}],\"scattergl\":[{\"marker\":{\"line\":{\"color\":\"#283442\"}},\"type\":\"scattergl\"}],\"scatter3d\":[{\"type\":\"scatter3d\",\"line\":{\"colorbar\":{\"outlinewidth\":0,\"ticks\":\"\"}},\"marker\":{\"colorbar\":{\"outlinewidth\":0,\"ticks\":\"\"}}}],\"scattermapbox\":[{\"type\":\"scattermapbox\",\"marker\":{\"colorbar\":{\"outlinewidth\":0,\"ticks\":\"\"}}}],\"scatterternary\":[{\"type\":\"scatterternary\",\"marker\":{\"colorbar\":{\"outlinewidth\":0,\"ticks\":\"\"}}}],\"scattercarpet\":[{\"type\":\"scattercarpet\",\"marker\":{\"colorbar\":{\"outlinewidth\":0,\"ticks\":\"\"}}}],\"carpet\":[{\"aaxis\":{\"endlinecolor\":\"#A2B1C6\",\"gridcolor\":\"#506784\",\"linecolor\":\"#506784\",\"minorgridcolor\":\"#506784\",\"startlinecolor\":\"#A2B1C6\"},\"baxis\":{\"endlinecolor\":\"#A2B1C6\",\"gridcolor\":\"#506784\",\"linecolor\":\"#506784\",\"minorgridcolor\":\"#506784\",\"startlinecolor\":\"#A2B1C6\"},\"type\":\"carpet\"}],\"table\":[{\"cells\":{\"fill\":{\"color\":\"#506784\"},\"line\":{\"color\":\"rgb(17,17,17)\"}},\"header\":{\"fill\":{\"color\":\"#2a3f5f\"},\"line\":{\"color\":\"rgb(17,17,17)\"}},\"type\":\"table\"}],\"barpolar\":[{\"marker\":{\"line\":{\"color\":\"rgb(17,17,17)\",\"width\":0.5},\"pattern\":{\"fillmode\":\"overlay\",\"size\":10,\"solidity\":0.2}},\"type\":\"barpolar\"}],\"pie\":[{\"automargin\":true,\"type\":\"pie\"}]},\"layout\":{\"autotypenumbers\":\"strict\",\"colorway\":[\"#636efa\",\"#EF553B\",\"#00cc96\",\"#ab63fa\",\"#FFA15A\",\"#19d3f3\",\"#FF6692\",\"#B6E880\",\"#FF97FF\",\"#FECB52\"],\"font\":{\"color\":\"#f2f5fa\"},\"hovermode\":\"closest\",\"hoverlabel\":{\"align\":\"left\"},\"paper_bgcolor\":\"rgb(17,17,17)\",\"plot_bgcolor\":\"rgb(17,17,17)\",\"polar\":{\"bgcolor\":\"rgb(17,17,17)\",\"angularaxis\":{\"gridcolor\":\"#506784\",\"linecolor\":\"#506784\",\"ticks\":\"\"},\"radialaxis\":{\"gridcolor\":\"#506784\",\"linecolor\":\"#506784\",\"ticks\":\"\"}},\"ternary\":{\"bgcolor\":\"rgb(17,17,17)\",\"aaxis\":{\"gridcolor\":\"#506784\",\"linecolor\":\"#506784\",\"ticks\":\"\"},\"baxis\":{\"gridcolor\":\"#506784\",\"linecolor\":\"#506784\",\"ticks\":\"\"},\"caxis\":{\"gridcolor\":\"#506784\",\"linecolor\":\"#506784\",\"ticks\":\"\"}},\"coloraxis\":{\"colorbar\":{\"outlinewidth\":0,\"ticks\":\"\"}},\"colorscale\":{\"sequential\":[[0.0,\"#0d0887\"],[0.1111111111111111,\"#46039f\"],[0.2222222222222222,\"#7201a8\"],[0.3333333333333333,\"#9c179e\"],[0.4444444444444444,\"#bd3786\"],[0.5555555555555556,\"#d8576b\"],[0.6666666666666666,\"#ed7953\"],[0.7777777777777778,\"#fb9f3a\"],[0.8888888888888888,\"#fdca26\"],[1.0,\"#f0f921\"]],\"sequentialminus\":[[0.0,\"#0d0887\"],[0.1111111111111111,\"#46039f\"],[0.2222222222222222,\"#7201a8\"],[0.3333333333333333,\"#9c179e\"],[0.4444444444444444,\"#bd3786\"],[0.5555555555555556,\"#d8576b\"],[0.6666666666666666,\"#ed7953\"],[0.7777777777777778,\"#fb9f3a\"],[0.8888888888888888,\"#fdca26\"],[1.0,\"#f0f921\"]],\"diverging\":[[0,\"#8e0152\"],[0.1,\"#c51b7d\"],[0.2,\"#de77ae\"],[0.3,\"#f1b6da\"],[0.4,\"#fde0ef\"],[0.5,\"#f7f7f7\"],[0.6,\"#e6f5d0\"],[0.7,\"#b8e186\"],[0.8,\"#7fbc41\"],[0.9,\"#4d9221\"],[1,\"#276419\"]]},\"xaxis\":{\"gridcolor\":\"#283442\",\"linecolor\":\"#506784\",\"ticks\":\"\",\"title\":{\"standoff\":15},\"zerolinecolor\":\"#283442\",\"automargin\":true,\"zerolinewidth\":2},\"yaxis\":{\"gridcolor\":\"#283442\",\"linecolor\":\"#506784\",\"ticks\":\"\",\"title\":{\"standoff\":15},\"zerolinecolor\":\"#283442\",\"automargin\":true,\"zerolinewidth\":2},\"scene\":{\"xaxis\":{\"backgroundcolor\":\"rgb(17,17,17)\",\"gridcolor\":\"#506784\",\"linecolor\":\"#506784\",\"showbackground\":true,\"ticks\":\"\",\"zerolinecolor\":\"#C8D4E3\",\"gridwidth\":2},\"yaxis\":{\"backgroundcolor\":\"rgb(17,17,17)\",\"gridcolor\":\"#506784\",\"linecolor\":\"#506784\",\"showbackground\":true,\"ticks\":\"\",\"zerolinecolor\":\"#C8D4E3\",\"gridwidth\":2},\"zaxis\":{\"backgroundcolor\":\"rgb(17,17,17)\",\"gridcolor\":\"#506784\",\"linecolor\":\"#506784\",\"showbackground\":true,\"ticks\":\"\",\"zerolinecolor\":\"#C8D4E3\",\"gridwidth\":2}},\"shapedefaults\":{\"line\":{\"color\":\"#f2f5fa\"}},\"annotationdefaults\":{\"arrowcolor\":\"#f2f5fa\",\"arrowhead\":0,\"arrowwidth\":1},\"geo\":{\"bgcolor\":\"rgb(17,17,17)\",\"landcolor\":\"rgb(17,17,17)\",\"subunitcolor\":\"#506784\",\"showland\":true,\"showlakes\":true,\"lakecolor\":\"rgb(17,17,17)\"},\"title\":{\"x\":0.05},\"updatemenudefaults\":{\"bgcolor\":\"#506784\",\"borderwidth\":0},\"sliderdefaults\":{\"bgcolor\":\"#C8D4E3\",\"borderwidth\":1,\"bordercolor\":\"rgb(17,17,17)\",\"tickwidth\":0},\"mapbox\":{\"style\":\"dark\"}}},\"geo\":{\"domain\":{\"x\":[0.0,0.45],\"y\":[0.0,1.0]},\"projection\":{\"type\":\"mercator\"}},\"geo2\":{\"domain\":{\"x\":[0.55,1.0],\"y\":[0.0,1.0]},\"projection\":{\"type\":\"mercator\"}},\"annotations\":[{\"font\":{\"size\":16},\"showarrow\":false,\"text\":\"High Cases\",\"x\":0.225,\"xanchor\":\"center\",\"xref\":\"paper\",\"y\":0.9,\"yanchor\":\"bottom\",\"yref\":\"paper\"},{\"font\":{\"size\":16},\"showarrow\":false,\"text\":\"Low Cases\",\"x\":0.775,\"xanchor\":\"center\",\"xref\":\"paper\",\"y\":0.9,\"yanchor\":\"bottom\",\"yref\":\"paper\"}],\"margin\":{\"r\":0,\"t\":0,\"l\":10,\"b\":0},\"height\":450,\"width\":800},                        {\"responsive\": true}                    ).then(function(){\n",
              "                            \n",
              "var gd = document.getElementById('ce07c9a5-4326-4e43-81b7-5dc6818e759f');\n",
              "var x = new MutationObserver(function (mutations, observer) {{\n",
              "        var display = window.getComputedStyle(gd).display;\n",
              "        if (!display || display === 'none') {{\n",
              "            console.log([gd, 'removed!']);\n",
              "            Plotly.purge(gd);\n",
              "            observer.disconnect();\n",
              "        }}\n",
              "}});\n",
              "\n",
              "// Listen for the removal of the full notebook cells\n",
              "var notebookContainer = gd.closest('#notebook-container');\n",
              "if (notebookContainer) {{\n",
              "    x.observe(notebookContainer, {childList: true});\n",
              "}}\n",
              "\n",
              "// Listen for the clearing of the current output cell\n",
              "var outputEl = gd.closest('.output');\n",
              "if (outputEl) {{\n",
              "    x.observe(outputEl, {childList: true});\n",
              "}}\n",
              "\n",
              "                        })                };                            </script>        </div>\n",
              "</body>\n",
              "</html>"
            ]
          },
          "metadata": {}
        }
      ],
      "source": [
        "import plotly.graph_objects as go\n",
        "from plotly.subplots import make_subplots\n",
        "\n",
        "# Define the threshold\n",
        "threshold = 1000000  # Example threshold\n",
        "\n",
        "# Splitting datasets\n",
        "high_cases_df = data_country_wise_latest[data_country_wise_latest['Confirmed'] > threshold]\n",
        "low_cases_df = data_country_wise_latest[data_country_wise_latest['Confirmed'] <= threshold]\n",
        "\n",
        "# Creating choropleth maps\n",
        "trace_high = go.Choropleth(\n",
        "    locations=high_cases_df['ISO_Code'],\n",
        "    z=high_cases_df['Confirmed'],\n",
        "    colorscale='Reds',\n",
        "    name='High Confirmed cases',\n",
        "    colorbar=dict(thickness=15, len=0.5, x=0.45)\n",
        ")\n",
        "\n",
        "trace_low = go.Choropleth(\n",
        "    locations=low_cases_df['ISO_Code'],\n",
        "    z=low_cases_df['Confirmed'],\n",
        "    colorscale='Blues',\n",
        "    name='Low Confirmed cases',\n",
        "    colorbar=dict(thickness=15, len=0.5, x=1)\n",
        ")\n",
        "\n",
        "# Creating a subplot with geo subplot type\n",
        "fig = make_subplots(\n",
        "    rows=1, cols=2,\n",
        "    subplot_titles=('High Confirmed Cases', 'Low Confirmed Cases'),\n",
        "    column_widths=[0.5, 0.5],\n",
        "    specs=[[{'type': 'choropleth'}, {'type': 'choropleth'}]]\n",
        ")\n",
        "\n",
        "# Adding the choropleth maps to the subplot\n",
        "fig.add_trace(trace_high, 1, 1)\n",
        "fig.add_trace(trace_low, 1, 2)\n",
        "\n",
        "# Updating the layout, geo properties, and reducing the gap\n",
        "fig.update_layout(\n",
        "    height=450,\n",
        "    width=800,\n",
        "    margin={\"r\":0,\"t\":0,\"l\":10,\"b\":0}\n",
        ")\n",
        "fig.update_geos(projection_type=\"mercator\")\n",
        "\n",
        "# Adjusting the title properties for a reduced gap\n",
        "for annotation in fig['layout']['annotations']:\n",
        "    annotation['yanchor']='bottom'\n",
        "    annotation['y']=0.9\n",
        "\n",
        "fig.show()\n"
      ]
    },
    {
      "cell_type": "markdown",
      "source": [
        "## Total Deaths\n",
        "\n",
        "\n"
      ],
      "metadata": {
        "id": "3baipmz8Y6mj"
      }
    },
    {
      "cell_type": "code",
      "execution_count": null,
      "metadata": {
        "colab": {
          "base_uri": "https://localhost:8080/",
          "height": 467
        },
        "id": "F1dX2zMup79r",
        "outputId": "c978a6ce-85ca-4d1e-e15b-d262b5730242"
      },
      "outputs": [
        {
          "output_type": "display_data",
          "data": {
            "text/html": [
              "<html>\n",
              "<head><meta charset=\"utf-8\" /></head>\n",
              "<body>\n",
              "    <div>            <script src=\"https://cdnjs.cloudflare.com/ajax/libs/mathjax/2.7.5/MathJax.js?config=TeX-AMS-MML_SVG\"></script><script type=\"text/javascript\">if (window.MathJax && window.MathJax.Hub && window.MathJax.Hub.Config) {window.MathJax.Hub.Config({SVG: {font: \"STIX-Web\"}});}</script>                <script type=\"text/javascript\">window.PlotlyConfig = {MathJaxConfig: 'local'};</script>\n",
              "        <script charset=\"utf-8\" src=\"https://cdn.plot.ly/plotly-2.24.1.min.js\"></script>                <div id=\"05dc8a8f-2c08-49c8-8c6b-442c1ae2e4b6\" class=\"plotly-graph-div\" style=\"height:450px; width:800px;\"></div>            <script type=\"text/javascript\">                                    window.PLOTLYENV=window.PLOTLYENV || {};                                    if (document.getElementById(\"05dc8a8f-2c08-49c8-8c6b-442c1ae2e4b6\")) {                    Plotly.newPlot(                        \"05dc8a8f-2c08-49c8-8c6b-442c1ae2e4b6\",                        [{\"colorbar\":{\"len\":0.5,\"thickness\":15,\"x\":0.45},\"colorscale\":[[0.0,\"rgb(255,245,240)\"],[0.125,\"rgb(254,224,210)\"],[0.25,\"rgb(252,187,161)\"],[0.375,\"rgb(252,146,114)\"],[0.5,\"rgb(251,106,74)\"],[0.625,\"rgb(239,59,44)\"],[0.75,\"rgb(203,24,29)\"],[0.875,\"rgb(165,15,21)\"],[1.0,\"rgb(103,0,13)\"]],\"locations\":[\"BRA\",\"MEX\",\"USA\",\"GBR\"],\"name\":\"High cases\",\"z\":[87618,44022,148011,45844],\"type\":\"choropleth\",\"geo\":\"geo\"},{\"colorbar\":{\"len\":0.5,\"thickness\":15,\"x\":1},\"colorscale\":[[0.0,\"rgb(247,251,255)\"],[0.125,\"rgb(222,235,247)\"],[0.25,\"rgb(198,219,239)\"],[0.375,\"rgb(158,202,225)\"],[0.5,\"rgb(107,174,214)\"],[0.625,\"rgb(66,146,198)\"],[0.75,\"rgb(33,113,181)\"],[0.875,\"rgb(8,81,156)\"],[1.0,\"rgb(8,48,107)\"]],\"locations\":[\"AFG\",\"ALB\",\"DZA\",\"AND\",\"AGO\",\"ATG\",\"ARG\",\"ARM\",\"AUS\",\"AUT\",\"AZE\",\"BHS\",\"BHR\",\"BGD\",\"BRB\",\"BLR\",\"BEL\",\"BLZ\",\"BEN\",\"BTN\",\"BOL\",\"BIH\",\"BWA\",\"BRN\",\"BGR\",\"BFA\",\"MMR\",\"BDI\",\"CPV\",\"KHM\",\"CMR\",\"CAN\",\"CAF\",\"TCD\",\"CHL\",\"CHN\",\"COL\",\"COM\",\"COG\",\"COD\",\"CRI\",\"CIV\",\"HRV\",\"CUB\",\"CYP\",\"CZE\",\"DNK\",\"DJI\",\"DMA\",\"DOM\",\"ECU\",\"EGY\",\"SLV\",\"GNQ\",\"ERI\",\"EST\",\"SWZ\",\"ETH\",\"FJI\",\"FIN\",\"FRA\",\"GAB\",\"GMB\",\"GEO\",\"DEU\",\"GHA\",\"GRC\",\"GRL\",\"GRD\",\"GTM\",\"GIN\",\"GNB\",\"GUY\",\"HTI\",\"VAT\",\"HND\",\"HUN\",\"ISL\",\"IND\",\"IDN\",\"IRN\",\"IRQ\",\"IRL\",\"ISR\",\"ITA\",\"JAM\",\"JPN\",\"JOR\",\"KAZ\",\"KEN\",null,\"KWT\",\"KGZ\",\"LAO\",\"LVA\",\"LBN\",\"LSO\",\"LBR\",\"LBY\",\"LIE\",\"LTU\",\"LUX\",\"MDG\",\"MWI\",\"MYS\",\"MDV\",\"MLI\",\"MLT\",\"MRT\",\"MUS\",\"MDA\",\"MCO\",\"MNG\",\"MNE\",\"MAR\",\"MOZ\",\"NAM\",\"NPL\",\"NLD\",\"NZL\",\"NIC\",\"NER\",\"NGA\",\"MKD\",\"NOR\",\"OMN\",\"PAK\",\"PAN\",\"PNG\",\"PRY\",\"PER\",\"PHL\",\"POL\",\"PRT\",\"QAT\",\"ROU\",\"RUS\",\"RWA\",\"KNA\",\"LCA\",\"VCT\",\"SMR\",\"STP\",\"SAU\",\"SEN\",\"SRB\",\"SYC\",\"SLE\",\"SGP\",\"SVK\",\"SVN\",\"SOM\",\"ZAF\",\"KOR\",\"SSD\",\"ESP\",\"LKA\",\"SDN\",\"SUR\",\"SWE\",\"CHE\",\"SYR\",null,\"TJK\",\"TZA\",\"THA\",\"TLS\",\"TGO\",\"TTO\",\"TUN\",\"TUR\",\"UGA\",\"UKR\",\"ARE\",\"URY\",\"UZB\",\"VEN\",\"VNM\",\"PSE\",\"ESH\",\"YEM\",\"ZMB\",\"ZWE\"],\"name\":\"Low cases\",\"z\":[1269,144,1163,52,41,3,3059,711,167,713,423,11,141,2965,7,538,9822,2,35,0,2647,294,2,3,347,53,6,1,22,0,391,8944,59,75,9187,4656,8777,7,54,208,115,96,139,87,19,373,613,58,0,1083,5532,4652,408,51,0,69,34,228,0,329,30212,49,8,16,9125,168,202,0,0,1761,45,26,20,158,0,1166,596,10,33408,4838,15912,4458,1764,474,35112,10,998,11,585,285,185,438,1301,0,31,51,12,72,64,1,80,112,91,99,124,15,124,9,156,10,748,4,0,45,316,11,8,48,6160,22,108,69,860,466,255,393,5842,1322,0,43,18418,1945,1676,1719,165,2206,13334,5,0,0,0,42,14,2760,194,543,0,66,27,28,116,93,7067,300,46,28432,11,720,24,5700,1978,40,7,60,21,58,0,18,8,50,5630,2,1636,345,35,121,146,0,78,1,483,140,36],\"type\":\"choropleth\",\"geo\":\"geo2\"}],                        {\"template\":{\"data\":{\"histogram2dcontour\":[{\"type\":\"histogram2dcontour\",\"colorbar\":{\"outlinewidth\":0,\"ticks\":\"\"},\"colorscale\":[[0.0,\"#0d0887\"],[0.1111111111111111,\"#46039f\"],[0.2222222222222222,\"#7201a8\"],[0.3333333333333333,\"#9c179e\"],[0.4444444444444444,\"#bd3786\"],[0.5555555555555556,\"#d8576b\"],[0.6666666666666666,\"#ed7953\"],[0.7777777777777778,\"#fb9f3a\"],[0.8888888888888888,\"#fdca26\"],[1.0,\"#f0f921\"]]}],\"choropleth\":[{\"type\":\"choropleth\",\"colorbar\":{\"outlinewidth\":0,\"ticks\":\"\"}}],\"histogram2d\":[{\"type\":\"histogram2d\",\"colorbar\":{\"outlinewidth\":0,\"ticks\":\"\"},\"colorscale\":[[0.0,\"#0d0887\"],[0.1111111111111111,\"#46039f\"],[0.2222222222222222,\"#7201a8\"],[0.3333333333333333,\"#9c179e\"],[0.4444444444444444,\"#bd3786\"],[0.5555555555555556,\"#d8576b\"],[0.6666666666666666,\"#ed7953\"],[0.7777777777777778,\"#fb9f3a\"],[0.8888888888888888,\"#fdca26\"],[1.0,\"#f0f921\"]]}],\"heatmap\":[{\"type\":\"heatmap\",\"colorbar\":{\"outlinewidth\":0,\"ticks\":\"\"},\"colorscale\":[[0.0,\"#0d0887\"],[0.1111111111111111,\"#46039f\"],[0.2222222222222222,\"#7201a8\"],[0.3333333333333333,\"#9c179e\"],[0.4444444444444444,\"#bd3786\"],[0.5555555555555556,\"#d8576b\"],[0.6666666666666666,\"#ed7953\"],[0.7777777777777778,\"#fb9f3a\"],[0.8888888888888888,\"#fdca26\"],[1.0,\"#f0f921\"]]}],\"heatmapgl\":[{\"type\":\"heatmapgl\",\"colorbar\":{\"outlinewidth\":0,\"ticks\":\"\"},\"colorscale\":[[0.0,\"#0d0887\"],[0.1111111111111111,\"#46039f\"],[0.2222222222222222,\"#7201a8\"],[0.3333333333333333,\"#9c179e\"],[0.4444444444444444,\"#bd3786\"],[0.5555555555555556,\"#d8576b\"],[0.6666666666666666,\"#ed7953\"],[0.7777777777777778,\"#fb9f3a\"],[0.8888888888888888,\"#fdca26\"],[1.0,\"#f0f921\"]]}],\"contourcarpet\":[{\"type\":\"contourcarpet\",\"colorbar\":{\"outlinewidth\":0,\"ticks\":\"\"}}],\"contour\":[{\"type\":\"contour\",\"colorbar\":{\"outlinewidth\":0,\"ticks\":\"\"},\"colorscale\":[[0.0,\"#0d0887\"],[0.1111111111111111,\"#46039f\"],[0.2222222222222222,\"#7201a8\"],[0.3333333333333333,\"#9c179e\"],[0.4444444444444444,\"#bd3786\"],[0.5555555555555556,\"#d8576b\"],[0.6666666666666666,\"#ed7953\"],[0.7777777777777778,\"#fb9f3a\"],[0.8888888888888888,\"#fdca26\"],[1.0,\"#f0f921\"]]}],\"surface\":[{\"type\":\"surface\",\"colorbar\":{\"outlinewidth\":0,\"ticks\":\"\"},\"colorscale\":[[0.0,\"#0d0887\"],[0.1111111111111111,\"#46039f\"],[0.2222222222222222,\"#7201a8\"],[0.3333333333333333,\"#9c179e\"],[0.4444444444444444,\"#bd3786\"],[0.5555555555555556,\"#d8576b\"],[0.6666666666666666,\"#ed7953\"],[0.7777777777777778,\"#fb9f3a\"],[0.8888888888888888,\"#fdca26\"],[1.0,\"#f0f921\"]]}],\"mesh3d\":[{\"type\":\"mesh3d\",\"colorbar\":{\"outlinewidth\":0,\"ticks\":\"\"}}],\"scatter\":[{\"marker\":{\"line\":{\"color\":\"#283442\"}},\"type\":\"scatter\"}],\"parcoords\":[{\"type\":\"parcoords\",\"line\":{\"colorbar\":{\"outlinewidth\":0,\"ticks\":\"\"}}}],\"scatterpolargl\":[{\"type\":\"scatterpolargl\",\"marker\":{\"colorbar\":{\"outlinewidth\":0,\"ticks\":\"\"}}}],\"bar\":[{\"error_x\":{\"color\":\"#f2f5fa\"},\"error_y\":{\"color\":\"#f2f5fa\"},\"marker\":{\"line\":{\"color\":\"rgb(17,17,17)\",\"width\":0.5},\"pattern\":{\"fillmode\":\"overlay\",\"size\":10,\"solidity\":0.2}},\"type\":\"bar\"}],\"scattergeo\":[{\"type\":\"scattergeo\",\"marker\":{\"colorbar\":{\"outlinewidth\":0,\"ticks\":\"\"}}}],\"scatterpolar\":[{\"type\":\"scatterpolar\",\"marker\":{\"colorbar\":{\"outlinewidth\":0,\"ticks\":\"\"}}}],\"histogram\":[{\"marker\":{\"pattern\":{\"fillmode\":\"overlay\",\"size\":10,\"solidity\":0.2}},\"type\":\"histogram\"}],\"scattergl\":[{\"marker\":{\"line\":{\"color\":\"#283442\"}},\"type\":\"scattergl\"}],\"scatter3d\":[{\"type\":\"scatter3d\",\"line\":{\"colorbar\":{\"outlinewidth\":0,\"ticks\":\"\"}},\"marker\":{\"colorbar\":{\"outlinewidth\":0,\"ticks\":\"\"}}}],\"scattermapbox\":[{\"type\":\"scattermapbox\",\"marker\":{\"colorbar\":{\"outlinewidth\":0,\"ticks\":\"\"}}}],\"scatterternary\":[{\"type\":\"scatterternary\",\"marker\":{\"colorbar\":{\"outlinewidth\":0,\"ticks\":\"\"}}}],\"scattercarpet\":[{\"type\":\"scattercarpet\",\"marker\":{\"colorbar\":{\"outlinewidth\":0,\"ticks\":\"\"}}}],\"carpet\":[{\"aaxis\":{\"endlinecolor\":\"#A2B1C6\",\"gridcolor\":\"#506784\",\"linecolor\":\"#506784\",\"minorgridcolor\":\"#506784\",\"startlinecolor\":\"#A2B1C6\"},\"baxis\":{\"endlinecolor\":\"#A2B1C6\",\"gridcolor\":\"#506784\",\"linecolor\":\"#506784\",\"minorgridcolor\":\"#506784\",\"startlinecolor\":\"#A2B1C6\"},\"type\":\"carpet\"}],\"table\":[{\"cells\":{\"fill\":{\"color\":\"#506784\"},\"line\":{\"color\":\"rgb(17,17,17)\"}},\"header\":{\"fill\":{\"color\":\"#2a3f5f\"},\"line\":{\"color\":\"rgb(17,17,17)\"}},\"type\":\"table\"}],\"barpolar\":[{\"marker\":{\"line\":{\"color\":\"rgb(17,17,17)\",\"width\":0.5},\"pattern\":{\"fillmode\":\"overlay\",\"size\":10,\"solidity\":0.2}},\"type\":\"barpolar\"}],\"pie\":[{\"automargin\":true,\"type\":\"pie\"}]},\"layout\":{\"autotypenumbers\":\"strict\",\"colorway\":[\"#636efa\",\"#EF553B\",\"#00cc96\",\"#ab63fa\",\"#FFA15A\",\"#19d3f3\",\"#FF6692\",\"#B6E880\",\"#FF97FF\",\"#FECB52\"],\"font\":{\"color\":\"#f2f5fa\"},\"hovermode\":\"closest\",\"hoverlabel\":{\"align\":\"left\"},\"paper_bgcolor\":\"rgb(17,17,17)\",\"plot_bgcolor\":\"rgb(17,17,17)\",\"polar\":{\"bgcolor\":\"rgb(17,17,17)\",\"angularaxis\":{\"gridcolor\":\"#506784\",\"linecolor\":\"#506784\",\"ticks\":\"\"},\"radialaxis\":{\"gridcolor\":\"#506784\",\"linecolor\":\"#506784\",\"ticks\":\"\"}},\"ternary\":{\"bgcolor\":\"rgb(17,17,17)\",\"aaxis\":{\"gridcolor\":\"#506784\",\"linecolor\":\"#506784\",\"ticks\":\"\"},\"baxis\":{\"gridcolor\":\"#506784\",\"linecolor\":\"#506784\",\"ticks\":\"\"},\"caxis\":{\"gridcolor\":\"#506784\",\"linecolor\":\"#506784\",\"ticks\":\"\"}},\"coloraxis\":{\"colorbar\":{\"outlinewidth\":0,\"ticks\":\"\"}},\"colorscale\":{\"sequential\":[[0.0,\"#0d0887\"],[0.1111111111111111,\"#46039f\"],[0.2222222222222222,\"#7201a8\"],[0.3333333333333333,\"#9c179e\"],[0.4444444444444444,\"#bd3786\"],[0.5555555555555556,\"#d8576b\"],[0.6666666666666666,\"#ed7953\"],[0.7777777777777778,\"#fb9f3a\"],[0.8888888888888888,\"#fdca26\"],[1.0,\"#f0f921\"]],\"sequentialminus\":[[0.0,\"#0d0887\"],[0.1111111111111111,\"#46039f\"],[0.2222222222222222,\"#7201a8\"],[0.3333333333333333,\"#9c179e\"],[0.4444444444444444,\"#bd3786\"],[0.5555555555555556,\"#d8576b\"],[0.6666666666666666,\"#ed7953\"],[0.7777777777777778,\"#fb9f3a\"],[0.8888888888888888,\"#fdca26\"],[1.0,\"#f0f921\"]],\"diverging\":[[0,\"#8e0152\"],[0.1,\"#c51b7d\"],[0.2,\"#de77ae\"],[0.3,\"#f1b6da\"],[0.4,\"#fde0ef\"],[0.5,\"#f7f7f7\"],[0.6,\"#e6f5d0\"],[0.7,\"#b8e186\"],[0.8,\"#7fbc41\"],[0.9,\"#4d9221\"],[1,\"#276419\"]]},\"xaxis\":{\"gridcolor\":\"#283442\",\"linecolor\":\"#506784\",\"ticks\":\"\",\"title\":{\"standoff\":15},\"zerolinecolor\":\"#283442\",\"automargin\":true,\"zerolinewidth\":2},\"yaxis\":{\"gridcolor\":\"#283442\",\"linecolor\":\"#506784\",\"ticks\":\"\",\"title\":{\"standoff\":15},\"zerolinecolor\":\"#283442\",\"automargin\":true,\"zerolinewidth\":2},\"scene\":{\"xaxis\":{\"backgroundcolor\":\"rgb(17,17,17)\",\"gridcolor\":\"#506784\",\"linecolor\":\"#506784\",\"showbackground\":true,\"ticks\":\"\",\"zerolinecolor\":\"#C8D4E3\",\"gridwidth\":2},\"yaxis\":{\"backgroundcolor\":\"rgb(17,17,17)\",\"gridcolor\":\"#506784\",\"linecolor\":\"#506784\",\"showbackground\":true,\"ticks\":\"\",\"zerolinecolor\":\"#C8D4E3\",\"gridwidth\":2},\"zaxis\":{\"backgroundcolor\":\"rgb(17,17,17)\",\"gridcolor\":\"#506784\",\"linecolor\":\"#506784\",\"showbackground\":true,\"ticks\":\"\",\"zerolinecolor\":\"#C8D4E3\",\"gridwidth\":2}},\"shapedefaults\":{\"line\":{\"color\":\"#f2f5fa\"}},\"annotationdefaults\":{\"arrowcolor\":\"#f2f5fa\",\"arrowhead\":0,\"arrowwidth\":1},\"geo\":{\"bgcolor\":\"rgb(17,17,17)\",\"landcolor\":\"rgb(17,17,17)\",\"subunitcolor\":\"#506784\",\"showland\":true,\"showlakes\":true,\"lakecolor\":\"rgb(17,17,17)\"},\"title\":{\"x\":0.05},\"updatemenudefaults\":{\"bgcolor\":\"#506784\",\"borderwidth\":0},\"sliderdefaults\":{\"bgcolor\":\"#C8D4E3\",\"borderwidth\":1,\"bordercolor\":\"rgb(17,17,17)\",\"tickwidth\":0},\"mapbox\":{\"style\":\"dark\"}}},\"geo\":{\"domain\":{\"x\":[0.0,0.45],\"y\":[0.0,1.0]},\"projection\":{\"type\":\"mercator\"}},\"geo2\":{\"domain\":{\"x\":[0.55,1.0],\"y\":[0.0,1.0]},\"projection\":{\"type\":\"mercator\"}},\"annotations\":[{\"font\":{\"size\":16},\"showarrow\":false,\"text\":\"High Deaths\",\"x\":0.225,\"xanchor\":\"center\",\"xref\":\"paper\",\"y\":0.9,\"yanchor\":\"bottom\",\"yref\":\"paper\"},{\"font\":{\"size\":16},\"showarrow\":false,\"text\":\"Low Deaths\",\"x\":0.775,\"xanchor\":\"center\",\"xref\":\"paper\",\"y\":0.9,\"yanchor\":\"bottom\",\"yref\":\"paper\"}],\"margin\":{\"r\":0,\"t\":0,\"l\":10,\"b\":0},\"height\":450,\"width\":800},                        {\"responsive\": true}                    ).then(function(){\n",
              "                            \n",
              "var gd = document.getElementById('05dc8a8f-2c08-49c8-8c6b-442c1ae2e4b6');\n",
              "var x = new MutationObserver(function (mutations, observer) {{\n",
              "        var display = window.getComputedStyle(gd).display;\n",
              "        if (!display || display === 'none') {{\n",
              "            console.log([gd, 'removed!']);\n",
              "            Plotly.purge(gd);\n",
              "            observer.disconnect();\n",
              "        }}\n",
              "}});\n",
              "\n",
              "// Listen for the removal of the full notebook cells\n",
              "var notebookContainer = gd.closest('#notebook-container');\n",
              "if (notebookContainer) {{\n",
              "    x.observe(notebookContainer, {childList: true});\n",
              "}}\n",
              "\n",
              "// Listen for the clearing of the current output cell\n",
              "var outputEl = gd.closest('.output');\n",
              "if (outputEl) {{\n",
              "    x.observe(outputEl, {childList: true});\n",
              "}}\n",
              "\n",
              "                        })                };                            </script>        </div>\n",
              "</body>\n",
              "</html>"
            ]
          },
          "metadata": {}
        }
      ],
      "source": [
        "import plotly.graph_objects as go\n",
        "from plotly.subplots import make_subplots\n",
        "\n",
        "# Define the threshold\n",
        "threshold = 40000  # Example threshold\n",
        "\n",
        "# Splitting datasets\n",
        "high_cases_df = data_country_wise_latest[data_country_wise_latest['Deaths'] > threshold]\n",
        "low_cases_df = data_country_wise_latest[data_country_wise_latest['Deaths'] <= threshold]\n",
        "\n",
        "# Creating choropleth maps\n",
        "trace_high = go.Choropleth(\n",
        "    locations=high_cases_df['ISO_Code'],\n",
        "    z=high_cases_df['Deaths'],\n",
        "    colorscale='Reds',\n",
        "    name='High cases',\n",
        "    colorbar=dict(thickness=15, len=0.5, x=0.45)\n",
        ")\n",
        "\n",
        "trace_low = go.Choropleth(\n",
        "    locations=low_cases_df['ISO_Code'],\n",
        "    z=low_cases_df['Deaths'],\n",
        "    colorscale='Blues',\n",
        "    name='Low cases',\n",
        "    colorbar=dict(thickness=15, len=0.5, x=1)\n",
        ")\n",
        "\n",
        "# Creating a subplot with geo subplot type\n",
        "fig = make_subplots(\n",
        "    rows=1, cols=2,\n",
        "    subplot_titles=('High Deaths', 'Low Deaths'),\n",
        "    column_widths=[0.5, 0.5],\n",
        "    specs=[[{'type': 'choropleth'}, {'type': 'choropleth'}]]\n",
        ")\n",
        "\n",
        "# Adding the choropleth maps to the subplot\n",
        "fig.add_trace(trace_high, 1, 1)\n",
        "fig.add_trace(trace_low, 1, 2)\n",
        "\n",
        "# Updating the layout, geo properties, and reducing the gap\n",
        "fig.update_layout(\n",
        "    height=450,\n",
        "    width=800,\n",
        "    margin={\"r\":0,\"t\":0,\"l\":10,\"b\":0}\n",
        ")\n",
        "fig.update_geos(projection_type=\"mercator\")\n",
        "\n",
        "# Adjusting the title properties for a reduced gap\n",
        "for annotation in fig['layout']['annotations']:\n",
        "    annotation['yanchor']='bottom'\n",
        "    annotation['y']=0.9\n",
        "\n",
        "fig.show()\n"
      ]
    },
    {
      "cell_type": "markdown",
      "source": [
        "## Deaths/100 cases"
      ],
      "metadata": {
        "id": "VhQevjH8Y2fv"
      }
    },
    {
      "cell_type": "code",
      "execution_count": null,
      "metadata": {
        "colab": {
          "base_uri": "https://localhost:8080/",
          "height": 467
        },
        "id": "VZG07yX2qyhj",
        "outputId": "a47d2bf5-d582-4488-ba09-e1432e67c277"
      },
      "outputs": [
        {
          "output_type": "display_data",
          "data": {
            "text/html": [
              "<html>\n",
              "<head><meta charset=\"utf-8\" /></head>\n",
              "<body>\n",
              "    <div>            <script src=\"https://cdnjs.cloudflare.com/ajax/libs/mathjax/2.7.5/MathJax.js?config=TeX-AMS-MML_SVG\"></script><script type=\"text/javascript\">if (window.MathJax && window.MathJax.Hub && window.MathJax.Hub.Config) {window.MathJax.Hub.Config({SVG: {font: \"STIX-Web\"}});}</script>                <script type=\"text/javascript\">window.PlotlyConfig = {MathJaxConfig: 'local'};</script>\n",
              "        <script charset=\"utf-8\" src=\"https://cdn.plot.ly/plotly-2.24.1.min.js\"></script>                <div id=\"f6d2fcec-33c1-47c5-83ba-1139667c4c8a\" class=\"plotly-graph-div\" style=\"height:450px; width:800px;\"></div>            <script type=\"text/javascript\">                                    window.PLOTLYENV=window.PLOTLYENV || {};                                    if (document.getElementById(\"f6d2fcec-33c1-47c5-83ba-1139667c4c8a\")) {                    Plotly.newPlot(                        \"f6d2fcec-33c1-47c5-83ba-1139667c4c8a\",                        [{\"colorbar\":{\"len\":0.5,\"thickness\":15,\"x\":0.45},\"colorscale\":[[0.0,\"rgb(255,245,240)\"],[0.125,\"rgb(254,224,210)\"],[0.25,\"rgb(252,187,161)\"],[0.375,\"rgb(252,146,114)\"],[0.5,\"rgb(251,106,74)\"],[0.625,\"rgb(239,59,44)\"],[0.75,\"rgb(203,24,29)\"],[0.875,\"rgb(165,15,21)\"],[1.0,\"rgb(103,0,13)\"]],\"locations\":[\"BEL\",\"FRA\",\"HUN\",\"ITA\",\"MEX\",\"NLD\",\"ESP\",\"GBR\",\"YEM\"],\"name\":\"High Death\\u002f100 Cases\",\"z\":[14.79,13.71,13.4,14.26,11.13,11.53,10.44,15.19,28.56],\"type\":\"choropleth\",\"geo\":\"geo\"},{\"colorbar\":{\"len\":0.5,\"thickness\":15,\"x\":1},\"colorscale\":[[0.0,\"rgb(247,251,255)\"],[0.125,\"rgb(222,235,247)\"],[0.25,\"rgb(198,219,239)\"],[0.375,\"rgb(158,202,225)\"],[0.5,\"rgb(107,174,214)\"],[0.625,\"rgb(66,146,198)\"],[0.75,\"rgb(33,113,181)\"],[0.875,\"rgb(8,81,156)\"],[1.0,\"rgb(8,48,107)\"]],\"locations\":[\"AFG\",\"ALB\",\"DZA\",\"AND\",\"AGO\",\"ATG\",\"ARG\",\"ARM\",\"AUS\",\"AUT\",\"AZE\",\"BHS\",\"BHR\",\"BGD\",\"BRB\",\"BLR\",\"BLZ\",\"BEN\",\"BTN\",\"BOL\",\"BIH\",\"BWA\",\"BRA\",\"BRN\",\"BGR\",\"BFA\",\"MMR\",\"BDI\",\"CPV\",\"KHM\",\"CMR\",\"CAN\",\"CAF\",\"TCD\",\"CHL\",\"CHN\",\"COL\",\"COM\",\"COG\",\"COD\",\"CRI\",\"CIV\",\"HRV\",\"CUB\",\"CYP\",\"CZE\",\"DNK\",\"DJI\",\"DMA\",\"DOM\",\"ECU\",\"EGY\",\"SLV\",\"GNQ\",\"ERI\",\"EST\",\"SWZ\",\"ETH\",\"FJI\",\"FIN\",\"GAB\",\"GMB\",\"GEO\",\"DEU\",\"GHA\",\"GRC\",\"GRL\",\"GRD\",\"GTM\",\"GIN\",\"GNB\",\"GUY\",\"HTI\",\"VAT\",\"HND\",\"ISL\",\"IND\",\"IDN\",\"IRN\",\"IRQ\",\"IRL\",\"ISR\",\"JAM\",\"JPN\",\"JOR\",\"KAZ\",\"KEN\",null,\"KWT\",\"KGZ\",\"LAO\",\"LVA\",\"LBN\",\"LSO\",\"LBR\",\"LBY\",\"LIE\",\"LTU\",\"LUX\",\"MDG\",\"MWI\",\"MYS\",\"MDV\",\"MLI\",\"MLT\",\"MRT\",\"MUS\",\"MDA\",\"MCO\",\"MNG\",\"MNE\",\"MAR\",\"MOZ\",\"NAM\",\"NPL\",\"NZL\",\"NIC\",\"NER\",\"NGA\",\"MKD\",\"NOR\",\"OMN\",\"PAK\",\"PAN\",\"PNG\",\"PRY\",\"PER\",\"PHL\",\"POL\",\"PRT\",\"QAT\",\"ROU\",\"RUS\",\"RWA\",\"KNA\",\"LCA\",\"VCT\",\"SMR\",\"STP\",\"SAU\",\"SEN\",\"SRB\",\"SYC\",\"SLE\",\"SGP\",\"SVK\",\"SVN\",\"SOM\",\"ZAF\",\"KOR\",\"SSD\",\"LKA\",\"SDN\",\"SUR\",\"SWE\",\"CHE\",\"SYR\",null,\"TJK\",\"TZA\",\"THA\",\"TLS\",\"TGO\",\"TTO\",\"TUN\",\"TUR\",\"USA\",\"UGA\",\"UKR\",\"ARE\",\"URY\",\"UZB\",\"VEN\",\"VNM\",\"PSE\",\"ESH\",\"ZMB\",\"ZWE\"],\"name\":\"Low Death\\u002f100 Cases\",\"z\":[3.5,2.95,4.16,5.73,4.32,3.49,1.83,1.9,1.09,3.47,1.39,2.88,0.36,1.31,6.36,0.8,4.17,1.98,0.0,3.72,2.8,0.27,3.59,2.13,3.27,4.82,1.71,0.26,0.95,0.0,2.29,7.68,1.28,8.13,2.64,5.37,3.41,1.98,1.69,2.35,0.73,0.61,2.85,3.44,1.79,2.4,4.45,1.15,0.0,1.69,6.82,5.03,2.71,1.66,0.0,3.39,1.47,1.57,0.0,4.45,0.68,2.45,1.41,4.41,0.5,4.78,0.0,0.0,3.89,0.64,1.33,5.14,2.15,0.0,2.93,0.54,2.26,4.82,5.42,3.96,6.81,0.74,1.17,3.2,0.94,0.69,1.59,2.5,0.68,3.91,0.0,2.54,1.31,2.38,6.17,2.26,1.16,3.96,1.77,0.94,2.7,1.39,0.45,4.93,1.28,2.51,2.91,3.23,3.45,0.0,1.56,1.51,0.65,0.43,0.26,1.41,3.14,6.1,2.09,4.56,2.79,0.51,2.13,2.15,0.0,0.95,4.73,2.37,3.86,3.42,0.15,4.81,1.63,0.27,0.0,0.0,0.0,6.01,1.62,1.03,1.99,2.25,0.0,3.7,0.05,1.28,5.56,2.91,1.56,2.11,2.0,0.39,6.3,1.62,7.18,5.74,5.93,1.52,0.83,4.13,1.76,0.0,2.06,5.41,3.44,2.48,3.45,0.18,2.44,0.58,2.91,0.57,0.91,0.0,0.73,10.0,3.08,1.33],\"type\":\"choropleth\",\"geo\":\"geo2\"}],                        {\"template\":{\"data\":{\"histogram2dcontour\":[{\"type\":\"histogram2dcontour\",\"colorbar\":{\"outlinewidth\":0,\"ticks\":\"\"},\"colorscale\":[[0.0,\"#0d0887\"],[0.1111111111111111,\"#46039f\"],[0.2222222222222222,\"#7201a8\"],[0.3333333333333333,\"#9c179e\"],[0.4444444444444444,\"#bd3786\"],[0.5555555555555556,\"#d8576b\"],[0.6666666666666666,\"#ed7953\"],[0.7777777777777778,\"#fb9f3a\"],[0.8888888888888888,\"#fdca26\"],[1.0,\"#f0f921\"]]}],\"choropleth\":[{\"type\":\"choropleth\",\"colorbar\":{\"outlinewidth\":0,\"ticks\":\"\"}}],\"histogram2d\":[{\"type\":\"histogram2d\",\"colorbar\":{\"outlinewidth\":0,\"ticks\":\"\"},\"colorscale\":[[0.0,\"#0d0887\"],[0.1111111111111111,\"#46039f\"],[0.2222222222222222,\"#7201a8\"],[0.3333333333333333,\"#9c179e\"],[0.4444444444444444,\"#bd3786\"],[0.5555555555555556,\"#d8576b\"],[0.6666666666666666,\"#ed7953\"],[0.7777777777777778,\"#fb9f3a\"],[0.8888888888888888,\"#fdca26\"],[1.0,\"#f0f921\"]]}],\"heatmap\":[{\"type\":\"heatmap\",\"colorbar\":{\"outlinewidth\":0,\"ticks\":\"\"},\"colorscale\":[[0.0,\"#0d0887\"],[0.1111111111111111,\"#46039f\"],[0.2222222222222222,\"#7201a8\"],[0.3333333333333333,\"#9c179e\"],[0.4444444444444444,\"#bd3786\"],[0.5555555555555556,\"#d8576b\"],[0.6666666666666666,\"#ed7953\"],[0.7777777777777778,\"#fb9f3a\"],[0.8888888888888888,\"#fdca26\"],[1.0,\"#f0f921\"]]}],\"heatmapgl\":[{\"type\":\"heatmapgl\",\"colorbar\":{\"outlinewidth\":0,\"ticks\":\"\"},\"colorscale\":[[0.0,\"#0d0887\"],[0.1111111111111111,\"#46039f\"],[0.2222222222222222,\"#7201a8\"],[0.3333333333333333,\"#9c179e\"],[0.4444444444444444,\"#bd3786\"],[0.5555555555555556,\"#d8576b\"],[0.6666666666666666,\"#ed7953\"],[0.7777777777777778,\"#fb9f3a\"],[0.8888888888888888,\"#fdca26\"],[1.0,\"#f0f921\"]]}],\"contourcarpet\":[{\"type\":\"contourcarpet\",\"colorbar\":{\"outlinewidth\":0,\"ticks\":\"\"}}],\"contour\":[{\"type\":\"contour\",\"colorbar\":{\"outlinewidth\":0,\"ticks\":\"\"},\"colorscale\":[[0.0,\"#0d0887\"],[0.1111111111111111,\"#46039f\"],[0.2222222222222222,\"#7201a8\"],[0.3333333333333333,\"#9c179e\"],[0.4444444444444444,\"#bd3786\"],[0.5555555555555556,\"#d8576b\"],[0.6666666666666666,\"#ed7953\"],[0.7777777777777778,\"#fb9f3a\"],[0.8888888888888888,\"#fdca26\"],[1.0,\"#f0f921\"]]}],\"surface\":[{\"type\":\"surface\",\"colorbar\":{\"outlinewidth\":0,\"ticks\":\"\"},\"colorscale\":[[0.0,\"#0d0887\"],[0.1111111111111111,\"#46039f\"],[0.2222222222222222,\"#7201a8\"],[0.3333333333333333,\"#9c179e\"],[0.4444444444444444,\"#bd3786\"],[0.5555555555555556,\"#d8576b\"],[0.6666666666666666,\"#ed7953\"],[0.7777777777777778,\"#fb9f3a\"],[0.8888888888888888,\"#fdca26\"],[1.0,\"#f0f921\"]]}],\"mesh3d\":[{\"type\":\"mesh3d\",\"colorbar\":{\"outlinewidth\":0,\"ticks\":\"\"}}],\"scatter\":[{\"marker\":{\"line\":{\"color\":\"#283442\"}},\"type\":\"scatter\"}],\"parcoords\":[{\"type\":\"parcoords\",\"line\":{\"colorbar\":{\"outlinewidth\":0,\"ticks\":\"\"}}}],\"scatterpolargl\":[{\"type\":\"scatterpolargl\",\"marker\":{\"colorbar\":{\"outlinewidth\":0,\"ticks\":\"\"}}}],\"bar\":[{\"error_x\":{\"color\":\"#f2f5fa\"},\"error_y\":{\"color\":\"#f2f5fa\"},\"marker\":{\"line\":{\"color\":\"rgb(17,17,17)\",\"width\":0.5},\"pattern\":{\"fillmode\":\"overlay\",\"size\":10,\"solidity\":0.2}},\"type\":\"bar\"}],\"scattergeo\":[{\"type\":\"scattergeo\",\"marker\":{\"colorbar\":{\"outlinewidth\":0,\"ticks\":\"\"}}}],\"scatterpolar\":[{\"type\":\"scatterpolar\",\"marker\":{\"colorbar\":{\"outlinewidth\":0,\"ticks\":\"\"}}}],\"histogram\":[{\"marker\":{\"pattern\":{\"fillmode\":\"overlay\",\"size\":10,\"solidity\":0.2}},\"type\":\"histogram\"}],\"scattergl\":[{\"marker\":{\"line\":{\"color\":\"#283442\"}},\"type\":\"scattergl\"}],\"scatter3d\":[{\"type\":\"scatter3d\",\"line\":{\"colorbar\":{\"outlinewidth\":0,\"ticks\":\"\"}},\"marker\":{\"colorbar\":{\"outlinewidth\":0,\"ticks\":\"\"}}}],\"scattermapbox\":[{\"type\":\"scattermapbox\",\"marker\":{\"colorbar\":{\"outlinewidth\":0,\"ticks\":\"\"}}}],\"scatterternary\":[{\"type\":\"scatterternary\",\"marker\":{\"colorbar\":{\"outlinewidth\":0,\"ticks\":\"\"}}}],\"scattercarpet\":[{\"type\":\"scattercarpet\",\"marker\":{\"colorbar\":{\"outlinewidth\":0,\"ticks\":\"\"}}}],\"carpet\":[{\"aaxis\":{\"endlinecolor\":\"#A2B1C6\",\"gridcolor\":\"#506784\",\"linecolor\":\"#506784\",\"minorgridcolor\":\"#506784\",\"startlinecolor\":\"#A2B1C6\"},\"baxis\":{\"endlinecolor\":\"#A2B1C6\",\"gridcolor\":\"#506784\",\"linecolor\":\"#506784\",\"minorgridcolor\":\"#506784\",\"startlinecolor\":\"#A2B1C6\"},\"type\":\"carpet\"}],\"table\":[{\"cells\":{\"fill\":{\"color\":\"#506784\"},\"line\":{\"color\":\"rgb(17,17,17)\"}},\"header\":{\"fill\":{\"color\":\"#2a3f5f\"},\"line\":{\"color\":\"rgb(17,17,17)\"}},\"type\":\"table\"}],\"barpolar\":[{\"marker\":{\"line\":{\"color\":\"rgb(17,17,17)\",\"width\":0.5},\"pattern\":{\"fillmode\":\"overlay\",\"size\":10,\"solidity\":0.2}},\"type\":\"barpolar\"}],\"pie\":[{\"automargin\":true,\"type\":\"pie\"}]},\"layout\":{\"autotypenumbers\":\"strict\",\"colorway\":[\"#636efa\",\"#EF553B\",\"#00cc96\",\"#ab63fa\",\"#FFA15A\",\"#19d3f3\",\"#FF6692\",\"#B6E880\",\"#FF97FF\",\"#FECB52\"],\"font\":{\"color\":\"#f2f5fa\"},\"hovermode\":\"closest\",\"hoverlabel\":{\"align\":\"left\"},\"paper_bgcolor\":\"rgb(17,17,17)\",\"plot_bgcolor\":\"rgb(17,17,17)\",\"polar\":{\"bgcolor\":\"rgb(17,17,17)\",\"angularaxis\":{\"gridcolor\":\"#506784\",\"linecolor\":\"#506784\",\"ticks\":\"\"},\"radialaxis\":{\"gridcolor\":\"#506784\",\"linecolor\":\"#506784\",\"ticks\":\"\"}},\"ternary\":{\"bgcolor\":\"rgb(17,17,17)\",\"aaxis\":{\"gridcolor\":\"#506784\",\"linecolor\":\"#506784\",\"ticks\":\"\"},\"baxis\":{\"gridcolor\":\"#506784\",\"linecolor\":\"#506784\",\"ticks\":\"\"},\"caxis\":{\"gridcolor\":\"#506784\",\"linecolor\":\"#506784\",\"ticks\":\"\"}},\"coloraxis\":{\"colorbar\":{\"outlinewidth\":0,\"ticks\":\"\"}},\"colorscale\":{\"sequential\":[[0.0,\"#0d0887\"],[0.1111111111111111,\"#46039f\"],[0.2222222222222222,\"#7201a8\"],[0.3333333333333333,\"#9c179e\"],[0.4444444444444444,\"#bd3786\"],[0.5555555555555556,\"#d8576b\"],[0.6666666666666666,\"#ed7953\"],[0.7777777777777778,\"#fb9f3a\"],[0.8888888888888888,\"#fdca26\"],[1.0,\"#f0f921\"]],\"sequentialminus\":[[0.0,\"#0d0887\"],[0.1111111111111111,\"#46039f\"],[0.2222222222222222,\"#7201a8\"],[0.3333333333333333,\"#9c179e\"],[0.4444444444444444,\"#bd3786\"],[0.5555555555555556,\"#d8576b\"],[0.6666666666666666,\"#ed7953\"],[0.7777777777777778,\"#fb9f3a\"],[0.8888888888888888,\"#fdca26\"],[1.0,\"#f0f921\"]],\"diverging\":[[0,\"#8e0152\"],[0.1,\"#c51b7d\"],[0.2,\"#de77ae\"],[0.3,\"#f1b6da\"],[0.4,\"#fde0ef\"],[0.5,\"#f7f7f7\"],[0.6,\"#e6f5d0\"],[0.7,\"#b8e186\"],[0.8,\"#7fbc41\"],[0.9,\"#4d9221\"],[1,\"#276419\"]]},\"xaxis\":{\"gridcolor\":\"#283442\",\"linecolor\":\"#506784\",\"ticks\":\"\",\"title\":{\"standoff\":15},\"zerolinecolor\":\"#283442\",\"automargin\":true,\"zerolinewidth\":2},\"yaxis\":{\"gridcolor\":\"#283442\",\"linecolor\":\"#506784\",\"ticks\":\"\",\"title\":{\"standoff\":15},\"zerolinecolor\":\"#283442\",\"automargin\":true,\"zerolinewidth\":2},\"scene\":{\"xaxis\":{\"backgroundcolor\":\"rgb(17,17,17)\",\"gridcolor\":\"#506784\",\"linecolor\":\"#506784\",\"showbackground\":true,\"ticks\":\"\",\"zerolinecolor\":\"#C8D4E3\",\"gridwidth\":2},\"yaxis\":{\"backgroundcolor\":\"rgb(17,17,17)\",\"gridcolor\":\"#506784\",\"linecolor\":\"#506784\",\"showbackground\":true,\"ticks\":\"\",\"zerolinecolor\":\"#C8D4E3\",\"gridwidth\":2},\"zaxis\":{\"backgroundcolor\":\"rgb(17,17,17)\",\"gridcolor\":\"#506784\",\"linecolor\":\"#506784\",\"showbackground\":true,\"ticks\":\"\",\"zerolinecolor\":\"#C8D4E3\",\"gridwidth\":2}},\"shapedefaults\":{\"line\":{\"color\":\"#f2f5fa\"}},\"annotationdefaults\":{\"arrowcolor\":\"#f2f5fa\",\"arrowhead\":0,\"arrowwidth\":1},\"geo\":{\"bgcolor\":\"rgb(17,17,17)\",\"landcolor\":\"rgb(17,17,17)\",\"subunitcolor\":\"#506784\",\"showland\":true,\"showlakes\":true,\"lakecolor\":\"rgb(17,17,17)\"},\"title\":{\"x\":0.05},\"updatemenudefaults\":{\"bgcolor\":\"#506784\",\"borderwidth\":0},\"sliderdefaults\":{\"bgcolor\":\"#C8D4E3\",\"borderwidth\":1,\"bordercolor\":\"rgb(17,17,17)\",\"tickwidth\":0},\"mapbox\":{\"style\":\"dark\"}}},\"geo\":{\"domain\":{\"x\":[0.0,0.45],\"y\":[0.0,1.0]},\"projection\":{\"type\":\"mercator\"}},\"geo2\":{\"domain\":{\"x\":[0.55,1.0],\"y\":[0.0,1.0]},\"projection\":{\"type\":\"mercator\"}},\"annotations\":[{\"font\":{\"size\":16},\"showarrow\":false,\"text\":\"High Deaths \\u002f 100 Cases\",\"x\":0.225,\"xanchor\":\"center\",\"xref\":\"paper\",\"y\":0.9,\"yanchor\":\"bottom\",\"yref\":\"paper\"},{\"font\":{\"size\":16},\"showarrow\":false,\"text\":\"Low Deaths \\u002f 100 Cases\",\"x\":0.775,\"xanchor\":\"center\",\"xref\":\"paper\",\"y\":0.9,\"yanchor\":\"bottom\",\"yref\":\"paper\"}],\"margin\":{\"r\":0,\"t\":0,\"l\":10,\"b\":0},\"height\":450,\"width\":800},                        {\"responsive\": true}                    ).then(function(){\n",
              "                            \n",
              "var gd = document.getElementById('f6d2fcec-33c1-47c5-83ba-1139667c4c8a');\n",
              "var x = new MutationObserver(function (mutations, observer) {{\n",
              "        var display = window.getComputedStyle(gd).display;\n",
              "        if (!display || display === 'none') {{\n",
              "            console.log([gd, 'removed!']);\n",
              "            Plotly.purge(gd);\n",
              "            observer.disconnect();\n",
              "        }}\n",
              "}});\n",
              "\n",
              "// Listen for the removal of the full notebook cells\n",
              "var notebookContainer = gd.closest('#notebook-container');\n",
              "if (notebookContainer) {{\n",
              "    x.observe(notebookContainer, {childList: true});\n",
              "}}\n",
              "\n",
              "// Listen for the clearing of the current output cell\n",
              "var outputEl = gd.closest('.output');\n",
              "if (outputEl) {{\n",
              "    x.observe(outputEl, {childList: true});\n",
              "}}\n",
              "\n",
              "                        })                };                            </script>        </div>\n",
              "</body>\n",
              "</html>"
            ]
          },
          "metadata": {}
        }
      ],
      "source": [
        "# Define the threshold\n",
        "threshold = 10  # Example threshold\n",
        "\n",
        "# Splitting datasets\n",
        "high_cases_df = data_country_wise_latest[data_country_wise_latest['Deaths / 100 Cases'] > threshold]\n",
        "low_cases_df = data_country_wise_latest[data_country_wise_latest['Deaths / 100 Cases'] <= threshold]\n",
        "\n",
        "# Creating choropleth maps\n",
        "trace_high = go.Choropleth(\n",
        "    locations=high_cases_df['ISO_Code'],\n",
        "    z=high_cases_df['Deaths / 100 Cases'],\n",
        "    colorscale='Reds',\n",
        "    name='High Death/100 Cases',\n",
        "    colorbar=dict(thickness=15, len=0.5, x=0.45)\n",
        ")\n",
        "\n",
        "trace_low = go.Choropleth(\n",
        "    locations=low_cases_df['ISO_Code'],\n",
        "    z=low_cases_df['Deaths / 100 Cases'],\n",
        "    colorscale='Blues',\n",
        "    name='Low Death/100 Cases',\n",
        "    colorbar=dict(thickness=15, len=0.5, x=1)\n",
        ")\n",
        "\n",
        "# Creating a subplot with geo subplot type\n",
        "fig = make_subplots(\n",
        "    rows=1, cols=2,\n",
        "    subplot_titles=('High Deaths / 100 Cases', 'Low Deaths / 100 Cases'),\n",
        "    column_widths=[0.5, 0.5],\n",
        "    specs=[[{'type': 'choropleth'}, {'type': 'choropleth'}]]\n",
        ")\n",
        "\n",
        "# Adding the choropleth maps to the subplot\n",
        "fig.add_trace(trace_high, 1, 1)\n",
        "fig.add_trace(trace_low, 1, 2)\n",
        "\n",
        "# Updating the layout, geo properties, and reducing the gap\n",
        "fig.update_layout(\n",
        "    height=450,\n",
        "    width=800,\n",
        "    margin={\"r\":0,\"t\":0,\"l\":10,\"b\":0}\n",
        ")\n",
        "fig.update_geos(projection_type=\"mercator\")\n",
        "\n",
        "# Adjusting the title properties for a reduced gap\n",
        "for annotation in fig['layout']['annotations']:\n",
        "    annotation['yanchor']='bottom'\n",
        "    annotation['y']=0.9\n",
        "\n",
        "fig.show()\n"
      ]
    },
    {
      "cell_type": "markdown",
      "source": [
        "## Recovered/100 cases"
      ],
      "metadata": {
        "id": "YYuKIi_BYx93"
      }
    },
    {
      "cell_type": "code",
      "execution_count": null,
      "metadata": {
        "colab": {
          "base_uri": "https://localhost:8080/",
          "height": 467
        },
        "id": "HNTkKIJVr0_G",
        "outputId": "dbce1238-bb74-439e-9f4d-911d6ab6007f"
      },
      "outputs": [
        {
          "output_type": "display_data",
          "data": {
            "text/html": [
              "<html>\n",
              "<head><meta charset=\"utf-8\" /></head>\n",
              "<body>\n",
              "    <div>            <script src=\"https://cdnjs.cloudflare.com/ajax/libs/mathjax/2.7.5/MathJax.js?config=TeX-AMS-MML_SVG\"></script><script type=\"text/javascript\">if (window.MathJax && window.MathJax.Hub && window.MathJax.Hub.Config) {window.MathJax.Hub.Config({SVG: {font: \"STIX-Web\"}});}</script>                <script type=\"text/javascript\">window.PlotlyConfig = {MathJaxConfig: 'local'};</script>\n",
              "        <script charset=\"utf-8\" src=\"https://cdn.plot.ly/plotly-2.24.1.min.js\"></script>                <div id=\"ab6f0c6e-34cd-48de-96f1-1513f45acf0b\" class=\"plotly-graph-div\" style=\"height:450px; width:800px;\"></div>            <script type=\"text/javascript\">                                    window.PLOTLYENV=window.PLOTLYENV || {};                                    if (document.getElementById(\"ab6f0c6e-34cd-48de-96f1-1513f45acf0b\")) {                    Plotly.newPlot(                        \"ab6f0c6e-34cd-48de-96f1-1513f45acf0b\",                        [{\"colorbar\":{\"len\":0.5,\"thickness\":15,\"x\":0.45},\"colorscale\":[[0.0,\"rgb(255,245,240)\"],[0.125,\"rgb(254,224,210)\"],[0.25,\"rgb(252,187,161)\"],[0.375,\"rgb(252,146,114)\"],[0.5,\"rgb(251,106,74)\"],[0.625,\"rgb(239,59,44)\"],[0.75,\"rgb(203,24,29)\"],[0.875,\"rgb(165,15,21)\"],[1.0,\"rgb(103,0,13)\"]],\"locations\":[\"AGO\",\"BHS\",\"BEL\",\"BOL\",\"BWA\",\"CAN\",\"CAF\",\"COG\",\"CRI\",\"EGY\",\"GNQ\",\"FRA\",\"GMB\",\"GRC\",\"HND\",\"LSO\",\"LBY\",\"MNE\",\"MOZ\",\"NAM\",\"NLD\",\"PNG\",\"PHL\",\"SRB\",\"SYC\",\"SWE\",\"SYR\",\"TZA\",\"TLS\",\"USA\",\"GBR\",\"PSE\",\"ZWE\"],\"name\":\"Low Recovered \\u002f 100 Cases\",\"z\":[25.47,23.82,26.27,30.17,8.53,0.0,33.62,25.91,24.14,37.67,27.42,36.86,20.25,32.51,12.68,25.35,20.41,27.96,0.0,5.48,0.35,17.74,32.24,0.0,34.21,0.0,0.0,35.95,0.0,30.9,0.48,35.33,20.04],\"type\":\"choropleth\",\"geo\":\"geo\"},{\"colorbar\":{\"len\":0.5,\"thickness\":15,\"x\":1},\"colorscale\":[[0.0,\"rgb(247,251,255)\"],[0.125,\"rgb(222,235,247)\"],[0.25,\"rgb(198,219,239)\"],[0.375,\"rgb(158,202,225)\"],[0.5,\"rgb(107,174,214)\"],[0.625,\"rgb(66,146,198)\"],[0.75,\"rgb(33,113,181)\"],[0.875,\"rgb(8,81,156)\"],[1.0,\"rgb(8,48,107)\"]],\"locations\":[\"AFG\",\"ALB\",\"DZA\",\"AND\",\"ATG\",\"ARG\",\"ARM\",\"AUS\",\"AUT\",\"AZE\",\"BHR\",\"BGD\",\"BRB\",\"BLR\",\"BLZ\",\"BEN\",\"BTN\",\"BIH\",\"BRA\",\"BRN\",\"BGR\",\"BFA\",\"MMR\",\"BDI\",\"CPV\",\"KHM\",\"CMR\",\"TCD\",\"CHL\",\"CHN\",\"COL\",\"COM\",\"COD\",\"CIV\",\"HRV\",\"CUB\",\"CYP\",\"CZE\",\"DNK\",\"DJI\",\"DMA\",\"DOM\",\"ECU\",\"SLV\",\"ERI\",\"EST\",\"SWZ\",\"ETH\",\"FJI\",\"FIN\",\"GAB\",\"GEO\",\"DEU\",\"GHA\",\"GRL\",\"GRD\",\"GTM\",\"GIN\",\"GNB\",\"GUY\",\"HTI\",\"VAT\",\"HUN\",\"ISL\",\"IND\",\"IDN\",\"IRN\",\"IRQ\",\"IRL\",\"ISR\",\"ITA\",\"JAM\",\"JPN\",\"JOR\",\"KAZ\",\"KEN\",null,\"KWT\",\"KGZ\",\"LAO\",\"LVA\",\"LBN\",\"LBR\",\"LIE\",\"LTU\",\"LUX\",\"MDG\",\"MWI\",\"MYS\",\"MDV\",\"MLI\",\"MLT\",\"MRT\",\"MUS\",\"MEX\",\"MDA\",\"MCO\",\"MNG\",\"MAR\",\"NPL\",\"NZL\",\"NIC\",\"NER\",\"NGA\",\"MKD\",\"NOR\",\"OMN\",\"PAK\",\"PAN\",\"PRY\",\"PER\",\"POL\",\"PRT\",\"QAT\",\"ROU\",\"RUS\",\"RWA\",\"KNA\",\"LCA\",\"VCT\",\"SMR\",\"STP\",\"SAU\",\"SEN\",\"SLE\",\"SGP\",\"SVK\",\"SVN\",\"SOM\",\"ZAF\",\"KOR\",\"SSD\",\"ESP\",\"LKA\",\"SDN\",\"SUR\",\"CHE\",null,\"TJK\",\"THA\",\"TGO\",\"TTO\",\"TUN\",\"TUR\",\"UGA\",\"UKR\",\"ARE\",\"URY\",\"UZB\",\"VEN\",\"VNM\",\"ESH\",\"YEM\",\"ZMB\"],\"name\":\"High Recovered \\u002f 100 Cases\",\"z\":[69.49,56.25,67.34,88.53,75.58,43.35,71.32,60.84,88.75,76.34,91.46,55.56,85.45,89.95,54.17,58.53,86.87,46.96,75.61,97.87,52.58,84.18,83.43,79.63,66.58,65.04,84.97,87.85,91.96,90.88,51.02,92.66,64.45,66.18,80.64,92.85,80.38,73.65,91.6,98.38,100.0,47.08,43.0,51.73,72.08,94.54,44.26,43.9,66.67,93.54,65.13,81.09,91.89,88.63,92.86,100.0,71.63,88.69,41.1,46.53,59.47,100.0,74.84,98.33,64.26,58.0,86.9,68.52,90.24,42.41,80.64,83.7,70.55,88.52,64.27,43.58,54.32,85.52,63.69,95.0,85.73,44.02,55.36,94.19,80.24,76.33,64.6,44.9,96.6,75.6,76.12,94.86,74.95,96.51,76.82,69.77,89.66,76.82,79.25,73.35,97.24,72.46,90.72,44.2,54.48,95.84,74.01,87.87,57.1,63.87,69.93,75.7,70.33,97.02,56.19,73.74,51.89,88.24,91.67,75.0,93.99,84.86,82.9,66.34,73.86,89.88,74.09,83.04,48.28,60.75,91.58,50.98,55.2,75.61,51.99,62.37,89.62,95.24,83.32,94.36,69.45,86.49,79.52,92.71,87.41,55.45,88.73,79.12,55.04,62.29,84.69,80.0,49.26,61.84],\"type\":\"choropleth\",\"geo\":\"geo2\"}],                        {\"template\":{\"data\":{\"histogram2dcontour\":[{\"type\":\"histogram2dcontour\",\"colorbar\":{\"outlinewidth\":0,\"ticks\":\"\"},\"colorscale\":[[0.0,\"#0d0887\"],[0.1111111111111111,\"#46039f\"],[0.2222222222222222,\"#7201a8\"],[0.3333333333333333,\"#9c179e\"],[0.4444444444444444,\"#bd3786\"],[0.5555555555555556,\"#d8576b\"],[0.6666666666666666,\"#ed7953\"],[0.7777777777777778,\"#fb9f3a\"],[0.8888888888888888,\"#fdca26\"],[1.0,\"#f0f921\"]]}],\"choropleth\":[{\"type\":\"choropleth\",\"colorbar\":{\"outlinewidth\":0,\"ticks\":\"\"}}],\"histogram2d\":[{\"type\":\"histogram2d\",\"colorbar\":{\"outlinewidth\":0,\"ticks\":\"\"},\"colorscale\":[[0.0,\"#0d0887\"],[0.1111111111111111,\"#46039f\"],[0.2222222222222222,\"#7201a8\"],[0.3333333333333333,\"#9c179e\"],[0.4444444444444444,\"#bd3786\"],[0.5555555555555556,\"#d8576b\"],[0.6666666666666666,\"#ed7953\"],[0.7777777777777778,\"#fb9f3a\"],[0.8888888888888888,\"#fdca26\"],[1.0,\"#f0f921\"]]}],\"heatmap\":[{\"type\":\"heatmap\",\"colorbar\":{\"outlinewidth\":0,\"ticks\":\"\"},\"colorscale\":[[0.0,\"#0d0887\"],[0.1111111111111111,\"#46039f\"],[0.2222222222222222,\"#7201a8\"],[0.3333333333333333,\"#9c179e\"],[0.4444444444444444,\"#bd3786\"],[0.5555555555555556,\"#d8576b\"],[0.6666666666666666,\"#ed7953\"],[0.7777777777777778,\"#fb9f3a\"],[0.8888888888888888,\"#fdca26\"],[1.0,\"#f0f921\"]]}],\"heatmapgl\":[{\"type\":\"heatmapgl\",\"colorbar\":{\"outlinewidth\":0,\"ticks\":\"\"},\"colorscale\":[[0.0,\"#0d0887\"],[0.1111111111111111,\"#46039f\"],[0.2222222222222222,\"#7201a8\"],[0.3333333333333333,\"#9c179e\"],[0.4444444444444444,\"#bd3786\"],[0.5555555555555556,\"#d8576b\"],[0.6666666666666666,\"#ed7953\"],[0.7777777777777778,\"#fb9f3a\"],[0.8888888888888888,\"#fdca26\"],[1.0,\"#f0f921\"]]}],\"contourcarpet\":[{\"type\":\"contourcarpet\",\"colorbar\":{\"outlinewidth\":0,\"ticks\":\"\"}}],\"contour\":[{\"type\":\"contour\",\"colorbar\":{\"outlinewidth\":0,\"ticks\":\"\"},\"colorscale\":[[0.0,\"#0d0887\"],[0.1111111111111111,\"#46039f\"],[0.2222222222222222,\"#7201a8\"],[0.3333333333333333,\"#9c179e\"],[0.4444444444444444,\"#bd3786\"],[0.5555555555555556,\"#d8576b\"],[0.6666666666666666,\"#ed7953\"],[0.7777777777777778,\"#fb9f3a\"],[0.8888888888888888,\"#fdca26\"],[1.0,\"#f0f921\"]]}],\"surface\":[{\"type\":\"surface\",\"colorbar\":{\"outlinewidth\":0,\"ticks\":\"\"},\"colorscale\":[[0.0,\"#0d0887\"],[0.1111111111111111,\"#46039f\"],[0.2222222222222222,\"#7201a8\"],[0.3333333333333333,\"#9c179e\"],[0.4444444444444444,\"#bd3786\"],[0.5555555555555556,\"#d8576b\"],[0.6666666666666666,\"#ed7953\"],[0.7777777777777778,\"#fb9f3a\"],[0.8888888888888888,\"#fdca26\"],[1.0,\"#f0f921\"]]}],\"mesh3d\":[{\"type\":\"mesh3d\",\"colorbar\":{\"outlinewidth\":0,\"ticks\":\"\"}}],\"scatter\":[{\"marker\":{\"line\":{\"color\":\"#283442\"}},\"type\":\"scatter\"}],\"parcoords\":[{\"type\":\"parcoords\",\"line\":{\"colorbar\":{\"outlinewidth\":0,\"ticks\":\"\"}}}],\"scatterpolargl\":[{\"type\":\"scatterpolargl\",\"marker\":{\"colorbar\":{\"outlinewidth\":0,\"ticks\":\"\"}}}],\"bar\":[{\"error_x\":{\"color\":\"#f2f5fa\"},\"error_y\":{\"color\":\"#f2f5fa\"},\"marker\":{\"line\":{\"color\":\"rgb(17,17,17)\",\"width\":0.5},\"pattern\":{\"fillmode\":\"overlay\",\"size\":10,\"solidity\":0.2}},\"type\":\"bar\"}],\"scattergeo\":[{\"type\":\"scattergeo\",\"marker\":{\"colorbar\":{\"outlinewidth\":0,\"ticks\":\"\"}}}],\"scatterpolar\":[{\"type\":\"scatterpolar\",\"marker\":{\"colorbar\":{\"outlinewidth\":0,\"ticks\":\"\"}}}],\"histogram\":[{\"marker\":{\"pattern\":{\"fillmode\":\"overlay\",\"size\":10,\"solidity\":0.2}},\"type\":\"histogram\"}],\"scattergl\":[{\"marker\":{\"line\":{\"color\":\"#283442\"}},\"type\":\"scattergl\"}],\"scatter3d\":[{\"type\":\"scatter3d\",\"line\":{\"colorbar\":{\"outlinewidth\":0,\"ticks\":\"\"}},\"marker\":{\"colorbar\":{\"outlinewidth\":0,\"ticks\":\"\"}}}],\"scattermapbox\":[{\"type\":\"scattermapbox\",\"marker\":{\"colorbar\":{\"outlinewidth\":0,\"ticks\":\"\"}}}],\"scatterternary\":[{\"type\":\"scatterternary\",\"marker\":{\"colorbar\":{\"outlinewidth\":0,\"ticks\":\"\"}}}],\"scattercarpet\":[{\"type\":\"scattercarpet\",\"marker\":{\"colorbar\":{\"outlinewidth\":0,\"ticks\":\"\"}}}],\"carpet\":[{\"aaxis\":{\"endlinecolor\":\"#A2B1C6\",\"gridcolor\":\"#506784\",\"linecolor\":\"#506784\",\"minorgridcolor\":\"#506784\",\"startlinecolor\":\"#A2B1C6\"},\"baxis\":{\"endlinecolor\":\"#A2B1C6\",\"gridcolor\":\"#506784\",\"linecolor\":\"#506784\",\"minorgridcolor\":\"#506784\",\"startlinecolor\":\"#A2B1C6\"},\"type\":\"carpet\"}],\"table\":[{\"cells\":{\"fill\":{\"color\":\"#506784\"},\"line\":{\"color\":\"rgb(17,17,17)\"}},\"header\":{\"fill\":{\"color\":\"#2a3f5f\"},\"line\":{\"color\":\"rgb(17,17,17)\"}},\"type\":\"table\"}],\"barpolar\":[{\"marker\":{\"line\":{\"color\":\"rgb(17,17,17)\",\"width\":0.5},\"pattern\":{\"fillmode\":\"overlay\",\"size\":10,\"solidity\":0.2}},\"type\":\"barpolar\"}],\"pie\":[{\"automargin\":true,\"type\":\"pie\"}]},\"layout\":{\"autotypenumbers\":\"strict\",\"colorway\":[\"#636efa\",\"#EF553B\",\"#00cc96\",\"#ab63fa\",\"#FFA15A\",\"#19d3f3\",\"#FF6692\",\"#B6E880\",\"#FF97FF\",\"#FECB52\"],\"font\":{\"color\":\"#f2f5fa\"},\"hovermode\":\"closest\",\"hoverlabel\":{\"align\":\"left\"},\"paper_bgcolor\":\"rgb(17,17,17)\",\"plot_bgcolor\":\"rgb(17,17,17)\",\"polar\":{\"bgcolor\":\"rgb(17,17,17)\",\"angularaxis\":{\"gridcolor\":\"#506784\",\"linecolor\":\"#506784\",\"ticks\":\"\"},\"radialaxis\":{\"gridcolor\":\"#506784\",\"linecolor\":\"#506784\",\"ticks\":\"\"}},\"ternary\":{\"bgcolor\":\"rgb(17,17,17)\",\"aaxis\":{\"gridcolor\":\"#506784\",\"linecolor\":\"#506784\",\"ticks\":\"\"},\"baxis\":{\"gridcolor\":\"#506784\",\"linecolor\":\"#506784\",\"ticks\":\"\"},\"caxis\":{\"gridcolor\":\"#506784\",\"linecolor\":\"#506784\",\"ticks\":\"\"}},\"coloraxis\":{\"colorbar\":{\"outlinewidth\":0,\"ticks\":\"\"}},\"colorscale\":{\"sequential\":[[0.0,\"#0d0887\"],[0.1111111111111111,\"#46039f\"],[0.2222222222222222,\"#7201a8\"],[0.3333333333333333,\"#9c179e\"],[0.4444444444444444,\"#bd3786\"],[0.5555555555555556,\"#d8576b\"],[0.6666666666666666,\"#ed7953\"],[0.7777777777777778,\"#fb9f3a\"],[0.8888888888888888,\"#fdca26\"],[1.0,\"#f0f921\"]],\"sequentialminus\":[[0.0,\"#0d0887\"],[0.1111111111111111,\"#46039f\"],[0.2222222222222222,\"#7201a8\"],[0.3333333333333333,\"#9c179e\"],[0.4444444444444444,\"#bd3786\"],[0.5555555555555556,\"#d8576b\"],[0.6666666666666666,\"#ed7953\"],[0.7777777777777778,\"#fb9f3a\"],[0.8888888888888888,\"#fdca26\"],[1.0,\"#f0f921\"]],\"diverging\":[[0,\"#8e0152\"],[0.1,\"#c51b7d\"],[0.2,\"#de77ae\"],[0.3,\"#f1b6da\"],[0.4,\"#fde0ef\"],[0.5,\"#f7f7f7\"],[0.6,\"#e6f5d0\"],[0.7,\"#b8e186\"],[0.8,\"#7fbc41\"],[0.9,\"#4d9221\"],[1,\"#276419\"]]},\"xaxis\":{\"gridcolor\":\"#283442\",\"linecolor\":\"#506784\",\"ticks\":\"\",\"title\":{\"standoff\":15},\"zerolinecolor\":\"#283442\",\"automargin\":true,\"zerolinewidth\":2},\"yaxis\":{\"gridcolor\":\"#283442\",\"linecolor\":\"#506784\",\"ticks\":\"\",\"title\":{\"standoff\":15},\"zerolinecolor\":\"#283442\",\"automargin\":true,\"zerolinewidth\":2},\"scene\":{\"xaxis\":{\"backgroundcolor\":\"rgb(17,17,17)\",\"gridcolor\":\"#506784\",\"linecolor\":\"#506784\",\"showbackground\":true,\"ticks\":\"\",\"zerolinecolor\":\"#C8D4E3\",\"gridwidth\":2},\"yaxis\":{\"backgroundcolor\":\"rgb(17,17,17)\",\"gridcolor\":\"#506784\",\"linecolor\":\"#506784\",\"showbackground\":true,\"ticks\":\"\",\"zerolinecolor\":\"#C8D4E3\",\"gridwidth\":2},\"zaxis\":{\"backgroundcolor\":\"rgb(17,17,17)\",\"gridcolor\":\"#506784\",\"linecolor\":\"#506784\",\"showbackground\":true,\"ticks\":\"\",\"zerolinecolor\":\"#C8D4E3\",\"gridwidth\":2}},\"shapedefaults\":{\"line\":{\"color\":\"#f2f5fa\"}},\"annotationdefaults\":{\"arrowcolor\":\"#f2f5fa\",\"arrowhead\":0,\"arrowwidth\":1},\"geo\":{\"bgcolor\":\"rgb(17,17,17)\",\"landcolor\":\"rgb(17,17,17)\",\"subunitcolor\":\"#506784\",\"showland\":true,\"showlakes\":true,\"lakecolor\":\"rgb(17,17,17)\"},\"title\":{\"x\":0.05},\"updatemenudefaults\":{\"bgcolor\":\"#506784\",\"borderwidth\":0},\"sliderdefaults\":{\"bgcolor\":\"#C8D4E3\",\"borderwidth\":1,\"bordercolor\":\"rgb(17,17,17)\",\"tickwidth\":0},\"mapbox\":{\"style\":\"dark\"}}},\"geo\":{\"domain\":{\"x\":[0.0,0.45],\"y\":[0.0,1.0]},\"projection\":{\"type\":\"mercator\"}},\"geo2\":{\"domain\":{\"x\":[0.55,1.0],\"y\":[0.0,1.0]},\"projection\":{\"type\":\"mercator\"}},\"annotations\":[{\"font\":{\"size\":16},\"showarrow\":false,\"text\":\"Low Recovered \\u002f 100 Cases\",\"x\":0.225,\"xanchor\":\"center\",\"xref\":\"paper\",\"y\":0.9,\"yanchor\":\"bottom\",\"yref\":\"paper\"},{\"font\":{\"size\":16},\"showarrow\":false,\"text\":\"High Recovered \\u002f 100 Cases\",\"x\":0.775,\"xanchor\":\"center\",\"xref\":\"paper\",\"y\":0.9,\"yanchor\":\"bottom\",\"yref\":\"paper\"}],\"margin\":{\"r\":0,\"t\":0,\"l\":10,\"b\":0},\"height\":450,\"width\":800},                        {\"responsive\": true}                    ).then(function(){\n",
              "                            \n",
              "var gd = document.getElementById('ab6f0c6e-34cd-48de-96f1-1513f45acf0b');\n",
              "var x = new MutationObserver(function (mutations, observer) {{\n",
              "        var display = window.getComputedStyle(gd).display;\n",
              "        if (!display || display === 'none') {{\n",
              "            console.log([gd, 'removed!']);\n",
              "            Plotly.purge(gd);\n",
              "            observer.disconnect();\n",
              "        }}\n",
              "}});\n",
              "\n",
              "// Listen for the removal of the full notebook cells\n",
              "var notebookContainer = gd.closest('#notebook-container');\n",
              "if (notebookContainer) {{\n",
              "    x.observe(notebookContainer, {childList: true});\n",
              "}}\n",
              "\n",
              "// Listen for the clearing of the current output cell\n",
              "var outputEl = gd.closest('.output');\n",
              "if (outputEl) {{\n",
              "    x.observe(outputEl, {childList: true});\n",
              "}}\n",
              "\n",
              "                        })                };                            </script>        </div>\n",
              "</body>\n",
              "</html>"
            ]
          },
          "metadata": {}
        }
      ],
      "source": [
        "# Define the threshold\n",
        "threshold = 40  # Example threshold\n",
        "\n",
        "# Splitting datasets\n",
        "high_cases_df = data_country_wise_latest[data_country_wise_latest['Recovered / 100 Cases'] <= threshold]\n",
        "low_cases_df = data_country_wise_latest[data_country_wise_latest['Recovered / 100 Cases'] > threshold]\n",
        "\n",
        "# Creating choropleth maps\n",
        "trace_high = go.Choropleth(\n",
        "    locations=high_cases_df['ISO_Code'],\n",
        "    z=high_cases_df['Recovered / 100 Cases'],\n",
        "    colorscale='Reds',\n",
        "    name='Low Recovered / 100 Cases',\n",
        "    colorbar=dict(thickness=15, len=0.5, x=0.45)\n",
        ")\n",
        "\n",
        "trace_low = go.Choropleth(\n",
        "    locations=low_cases_df['ISO_Code'],\n",
        "    z=low_cases_df['Recovered / 100 Cases'],\n",
        "    colorscale='Blues',\n",
        "    name='High Recovered / 100 Cases',\n",
        "    colorbar=dict(thickness=15, len=0.5, x=1)\n",
        ")\n",
        "\n",
        "# Creating a subplot with geo subplot type\n",
        "fig = make_subplots(\n",
        "    rows=1, cols=2,\n",
        "    subplot_titles=('Low Recovered / 100 Cases', 'High Recovered / 100 Cases'),\n",
        "    column_widths=[0.5, 0.5],\n",
        "    specs=[[{'type': 'choropleth'}, {'type': 'choropleth'}]]\n",
        ")\n",
        "\n",
        "# Adding the choropleth maps to the subplot\n",
        "fig.add_trace(trace_high, 1, 1)\n",
        "fig.add_trace(trace_low, 1, 2)\n",
        "\n",
        "# Updating the layout, geo properties, and reducing the gap\n",
        "fig.update_layout(\n",
        "    height=450,\n",
        "    width=800,\n",
        "    margin={\"r\":0,\"t\":0,\"l\":10,\"b\":0}\n",
        ")\n",
        "fig.update_geos(projection_type=\"mercator\")\n",
        "\n",
        "# Adjusting the title properties for a reduced gap\n",
        "for annotation in fig['layout']['annotations']:\n",
        "    annotation['yanchor']='bottom'\n",
        "    annotation['y']=0.9\n",
        "\n",
        "fig.show()\n"
      ]
    }
  ],
  "metadata": {
    "colab": {
      "provenance": [],
      "collapsed_sections": [
        "grYLq_dP3NZX",
        "Iy6QD18DRo5G",
        "wuwdD_hZbC0Y"
      ]
    },
    "kernelspec": {
      "display_name": "Python 3",
      "name": "python3"
    },
    "language_info": {
      "name": "python"
    }
  },
  "nbformat": 4,
  "nbformat_minor": 0
}